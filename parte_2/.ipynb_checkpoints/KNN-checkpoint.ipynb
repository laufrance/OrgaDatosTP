{
 "cells": [
  {
   "cell_type": "markdown",
   "metadata": {},
   "source": [
    "# **KNN**"
   ]
  },
  {
   "cell_type": "code",
   "execution_count": 1,
   "metadata": {},
   "outputs": [],
   "source": [
    "%load_ext autoreload\n",
    "%autoreload 2"
   ]
  },
  {
   "cell_type": "code",
   "execution_count": 2,
   "metadata": {},
   "outputs": [],
   "source": [
    "import pandas as pd\n",
    "import numpy as np\n",
    "import preprocessing as pp\n",
    "from sklearn.preprocessing import LabelEncoder\n",
    "from sklearn.metrics import accuracy_score\n",
    "from sklearn.metrics import confusion_matrix\n",
    "from sklearn.metrics import plot_confusion_matrix\n",
    "from sklearn.metrics import classification_report\n",
    "from sklearn.metrics import f1_score\n",
    "from sklearn.metrics import precision_score\n",
    "from sklearn.metrics import recall_score\n",
    "from sklearn.model_selection import train_test_split\n",
    "import seaborn as sns\n",
    "import matplotlib.pyplot as plt"
   ]
  },
  {
   "cell_type": "markdown",
   "metadata": {},
   "source": [
    "# Obtenemos los dataframes con los que trabajaremos"
   ]
  },
  {
   "cell_type": "code",
   "execution_count": 3,
   "metadata": {},
   "outputs": [],
   "source": [
    "X, y = pp.get_X_y_from_dataset()"
   ]
  },
  {
   "cell_type": "markdown",
   "metadata": {},
   "source": [
    "Hay un problema... la variable target \"llovieron_hamburguesas_al_dia_siguiente\" contiene NaNs (~2600). Esto es un problema a la hora de separar en train-valdev-holdout usando train_test_split si queremos preservar la proporción entre las clases del target en la partición (es decir, pasandole a esa función stratify=y). Como test-holdout nunca debe ver los datos de train o valdev, no deberíamos rellenar dichos NaNs usando datos de otras instancias (si no habría data leaks). Por ende, decidimos completar estos NaNs con la clase mayoritaria por lejos, el \"no\". "
   ]
  },
  {
   "cell_type": "code",
   "execution_count": 4,
   "metadata": {},
   "outputs": [],
   "source": [
    "y = pp.fill_nan_with_simple_imputer(y, [\"llovieron_hamburguesas_al_dia_siguiente\"], \"most_frequent\")"
   ]
  },
  {
   "cell_type": "markdown",
   "metadata": {},
   "source": [
    "También no necesitamos la columna de id."
   ]
  },
  {
   "cell_type": "code",
   "execution_count": 5,
   "metadata": {},
   "outputs": [],
   "source": [
    "pp.drop_features(y, ['id']) "
   ]
  },
  {
   "cell_type": "markdown",
   "metadata": {
    "tags": []
   },
   "source": [
    "## Separamos en train y test-holdout\n",
    "Test-holdout lo usaremos como métrica del mejor de los 5 modelos, para tener una idea antes que salga a producción. Tomaremos un 10% para el holdout, y hacemos que sea stratificado, de forma que divida el train y holdout teniendo en cuenta la proporción de la variable target. Notar que usamos el mismo RANDOM_STATE para todos los train_test_splits de los modelos para poder reproducir las mismas condiciones, entrenando y evaluando sobre las mismas particiones."
   ]
  },
  {
   "cell_type": "code",
   "execution_count": 6,
   "metadata": {},
   "outputs": [],
   "source": [
    "X_train, X_holdout, y_train, y_holdout = train_test_split(\n",
    "    X, y, random_state=pp.RANDOM_STATE, test_size=0.1, stratify=y\n",
    ")"
   ]
  },
  {
   "cell_type": "markdown",
   "metadata": {},
   "source": [
    "# Preprocesamiento y Feature Engineering"
   ]
  },
  {
   "cell_type": "markdown",
   "metadata": {
    "tags": []
   },
   "source": [
    "## Label-encodeamos la variable target\n",
    "Usaremos LabelEncoder para crear un mapping de los valores yes/no de la variable target a valores numericos. Va a asignarle al \"no\" un 0, y al \"si\" un 1, debido al orden alfabético. "
   ]
  },
  {
   "cell_type": "code",
   "execution_count": 7,
   "metadata": {},
   "outputs": [],
   "source": [
    "label_encoder = LabelEncoder()\n",
    "y_train = label_encoder.fit_transform(y_train.values.ravel())\n",
    "y_train = pd.DataFrame(y_train, columns = ['llovieron_hamburguesas_al_dia_siguiente'])"
   ]
  },
  {
   "cell_type": "markdown",
   "metadata": {
    "tags": []
   },
   "source": [
    "## Eliminamos valores erráticos\n",
    "El feature presión_atmosférica_tarde tiene algunos valores erráticos. Los eliminamos y dejamos temporalmente como NaN, de forma de rellenarlos (o no) a posteriori."
   ]
  },
  {
   "cell_type": "code",
   "execution_count": 8,
   "metadata": {},
   "outputs": [],
   "source": [
    "err_values_presion_atm = ['10.167.769.999.999.900', '1.009.555']\n",
    "\n",
    "pp.convert_values_to_nan(X_train, 'presion_atmosferica_tarde', err_values_presion_atm)"
   ]
  },
  {
   "cell_type": "markdown",
   "metadata": {},
   "source": [
    "Lo mismo con la nubosidad_tarde y nubosidad_temprano:"
   ]
  },
  {
   "cell_type": "code",
   "execution_count": 9,
   "metadata": {},
   "outputs": [],
   "source": [
    "err_values_nubosidad = [9.0]\n",
    "\n",
    "pp.convert_values_to_nan(X_train, 'nubosidad_tarde', err_values_nubosidad)\n",
    "pp.convert_values_to_nan(X_train, 'nubosidad_temprano', err_values_nubosidad)"
   ]
  },
  {
   "cell_type": "markdown",
   "metadata": {
    "tags": []
   },
   "source": [
    "## Dropeamos features que no nos interesan"
   ]
  },
  {
   "cell_type": "code",
   "execution_count": 10,
   "metadata": {},
   "outputs": [],
   "source": [
    "pd.set_option(\"display.max_columns\", None) # Esto es para mostrar todos los features al imprimir"
   ]
  },
  {
   "cell_type": "code",
   "execution_count": 11,
   "metadata": {},
   "outputs": [],
   "source": [
    "pp.drop_features(X_train, [\n",
    "    'id',\n",
    "    'humedad_temprano',\n",
    "    'temp_min',\n",
    "    'rafaga_viento_max_direccion',\n",
    "    'velocidad_viendo_tarde',\n",
    "    'velocidad_viendo_temprano',\n",
    "    'direccion_viento_temprano',\n",
    "    'direccion_viento_tarde',\n",
    "    'rafaga_viento_max_velocidad'\n",
    "])"
   ]
  },
  {
   "cell_type": "markdown",
   "metadata": {
    "tags": []
   },
   "source": [
    "## Convertimos variables para que el modelo pueda usarlas\n",
    "Comenzamos haciendo dummy encoding de las variables que sean categóricas, no ordinales y de baja cardinalidad. Pero antes, vamos a crear un feature a partir del dia: el mes. El año no porque con este modelo vamos a querer predecir por mucho tiempo en el futuro, y esos años futuros obviamente no aparecen en el dataset. Además año a año no cambia mucho la lluvia, pero sí hay meses que llueve más o menos. El día del mes tampoco importa mucho porque no hay una correlación del mismo con la lluvia de hamburguesas."
   ]
  },
  {
   "cell_type": "code",
   "execution_count": 12,
   "metadata": {},
   "outputs": [],
   "source": [
    "X_train[\"dia\"] = pd.to_datetime(X_train[\"dia\"], format = \"%Y-%m-%d\", errors = \"coerce\")\n",
    "\n",
    "X_train[\"mes\"] = X_train[\"dia\"].dt.month\n",
    "pp.drop_features(X_train, [\"dia\"])"
   ]
  },
  {
   "cell_type": "markdown",
   "metadata": {},
   "source": [
    "Y ahora que tenemos todas las variables categóricas no ordinales listas, las one-hot-encodeamos."
   ]
  },
  {
   "cell_type": "code",
   "execution_count": 13,
   "metadata": {},
   "outputs": [],
   "source": [
    "X_train = pp.one_hot_encode(X_train, [\"barrio\"])\n",
    "pp.drop_features(X_train, [\"barrio_nan\"])"
   ]
  },
  {
   "cell_type": "markdown",
   "metadata": {},
   "source": [
    "Y encodeamos la variable binaria \"llovieron_hamburguesas_hoy\"."
   ]
  },
  {
   "cell_type": "code",
   "execution_count": 14,
   "metadata": {},
   "outputs": [],
   "source": [
    "X_train[\"llovieron_hamburguesas_hoy\"] = label_encoder.fit_transform(X_train[\"llovieron_hamburguesas_hoy\"])"
   ]
  },
  {
   "cell_type": "markdown",
   "metadata": {},
   "source": [
    "Esto a su vez resuelve los missings de estas variables categóricas, pues las trata como una categoría más."
   ]
  },
  {
   "cell_type": "markdown",
   "metadata": {},
   "source": [
    "## Estimamos missings con IterativeImputer\n",
    "Dado que el dataset contiene muchos missings en variables relevantes para el target, como las horas de sol, decidimos llevar a cabo un método potente para completar missings. Usamos IterativeImputer de Sklearn, que es una implementación del algoritmo MICE."
   ]
  },
  {
   "cell_type": "code",
   "execution_count": 15,
   "metadata": {
    "scrolled": true,
    "tags": []
   },
   "outputs": [
    {
     "name": "stdout",
     "output_type": "stream",
     "text": [
      "[IterativeImputer] Completing matrix with shape (104731, 61)\n",
      "[IterativeImputer] Ending imputation round 1/4, elapsed time 23.37\n",
      "[IterativeImputer] Change: 128.06649077613994, scaled tolerance: 1.041 \n",
      "[IterativeImputer] Ending imputation round 2/4, elapsed time 44.96\n",
      "[IterativeImputer] Change: 49.939799831029376, scaled tolerance: 1.041 \n",
      "[IterativeImputer] Ending imputation round 3/4, elapsed time 66.04\n",
      "[IterativeImputer] Change: 14.121337578009305, scaled tolerance: 1.041 \n",
      "[IterativeImputer] Ending imputation round 4/4, elapsed time 87.44\n",
      "[IterativeImputer] Change: 9.543807486441107, scaled tolerance: 1.041 \n"
     ]
    },
    {
     "name": "stderr",
     "output_type": "stream",
     "text": [
      "/home/laucha/anaconda3/lib/python3.8/site-packages/sklearn/impute/_iterative.py:699: ConvergenceWarning: [IterativeImputer] Early stopping criterion not reached.\n",
      "  warnings.warn(\n"
     ]
    },
    {
     "name": "stdout",
     "output_type": "stream",
     "text": [
      "[IterativeImputer] Completing matrix with shape (104731, 61)\n",
      "[IterativeImputer] Ending imputation round 1/4, elapsed time 0.24\n",
      "[IterativeImputer] Ending imputation round 2/4, elapsed time 0.49\n",
      "[IterativeImputer] Ending imputation round 3/4, elapsed time 0.74\n",
      "[IterativeImputer] Ending imputation round 4/4, elapsed time 0.99\n"
     ]
    }
   ],
   "source": [
    "X_train = pp.fill_with_iterative_imputer(X_train)"
   ]
  },
  {
   "cell_type": "markdown",
   "metadata": {
    "tags": []
   },
   "source": [
    "## Escalamos las variables\n",
    "Para KNN, es super importante escalar/normalizar los features, pues se basa puramente en las distancias entre puntos."
   ]
  },
  {
   "cell_type": "code",
   "execution_count": 16,
   "metadata": {},
   "outputs": [],
   "source": [
    "features_to_scale = list(X_train.columns)\n",
    "X_train = pp.standard_scale(X_train, features_to_scale)"
   ]
  },
  {
   "cell_type": "code",
   "execution_count": 17,
   "metadata": {},
   "outputs": [
    {
     "data": {
      "text/html": [
       "<div>\n",
       "<style scoped>\n",
       "    .dataframe tbody tr th:only-of-type {\n",
       "        vertical-align: middle;\n",
       "    }\n",
       "\n",
       "    .dataframe tbody tr th {\n",
       "        vertical-align: top;\n",
       "    }\n",
       "\n",
       "    .dataframe thead th {\n",
       "        text-align: right;\n",
       "    }\n",
       "</style>\n",
       "<table border=\"1\" class=\"dataframe\">\n",
       "  <thead>\n",
       "    <tr style=\"text-align: right;\">\n",
       "      <th></th>\n",
       "      <th>horas_de_sol</th>\n",
       "      <th>humedad_tarde</th>\n",
       "      <th>llovieron_hamburguesas_hoy</th>\n",
       "      <th>mm_evaporados_agua</th>\n",
       "      <th>mm_lluvia_dia</th>\n",
       "      <th>nubosidad_tarde</th>\n",
       "      <th>nubosidad_temprano</th>\n",
       "      <th>presion_atmosferica_tarde</th>\n",
       "      <th>presion_atmosferica_temprano</th>\n",
       "      <th>temp_max</th>\n",
       "      <th>temperatura_tarde</th>\n",
       "      <th>temperatura_temprano</th>\n",
       "      <th>mes</th>\n",
       "      <th>barrio_Almagro</th>\n",
       "      <th>barrio_Balvanera</th>\n",
       "      <th>barrio_Barracas</th>\n",
       "      <th>barrio_Belgrano</th>\n",
       "      <th>barrio_Boedo</th>\n",
       "      <th>barrio_Caballito</th>\n",
       "      <th>barrio_Chacarita</th>\n",
       "      <th>barrio_Coghlan</th>\n",
       "      <th>barrio_Colegiales</th>\n",
       "      <th>barrio_Constitución</th>\n",
       "      <th>barrio_Flores</th>\n",
       "      <th>barrio_Floresta</th>\n",
       "      <th>barrio_La Boca</th>\n",
       "      <th>barrio_La Paternal</th>\n",
       "      <th>barrio_Liniers</th>\n",
       "      <th>barrio_Mataderos</th>\n",
       "      <th>barrio_Monserrat</th>\n",
       "      <th>barrio_Monte Castro</th>\n",
       "      <th>barrio_Nueva Pompeya</th>\n",
       "      <th>barrio_Núñez</th>\n",
       "      <th>barrio_Palermo</th>\n",
       "      <th>barrio_Palermo cheto</th>\n",
       "      <th>barrio_Parque Avellaneda</th>\n",
       "      <th>barrio_Parque Chacabuco</th>\n",
       "      <th>barrio_Parque Chas</th>\n",
       "      <th>barrio_Parque Patricios</th>\n",
       "      <th>barrio_Puerto Madero</th>\n",
       "      <th>barrio_Recoleta</th>\n",
       "      <th>barrio_Retiro</th>\n",
       "      <th>barrio_Saavedra</th>\n",
       "      <th>barrio_San Cristóbal</th>\n",
       "      <th>barrio_San Nicolás</th>\n",
       "      <th>barrio_San Telmo</th>\n",
       "      <th>barrio_Versalles</th>\n",
       "      <th>barrio_Villa Crespo</th>\n",
       "      <th>barrio_Villa Devoto</th>\n",
       "      <th>barrio_Villa General Mitre</th>\n",
       "      <th>barrio_Villa Lugano</th>\n",
       "      <th>barrio_Villa Luro</th>\n",
       "      <th>barrio_Villa Ortúzar</th>\n",
       "      <th>barrio_Villa Pueyrredón</th>\n",
       "      <th>barrio_Villa Real</th>\n",
       "      <th>barrio_Villa Riachuelo</th>\n",
       "      <th>barrio_Villa Santa Rita</th>\n",
       "      <th>barrio_Villa Soldati</th>\n",
       "      <th>barrio_Villa Urquiza</th>\n",
       "      <th>barrio_Villa del Parque</th>\n",
       "      <th>barrio_Vélez Sársfield</th>\n",
       "    </tr>\n",
       "  </thead>\n",
       "  <tbody>\n",
       "    <tr>\n",
       "      <th>0</th>\n",
       "      <td>1.249619</td>\n",
       "      <td>-2.210404</td>\n",
       "      <td>-0.537961</td>\n",
       "      <td>1.289013</td>\n",
       "      <td>-0.315254</td>\n",
       "      <td>-0.607843</td>\n",
       "      <td>-0.510178</td>\n",
       "      <td>-0.236137</td>\n",
       "      <td>0.394260</td>\n",
       "      <td>1.546515</td>\n",
       "      <td>1.621629</td>\n",
       "      <td>1.389377</td>\n",
       "      <td>1.048131</td>\n",
       "      <td>-0.144841</td>\n",
       "      <td>-0.145869</td>\n",
       "      <td>-0.1458</td>\n",
       "      <td>-0.144841</td>\n",
       "      <td>-0.145766</td>\n",
       "      <td>-0.14539</td>\n",
       "      <td>-0.145424</td>\n",
       "      <td>-0.145561</td>\n",
       "      <td>-0.146005</td>\n",
       "      <td>-0.152687</td>\n",
       "      <td>-0.145527</td>\n",
       "      <td>-0.144979</td>\n",
       "      <td>-0.144152</td>\n",
       "      <td>-0.145766</td>\n",
       "      <td>-0.155093</td>\n",
       "      <td>-0.146584</td>\n",
       "      <td>-0.146141</td>\n",
       "      <td>-0.145458</td>\n",
       "      <td>-0.146278</td>\n",
       "      <td>-0.144875</td>\n",
       "      <td>-0.145766</td>\n",
       "      <td>9.486375</td>\n",
       "      <td>-0.14814</td>\n",
       "      <td>-0.146414</td>\n",
       "      <td>-0.105275</td>\n",
       "      <td>-0.145081</td>\n",
       "      <td>-0.144704</td>\n",
       "      <td>-0.146822</td>\n",
       "      <td>-0.15018</td>\n",
       "      <td>-0.146788</td>\n",
       "      <td>-0.145527</td>\n",
       "      <td>-0.147533</td>\n",
       "      <td>-0.148945</td>\n",
       "      <td>-0.144979</td>\n",
       "      <td>-0.146278</td>\n",
       "      <td>-0.146278</td>\n",
       "      <td>-0.145971</td>\n",
       "      <td>-0.144359</td>\n",
       "      <td>-0.150744</td>\n",
       "      <td>-0.144875</td>\n",
       "      <td>-0.144566</td>\n",
       "      <td>-0.150147</td>\n",
       "      <td>-0.145937</td>\n",
       "      <td>-0.144875</td>\n",
       "      <td>-0.152458</td>\n",
       "      <td>-0.104344</td>\n",
       "      <td>-0.145253</td>\n",
       "      <td>-0.145766</td>\n",
       "    </tr>\n",
       "    <tr>\n",
       "      <th>1</th>\n",
       "      <td>-0.843562</td>\n",
       "      <td>1.225449</td>\n",
       "      <td>-0.537961</td>\n",
       "      <td>-0.711425</td>\n",
       "      <td>-0.315254</td>\n",
       "      <td>1.011985</td>\n",
       "      <td>0.095942</td>\n",
       "      <td>-0.251091</td>\n",
       "      <td>-0.272381</td>\n",
       "      <td>1.038859</td>\n",
       "      <td>0.888330</td>\n",
       "      <td>1.712833</td>\n",
       "      <td>-0.702364</td>\n",
       "      <td>-0.144841</td>\n",
       "      <td>-0.145869</td>\n",
       "      <td>-0.1458</td>\n",
       "      <td>-0.144841</td>\n",
       "      <td>-0.145766</td>\n",
       "      <td>-0.14539</td>\n",
       "      <td>-0.145424</td>\n",
       "      <td>-0.145561</td>\n",
       "      <td>-0.146005</td>\n",
       "      <td>-0.152687</td>\n",
       "      <td>-0.145527</td>\n",
       "      <td>-0.144979</td>\n",
       "      <td>-0.144152</td>\n",
       "      <td>-0.145766</td>\n",
       "      <td>-0.155093</td>\n",
       "      <td>-0.146584</td>\n",
       "      <td>-0.146141</td>\n",
       "      <td>-0.145458</td>\n",
       "      <td>-0.146278</td>\n",
       "      <td>-0.144875</td>\n",
       "      <td>-0.145766</td>\n",
       "      <td>-0.105414</td>\n",
       "      <td>-0.14814</td>\n",
       "      <td>-0.146414</td>\n",
       "      <td>-0.105275</td>\n",
       "      <td>-0.145081</td>\n",
       "      <td>-0.144704</td>\n",
       "      <td>-0.146822</td>\n",
       "      <td>-0.15018</td>\n",
       "      <td>6.812565</td>\n",
       "      <td>-0.145527</td>\n",
       "      <td>-0.147533</td>\n",
       "      <td>-0.148945</td>\n",
       "      <td>-0.144979</td>\n",
       "      <td>-0.146278</td>\n",
       "      <td>-0.146278</td>\n",
       "      <td>-0.145971</td>\n",
       "      <td>-0.144359</td>\n",
       "      <td>-0.150744</td>\n",
       "      <td>-0.144875</td>\n",
       "      <td>-0.144566</td>\n",
       "      <td>-0.150147</td>\n",
       "      <td>-0.145937</td>\n",
       "      <td>-0.144875</td>\n",
       "      <td>-0.152458</td>\n",
       "      <td>-0.104344</td>\n",
       "      <td>-0.145253</td>\n",
       "      <td>-0.145766</td>\n",
       "    </tr>\n",
       "    <tr>\n",
       "      <th>2</th>\n",
       "      <td>0.240503</td>\n",
       "      <td>-1.242558</td>\n",
       "      <td>-0.537961</td>\n",
       "      <td>-0.330911</td>\n",
       "      <td>-0.315254</td>\n",
       "      <td>0.161615</td>\n",
       "      <td>-1.092570</td>\n",
       "      <td>0.526224</td>\n",
       "      <td>0.527592</td>\n",
       "      <td>-0.131573</td>\n",
       "      <td>-0.175672</td>\n",
       "      <td>-1.105850</td>\n",
       "      <td>0.172883</td>\n",
       "      <td>-0.144841</td>\n",
       "      <td>-0.145869</td>\n",
       "      <td>-0.1458</td>\n",
       "      <td>-0.144841</td>\n",
       "      <td>-0.145766</td>\n",
       "      <td>-0.14539</td>\n",
       "      <td>-0.145424</td>\n",
       "      <td>-0.145561</td>\n",
       "      <td>-0.146005</td>\n",
       "      <td>-0.152687</td>\n",
       "      <td>-0.145527</td>\n",
       "      <td>-0.144979</td>\n",
       "      <td>-0.144152</td>\n",
       "      <td>-0.145766</td>\n",
       "      <td>-0.155093</td>\n",
       "      <td>-0.146584</td>\n",
       "      <td>-0.146141</td>\n",
       "      <td>-0.145458</td>\n",
       "      <td>-0.146278</td>\n",
       "      <td>-0.144875</td>\n",
       "      <td>-0.145766</td>\n",
       "      <td>-0.105414</td>\n",
       "      <td>-0.14814</td>\n",
       "      <td>-0.146414</td>\n",
       "      <td>-0.105275</td>\n",
       "      <td>-0.145081</td>\n",
       "      <td>-0.144704</td>\n",
       "      <td>-0.146822</td>\n",
       "      <td>-0.15018</td>\n",
       "      <td>-0.146788</td>\n",
       "      <td>-0.145527</td>\n",
       "      <td>-0.147533</td>\n",
       "      <td>-0.148945</td>\n",
       "      <td>-0.144979</td>\n",
       "      <td>-0.146278</td>\n",
       "      <td>-0.146278</td>\n",
       "      <td>-0.145971</td>\n",
       "      <td>-0.144359</td>\n",
       "      <td>-0.150744</td>\n",
       "      <td>-0.144875</td>\n",
       "      <td>-0.144566</td>\n",
       "      <td>-0.150147</td>\n",
       "      <td>-0.145937</td>\n",
       "      <td>6.902479</td>\n",
       "      <td>-0.152458</td>\n",
       "      <td>-0.104344</td>\n",
       "      <td>-0.145253</td>\n",
       "      <td>-0.145766</td>\n",
       "    </tr>\n",
       "    <tr>\n",
       "      <th>3</th>\n",
       "      <td>-0.700922</td>\n",
       "      <td>0.789918</td>\n",
       "      <td>1.510139</td>\n",
       "      <td>0.212680</td>\n",
       "      <td>-0.084288</td>\n",
       "      <td>1.011985</td>\n",
       "      <td>0.888284</td>\n",
       "      <td>0.227257</td>\n",
       "      <td>-0.761249</td>\n",
       "      <td>-0.963566</td>\n",
       "      <td>-1.038376</td>\n",
       "      <td>-0.582161</td>\n",
       "      <td>1.339880</td>\n",
       "      <td>-0.144841</td>\n",
       "      <td>-0.145869</td>\n",
       "      <td>-0.1458</td>\n",
       "      <td>-0.144841</td>\n",
       "      <td>-0.145766</td>\n",
       "      <td>-0.14539</td>\n",
       "      <td>-0.145424</td>\n",
       "      <td>-0.145561</td>\n",
       "      <td>-0.146005</td>\n",
       "      <td>-0.152687</td>\n",
       "      <td>-0.145527</td>\n",
       "      <td>-0.144979</td>\n",
       "      <td>-0.144152</td>\n",
       "      <td>-0.145766</td>\n",
       "      <td>-0.155093</td>\n",
       "      <td>-0.146584</td>\n",
       "      <td>-0.146141</td>\n",
       "      <td>-0.145458</td>\n",
       "      <td>-0.146278</td>\n",
       "      <td>-0.144875</td>\n",
       "      <td>-0.145766</td>\n",
       "      <td>-0.105414</td>\n",
       "      <td>-0.14814</td>\n",
       "      <td>-0.146414</td>\n",
       "      <td>-0.105275</td>\n",
       "      <td>-0.145081</td>\n",
       "      <td>-0.144704</td>\n",
       "      <td>-0.146822</td>\n",
       "      <td>-0.15018</td>\n",
       "      <td>-0.146788</td>\n",
       "      <td>-0.145527</td>\n",
       "      <td>-0.147533</td>\n",
       "      <td>-0.148945</td>\n",
       "      <td>-0.144979</td>\n",
       "      <td>-0.146278</td>\n",
       "      <td>-0.146278</td>\n",
       "      <td>-0.145971</td>\n",
       "      <td>-0.144359</td>\n",
       "      <td>-0.150744</td>\n",
       "      <td>-0.144875</td>\n",
       "      <td>-0.144566</td>\n",
       "      <td>-0.150147</td>\n",
       "      <td>-0.145937</td>\n",
       "      <td>-0.144875</td>\n",
       "      <td>-0.152458</td>\n",
       "      <td>-0.104344</td>\n",
       "      <td>-0.145253</td>\n",
       "      <td>6.860306</td>\n",
       "    </tr>\n",
       "    <tr>\n",
       "      <th>4</th>\n",
       "      <td>0.896648</td>\n",
       "      <td>-1.145774</td>\n",
       "      <td>-0.537961</td>\n",
       "      <td>-0.330911</td>\n",
       "      <td>-0.315254</td>\n",
       "      <td>1.011985</td>\n",
       "      <td>-0.300228</td>\n",
       "      <td>0.870033</td>\n",
       "      <td>1.223863</td>\n",
       "      <td>0.220967</td>\n",
       "      <td>0.068761</td>\n",
       "      <td>-0.628369</td>\n",
       "      <td>1.339880</td>\n",
       "      <td>-0.144841</td>\n",
       "      <td>-0.145869</td>\n",
       "      <td>-0.1458</td>\n",
       "      <td>-0.144841</td>\n",
       "      <td>-0.145766</td>\n",
       "      <td>-0.14539</td>\n",
       "      <td>-0.145424</td>\n",
       "      <td>-0.145561</td>\n",
       "      <td>-0.146005</td>\n",
       "      <td>-0.152687</td>\n",
       "      <td>-0.145527</td>\n",
       "      <td>-0.144979</td>\n",
       "      <td>-0.144152</td>\n",
       "      <td>-0.145766</td>\n",
       "      <td>-0.155093</td>\n",
       "      <td>-0.146584</td>\n",
       "      <td>-0.146141</td>\n",
       "      <td>-0.145458</td>\n",
       "      <td>-0.146278</td>\n",
       "      <td>-0.144875</td>\n",
       "      <td>-0.145766</td>\n",
       "      <td>-0.105414</td>\n",
       "      <td>-0.14814</td>\n",
       "      <td>-0.146414</td>\n",
       "      <td>-0.105275</td>\n",
       "      <td>-0.145081</td>\n",
       "      <td>6.910676</td>\n",
       "      <td>-0.146822</td>\n",
       "      <td>-0.15018</td>\n",
       "      <td>-0.146788</td>\n",
       "      <td>-0.145527</td>\n",
       "      <td>-0.147533</td>\n",
       "      <td>-0.148945</td>\n",
       "      <td>-0.144979</td>\n",
       "      <td>-0.146278</td>\n",
       "      <td>-0.146278</td>\n",
       "      <td>-0.145971</td>\n",
       "      <td>-0.144359</td>\n",
       "      <td>-0.150744</td>\n",
       "      <td>-0.144875</td>\n",
       "      <td>-0.144566</td>\n",
       "      <td>-0.150147</td>\n",
       "      <td>-0.145937</td>\n",
       "      <td>-0.144875</td>\n",
       "      <td>-0.152458</td>\n",
       "      <td>-0.104344</td>\n",
       "      <td>-0.145253</td>\n",
       "      <td>-0.145766</td>\n",
       "    </tr>\n",
       "  </tbody>\n",
       "</table>\n",
       "</div>"
      ],
      "text/plain": [
       "   horas_de_sol  humedad_tarde  llovieron_hamburguesas_hoy  \\\n",
       "0      1.249619      -2.210404                   -0.537961   \n",
       "1     -0.843562       1.225449                   -0.537961   \n",
       "2      0.240503      -1.242558                   -0.537961   \n",
       "3     -0.700922       0.789918                    1.510139   \n",
       "4      0.896648      -1.145774                   -0.537961   \n",
       "\n",
       "   mm_evaporados_agua  mm_lluvia_dia  nubosidad_tarde  nubosidad_temprano  \\\n",
       "0            1.289013      -0.315254        -0.607843           -0.510178   \n",
       "1           -0.711425      -0.315254         1.011985            0.095942   \n",
       "2           -0.330911      -0.315254         0.161615           -1.092570   \n",
       "3            0.212680      -0.084288         1.011985            0.888284   \n",
       "4           -0.330911      -0.315254         1.011985           -0.300228   \n",
       "\n",
       "   presion_atmosferica_tarde  presion_atmosferica_temprano  temp_max  \\\n",
       "0                  -0.236137                      0.394260  1.546515   \n",
       "1                  -0.251091                     -0.272381  1.038859   \n",
       "2                   0.526224                      0.527592 -0.131573   \n",
       "3                   0.227257                     -0.761249 -0.963566   \n",
       "4                   0.870033                      1.223863  0.220967   \n",
       "\n",
       "   temperatura_tarde  temperatura_temprano       mes  barrio_Almagro  \\\n",
       "0           1.621629              1.389377  1.048131       -0.144841   \n",
       "1           0.888330              1.712833 -0.702364       -0.144841   \n",
       "2          -0.175672             -1.105850  0.172883       -0.144841   \n",
       "3          -1.038376             -0.582161  1.339880       -0.144841   \n",
       "4           0.068761             -0.628369  1.339880       -0.144841   \n",
       "\n",
       "   barrio_Balvanera  barrio_Barracas  barrio_Belgrano  barrio_Boedo  \\\n",
       "0         -0.145869          -0.1458        -0.144841     -0.145766   \n",
       "1         -0.145869          -0.1458        -0.144841     -0.145766   \n",
       "2         -0.145869          -0.1458        -0.144841     -0.145766   \n",
       "3         -0.145869          -0.1458        -0.144841     -0.145766   \n",
       "4         -0.145869          -0.1458        -0.144841     -0.145766   \n",
       "\n",
       "   barrio_Caballito  barrio_Chacarita  barrio_Coghlan  barrio_Colegiales  \\\n",
       "0          -0.14539         -0.145424       -0.145561          -0.146005   \n",
       "1          -0.14539         -0.145424       -0.145561          -0.146005   \n",
       "2          -0.14539         -0.145424       -0.145561          -0.146005   \n",
       "3          -0.14539         -0.145424       -0.145561          -0.146005   \n",
       "4          -0.14539         -0.145424       -0.145561          -0.146005   \n",
       "\n",
       "   barrio_Constitución  barrio_Flores  barrio_Floresta  barrio_La Boca  \\\n",
       "0            -0.152687      -0.145527        -0.144979       -0.144152   \n",
       "1            -0.152687      -0.145527        -0.144979       -0.144152   \n",
       "2            -0.152687      -0.145527        -0.144979       -0.144152   \n",
       "3            -0.152687      -0.145527        -0.144979       -0.144152   \n",
       "4            -0.152687      -0.145527        -0.144979       -0.144152   \n",
       "\n",
       "   barrio_La Paternal  barrio_Liniers  barrio_Mataderos  barrio_Monserrat  \\\n",
       "0           -0.145766       -0.155093         -0.146584         -0.146141   \n",
       "1           -0.145766       -0.155093         -0.146584         -0.146141   \n",
       "2           -0.145766       -0.155093         -0.146584         -0.146141   \n",
       "3           -0.145766       -0.155093         -0.146584         -0.146141   \n",
       "4           -0.145766       -0.155093         -0.146584         -0.146141   \n",
       "\n",
       "   barrio_Monte Castro  barrio_Nueva Pompeya  barrio_Núñez  barrio_Palermo  \\\n",
       "0            -0.145458             -0.146278     -0.144875       -0.145766   \n",
       "1            -0.145458             -0.146278     -0.144875       -0.145766   \n",
       "2            -0.145458             -0.146278     -0.144875       -0.145766   \n",
       "3            -0.145458             -0.146278     -0.144875       -0.145766   \n",
       "4            -0.145458             -0.146278     -0.144875       -0.145766   \n",
       "\n",
       "   barrio_Palermo cheto  barrio_Parque Avellaneda  barrio_Parque Chacabuco  \\\n",
       "0              9.486375                  -0.14814                -0.146414   \n",
       "1             -0.105414                  -0.14814                -0.146414   \n",
       "2             -0.105414                  -0.14814                -0.146414   \n",
       "3             -0.105414                  -0.14814                -0.146414   \n",
       "4             -0.105414                  -0.14814                -0.146414   \n",
       "\n",
       "   barrio_Parque Chas  barrio_Parque Patricios  barrio_Puerto Madero  \\\n",
       "0           -0.105275                -0.145081             -0.144704   \n",
       "1           -0.105275                -0.145081             -0.144704   \n",
       "2           -0.105275                -0.145081             -0.144704   \n",
       "3           -0.105275                -0.145081             -0.144704   \n",
       "4           -0.105275                -0.145081              6.910676   \n",
       "\n",
       "   barrio_Recoleta  barrio_Retiro  barrio_Saavedra  barrio_San Cristóbal  \\\n",
       "0        -0.146822       -0.15018        -0.146788             -0.145527   \n",
       "1        -0.146822       -0.15018         6.812565             -0.145527   \n",
       "2        -0.146822       -0.15018        -0.146788             -0.145527   \n",
       "3        -0.146822       -0.15018        -0.146788             -0.145527   \n",
       "4        -0.146822       -0.15018        -0.146788             -0.145527   \n",
       "\n",
       "   barrio_San Nicolás  barrio_San Telmo  barrio_Versalles  \\\n",
       "0           -0.147533         -0.148945         -0.144979   \n",
       "1           -0.147533         -0.148945         -0.144979   \n",
       "2           -0.147533         -0.148945         -0.144979   \n",
       "3           -0.147533         -0.148945         -0.144979   \n",
       "4           -0.147533         -0.148945         -0.144979   \n",
       "\n",
       "   barrio_Villa Crespo  barrio_Villa Devoto  barrio_Villa General Mitre  \\\n",
       "0            -0.146278            -0.146278                   -0.145971   \n",
       "1            -0.146278            -0.146278                   -0.145971   \n",
       "2            -0.146278            -0.146278                   -0.145971   \n",
       "3            -0.146278            -0.146278                   -0.145971   \n",
       "4            -0.146278            -0.146278                   -0.145971   \n",
       "\n",
       "   barrio_Villa Lugano  barrio_Villa Luro  barrio_Villa Ortúzar  \\\n",
       "0            -0.144359          -0.150744             -0.144875   \n",
       "1            -0.144359          -0.150744             -0.144875   \n",
       "2            -0.144359          -0.150744             -0.144875   \n",
       "3            -0.144359          -0.150744             -0.144875   \n",
       "4            -0.144359          -0.150744             -0.144875   \n",
       "\n",
       "   barrio_Villa Pueyrredón  barrio_Villa Real  barrio_Villa Riachuelo  \\\n",
       "0                -0.144566          -0.150147               -0.145937   \n",
       "1                -0.144566          -0.150147               -0.145937   \n",
       "2                -0.144566          -0.150147               -0.145937   \n",
       "3                -0.144566          -0.150147               -0.145937   \n",
       "4                -0.144566          -0.150147               -0.145937   \n",
       "\n",
       "   barrio_Villa Santa Rita  barrio_Villa Soldati  barrio_Villa Urquiza  \\\n",
       "0                -0.144875             -0.152458             -0.104344   \n",
       "1                -0.144875             -0.152458             -0.104344   \n",
       "2                 6.902479             -0.152458             -0.104344   \n",
       "3                -0.144875             -0.152458             -0.104344   \n",
       "4                -0.144875             -0.152458             -0.104344   \n",
       "\n",
       "   barrio_Villa del Parque  barrio_Vélez Sársfield  \n",
       "0                -0.145253               -0.145766  \n",
       "1                -0.145253               -0.145766  \n",
       "2                -0.145253               -0.145766  \n",
       "3                -0.145253                6.860306  \n",
       "4                -0.145253               -0.145766  "
      ]
     },
     "execution_count": 17,
     "metadata": {},
     "output_type": "execute_result"
    }
   ],
   "source": [
    "X_train.head()"
   ]
  },
  {
   "cell_type": "markdown",
   "metadata": {},
   "source": [
    "## Separamos en train y val-dev antes de hacer GridSearch"
   ]
  },
  {
   "cell_type": "markdown",
   "metadata": {},
   "source": [
    "Nos guardamos a parte los DataFrames con los ids para luego poder hacer el archivo de predicciones de los datos privados de Flint que nos piden al final. Pero el feature \"id\" en sí no lo usaremos, porque es único por cada instancia, con lo cual puede perjudicar al modelo enseñándole a memorizarse las instancias."
   ]
  },
  {
   "cell_type": "code",
   "execution_count": 18,
   "metadata": {},
   "outputs": [],
   "source": [
    "X_train, X_test, y_train, y_test = train_test_split(X_train,\n",
    "                                                    y_train, \n",
    "                                                    test_size = 0.3, \n",
    "                                                    random_state = pp.RANDOM_STATE, \n",
    "                                                    stratify=y_train)"
   ]
  },
  {
   "cell_type": "markdown",
   "metadata": {
    "tags": []
   },
   "source": [
    "# Buscamos los mejores hiperparámetros\n",
    "\n",
    "En este modelo usaremos RandomSearch con Cross Validation de 3 folds, para buscar el mejor número de vecinos y si conviene ponderar cada vecino por su distancia o no."
   ]
  },
  {
   "cell_type": "code",
   "execution_count": 19,
   "metadata": {},
   "outputs": [],
   "source": [
    "from sklearn.neighbors import KNeighborsClassifier\n",
    "import joblib"
   ]
  },
  {
   "cell_type": "markdown",
   "metadata": {},
   "source": [
    "Obviamente no lo vamos a correr de vuelta porque va a tardar mucho tiempo... Por eso la primera línea, para no correr ese bloque de código. Cuando lo corrimos, nos guardamos el mejor modelo en un .pickle, que cargamos luego."
   ]
  },
  {
   "cell_type": "code",
   "execution_count": 20,
   "metadata": {},
   "outputs": [],
   "source": [
    "%%script false --no-raise-error # Para no ejecutar este bloque\n",
    "\n",
    "from sklearn.model_selection import RandomizedSearchCV\n",
    "\n",
    "knn_clf = KNeighborsClassifier(n_jobs = 1)\n",
    "\n",
    "params = {\"n_neighbors\": np.arange(3, 100), \"weights\": [\"distance\", \"uniform\"]}\n",
    "\n",
    "rgscv = RandomizedSearchCV(\n",
    "    knn_clf, params, n_iter=30, scoring='accuracy', n_jobs=1, cv=3, return_train_score=True, verbose=3\n",
    ").fit(X_train, y_train)\n",
    "\n",
    "print(f\"Best score: {rgscv.best_score_}\")\n",
    "print(f\"Best params {rgscv.best_params_}\")\n",
    "\n",
    "# Guardamos todos los resultados del gridsearch en un csv:\n",
    "pd.DataFrame(rgscv.cv_results_).to_csv(\"gridsearch_results/random_search_KNN.csv\", index=False)\n",
    "\n",
    "# También nos guardamos el mejor predictor (el KNN construido con los mejores parámetros)\n",
    "joblib.dump(rgscv.best_estimator_, open(\"gridsearch_results/best_models/best_model_KNN.pickle\", \"wb\"))"
   ]
  },
  {
   "cell_type": "markdown",
   "metadata": {},
   "source": [
    "# Cargamos el modelo ya con los mejores hiperparámetros y lo entrenamos\n",
    "Ya corrimos el RandomSearch y nos guardamos el mejor clasificador que encontró. Carguémoslo y usemos ese."
   ]
  },
  {
   "cell_type": "markdown",
   "metadata": {},
   "source": [
    "Parece que el mejor modelo considera a los 25 vecinos más cercanos al predecir, y pondera la importancia de los vecinos de acuerdo a la distancia (euclidiana, pues es la default de KNN).\n",
    "\n",
    "Ahora entrenaremos este modelo pero en el X_train completo, para luego evaluarlo en X_test."
   ]
  },
  {
   "cell_type": "code",
   "execution_count": 21,
   "metadata": {},
   "outputs": [
    {
     "name": "stderr",
     "output_type": "stream",
     "text": [
      "/home/laucha/anaconda3/lib/python3.8/site-packages/sklearn/base.py:324: UserWarning: Trying to unpickle estimator KNeighborsClassifier from version 0.24.2 when using version 1.0.1. This might lead to breaking code or invalid results. Use at your own risk. For more info please refer to:\n",
      "https://scikit-learn.org/stable/modules/model_persistence.html#security-maintainability-limitations\n",
      "  warnings.warn(\n",
      "/home/laucha/anaconda3/lib/python3.8/site-packages/sklearn/neighbors/_classification.py:198: DataConversionWarning: A column-vector y was passed when a 1d array was expected. Please change the shape of y to (n_samples,), for example using ravel().\n",
      "  return self._fit(X, y)\n"
     ]
    },
    {
     "data": {
      "text/plain": [
       "KNeighborsClassifier(n_jobs=1, n_neighbors=25, weights='distance')"
      ]
     },
     "execution_count": 21,
     "metadata": {},
     "output_type": "execute_result"
    }
   ],
   "source": [
    "knn_clf = joblib.load(\"gridsearch_results/best_models/best_model_KNN.pickle\")\n",
    "\n",
    "knn_clf.fit(X_train, y_train)"
   ]
  },
  {
   "cell_type": "markdown",
   "metadata": {},
   "source": [
    "# Evaluamos en val-dev y medimos la performance"
   ]
  },
  {
   "cell_type": "code",
   "execution_count": 22,
   "metadata": {},
   "outputs": [],
   "source": [
    "knn_pred = knn_clf.predict(X_test)"
   ]
  },
  {
   "cell_type": "markdown",
   "metadata": {},
   "source": [
    "Como métrica para el f1, recall, etc. usaremos el average \"weighted\", que pondera los dos f1_score (uno con el \"no\" como clase positiva, el otro con el \"si\" como clase positiva) según el soporte de cada clase.  "
   ]
  },
  {
   "cell_type": "markdown",
   "metadata": {
    "tags": []
   },
   "source": [
    "### F1, Precision, Recall, Accuracy"
   ]
  },
  {
   "cell_type": "code",
   "execution_count": 23,
   "metadata": {},
   "outputs": [
    {
     "data": {
      "text/plain": [
       "0.8294848694095828"
      ]
     },
     "execution_count": 23,
     "metadata": {},
     "output_type": "execute_result"
    }
   ],
   "source": [
    "f1_score(y_test, knn_pred, average='weighted')"
   ]
  },
  {
   "cell_type": "code",
   "execution_count": 24,
   "metadata": {},
   "outputs": [
    {
     "data": {
      "text/plain": [
       "0.833699654298061"
      ]
     },
     "execution_count": 24,
     "metadata": {},
     "output_type": "execute_result"
    }
   ],
   "source": [
    "precision_score(y_test, knn_pred, average='weighted')"
   ]
  },
  {
   "cell_type": "code",
   "execution_count": 25,
   "metadata": {},
   "outputs": [
    {
     "data": {
      "text/plain": [
       "0.8443348185868873"
      ]
     },
     "execution_count": 25,
     "metadata": {},
     "output_type": "execute_result"
    }
   ],
   "source": [
    "recall_score(y_test, knn_pred, average='weighted')"
   ]
  },
  {
   "cell_type": "code",
   "execution_count": 26,
   "metadata": {},
   "outputs": [
    {
     "data": {
      "text/plain": [
       "0.8443348185868873"
      ]
     },
     "execution_count": 26,
     "metadata": {},
     "output_type": "execute_result"
    }
   ],
   "source": [
    "accuracy_score(y_test, knn_pred)"
   ]
  },
  {
   "cell_type": "markdown",
   "metadata": {},
   "source": [
    "### Matriz de confusión"
   ]
  },
  {
   "cell_type": "code",
   "execution_count": 27,
   "metadata": {},
   "outputs": [
    {
     "data": {
      "text/plain": [
       "<sklearn.metrics._plot.confusion_matrix.ConfusionMatrixDisplay at 0x7f67ce0fc6a0>"
      ]
     },
     "execution_count": 27,
     "metadata": {},
     "output_type": "execute_result"
    },
    {
     "data": {
      "image/png": "[encoded data removed]",
      "text/plain": [
       "<Figure size 600x400 with 2 Axes>"
      ]
     },
     "metadata": {
      "needs_background": "light"
     },
     "output_type": "display_data"
    }
   ],
   "source": [
    "from sklearn.metrics import confusion_matrix, ConfusionMatrixDisplay\n",
    "\n",
    "cm = confusion_matrix(y_test, knn_pred, labels=[0,1])\n",
    "disp = ConfusionMatrixDisplay(confusion_matrix=cm, display_labels=[0,1])\n",
    "fig, ax = plt.subplots(dpi=100)\n",
    "plt.title(\"Matriz de confusion\")\n",
    "disp.plot(ax=ax)"
   ]
  },
  {
   "cell_type": "code",
   "execution_count": 28,
   "metadata": {},
   "outputs": [],
   "source": [
    "import matplotlib.pyplot as plt\n",
    "from sklearn.metrics import roc_curve, auc\n",
    "from sklearn.metrics import roc_auc_score\n",
    "\n",
    "\n",
    "def plot_roc(_fpr, _tpr, x):\n",
    "\n",
    "    roc_auc = auc(_fpr, _tpr)\n",
    "\n",
    "    plt.figure(figsize=(12, 8))\n",
    "    plt.plot(\n",
    "        _fpr, _tpr, color='darkorange', lw=2, label=f'ROC curve (area = {roc_auc:.5f})'\n",
    "    )\n",
    "    #plt.scatter(_fpr, x)\n",
    "    plt.plot([0, 1], [0, 1], color='navy', lw=2, linestyle='--')\n",
    "    plt.xlim([0.0, 1.0])\n",
    "    plt.ylim([0.0, 1.0])\n",
    "    plt.xlabel('False Positive Rate')\n",
    "    plt.ylabel('True Positive Rate')\n",
    "    plt.title('Receiver operating characteristic')\n",
    "    plt.legend(loc=\"lower right\")\n",
    "    plt.show()\n",
    "    \n"
   ]
  },
  {
   "cell_type": "markdown",
   "metadata": {},
   "source": [
    "### AUC-ROC"
   ]
  },
  {
   "cell_type": "code",
   "execution_count": 29,
   "metadata": {},
   "outputs": [],
   "source": [
    "knn_pred_proba = knn_clf.predict_proba(X_test)\n",
    "knn_pred_proba_pos = knn_pred_proba[:,1] # nos quedamos con las probas de la clase positiva (1, o sea, \"si\")"
   ]
  },
  {
   "cell_type": "code",
   "execution_count": 30,
   "metadata": {},
   "outputs": [
    {
     "data": {
      "image/png": "[encoded data removed]",
      "text/plain": [
       "<Figure size 864x576 with 1 Axes>"
      ]
     },
     "metadata": {
      "needs_background": "light"
     },
     "output_type": "display_data"
    },
    {
     "name": "stdout",
     "output_type": "stream",
     "text": [
      "AUC_ROC:  0.8573325193713334\n"
     ]
    }
   ],
   "source": [
    "fpr, tpr, thresholds = roc_curve(y_test, knn_pred_proba_pos)\n",
    "plot_roc(fpr, tpr, thresholds)\n",
    "print(\"AUC_ROC: \", roc_auc_score(y_test, knn_pred_proba_pos))"
   ]
  },
  {
   "cell_type": "markdown",
   "metadata": {},
   "source": [
    "# Predicción sobre los datos privados de Flint\n",
    "\n",
    "Primero, hacemos el preprocesamiento de los datos, utilizando el mismo feature engineering que realizamos antes, para que el modelo pueda entender los datos que le pasamos. Luego, predecimos usando el modelo ya entrenado y finalmente guardamos los resultados."
   ]
  },
  {
   "cell_type": "code",
   "execution_count": 31,
   "metadata": {},
   "outputs": [],
   "source": [
    "X_private = pp.get_X_private_features()"
   ]
  },
  {
   "cell_type": "code",
   "execution_count": 32,
   "metadata": {},
   "outputs": [],
   "source": [
    "def preprocess_X_for_KNN(X):    \n",
    "    pp.drop_features(X, [\n",
    "        'id',\n",
    "        'humedad_temprano',\n",
    "        'temp_min',\n",
    "        'rafaga_viento_max_direccion',\n",
    "        'velocidad_viendo_tarde',\n",
    "        'velocidad_viendo_temprano',\n",
    "        'direccion_viento_temprano',\n",
    "        'direccion_viento_tarde',\n",
    "        'rafaga_viento_max_velocidad'\n",
    "    ])\n",
    "    \n",
    "    X[\"dia\"] = pd.to_datetime(X[\"dia\"], format = \"%Y-%m-%d\", errors = \"coerce\")\n",
    "\n",
    "    X[\"mes\"] = X[\"dia\"].dt.month\n",
    "    pp.drop_features(X, [\"dia\"])\n",
    "\n",
    "    X = pp.one_hot_encode(X, [\"barrio\"])\n",
    "    pp.drop_features(X, [\"barrio_nan\"])\n",
    "    X[\"llovieron_hamburguesas_hoy\"] = label_encoder.fit_transform(X[\"llovieron_hamburguesas_hoy\"])\n",
    "    \n",
    "    X = pp.fill_with_iterative_imputer(X)\n",
    "    \n",
    "    X = pp.standard_scale(X, X.columns)\n",
    "    \n",
    "    return X"
   ]
  },
  {
   "cell_type": "code",
   "execution_count": 33,
   "metadata": {},
   "outputs": [],
   "source": [
    "predictions = X_private.loc[:,['id']]"
   ]
  },
  {
   "cell_type": "code",
   "execution_count": 34,
   "metadata": {},
   "outputs": [
    {
     "name": "stdout",
     "output_type": "stream",
     "text": [
      "[IterativeImputer] Completing matrix with shape (29092, 61)\n",
      "[IterativeImputer] Ending imputation round 1/4, elapsed time 5.74\n",
      "[IterativeImputer] Change: 118.7548465506385, scaled tolerance: 1.0405999755859374 \n",
      "[IterativeImputer] Ending imputation round 2/4, elapsed time 10.69\n",
      "[IterativeImputer] Change: 20.947572200246995, scaled tolerance: 1.0405999755859374 \n",
      "[IterativeImputer] Ending imputation round 3/4, elapsed time 15.61\n",
      "[IterativeImputer] Change: 7.213124796029533, scaled tolerance: 1.0405999755859374 \n",
      "[IterativeImputer] Ending imputation round 4/4, elapsed time 20.55\n",
      "[IterativeImputer] Change: 5.768566974291305, scaled tolerance: 1.0405999755859374 \n",
      "[IterativeImputer] Completing matrix with shape (29092, 61)\n"
     ]
    },
    {
     "name": "stderr",
     "output_type": "stream",
     "text": [
      "/home/laucha/anaconda3/lib/python3.8/site-packages/sklearn/impute/_iterative.py:699: ConvergenceWarning: [IterativeImputer] Early stopping criterion not reached.\n",
      "  warnings.warn(\n"
     ]
    },
    {
     "name": "stdout",
     "output_type": "stream",
     "text": [
      "[IterativeImputer] Ending imputation round 1/4, elapsed time 0.06\n",
      "[IterativeImputer] Ending imputation round 2/4, elapsed time 0.13\n",
      "[IterativeImputer] Ending imputation round 3/4, elapsed time 0.19\n",
      "[IterativeImputer] Ending imputation round 4/4, elapsed time 0.24\n"
     ]
    }
   ],
   "source": [
    "X_private = preprocess_X_for_KNN(X_private)"
   ]
  },
  {
   "cell_type": "code",
   "execution_count": 35,
   "metadata": {},
   "outputs": [],
   "source": [
    "knn_priv_feat_pred = knn_clf.predict(X_private)"
   ]
  },
  {
   "cell_type": "code",
   "execution_count": 36,
   "metadata": {},
   "outputs": [
    {
     "data": {
      "text/html": [
       "<div>\n",
       "<style scoped>\n",
       "    .dataframe tbody tr th:only-of-type {\n",
       "        vertical-align: middle;\n",
       "    }\n",
       "\n",
       "    .dataframe tbody tr th {\n",
       "        vertical-align: top;\n",
       "    }\n",
       "\n",
       "    .dataframe thead th {\n",
       "        text-align: right;\n",
       "    }\n",
       "</style>\n",
       "<table border=\"1\" class=\"dataframe\">\n",
       "  <thead>\n",
       "    <tr style=\"text-align: right;\">\n",
       "      <th></th>\n",
       "      <th>llovieron_hamburguesas_al_dia_siguiente</th>\n",
       "    </tr>\n",
       "    <tr>\n",
       "      <th>id</th>\n",
       "      <th></th>\n",
       "    </tr>\n",
       "  </thead>\n",
       "  <tbody>\n",
       "    <tr>\n",
       "      <th>116706</th>\n",
       "      <td>no</td>\n",
       "    </tr>\n",
       "    <tr>\n",
       "      <th>58831</th>\n",
       "      <td>no</td>\n",
       "    </tr>\n",
       "    <tr>\n",
       "      <th>31981</th>\n",
       "      <td>si</td>\n",
       "    </tr>\n",
       "    <tr>\n",
       "      <th>2533</th>\n",
       "      <td>no</td>\n",
       "    </tr>\n",
       "    <tr>\n",
       "      <th>7270</th>\n",
       "      <td>si</td>\n",
       "    </tr>\n",
       "  </tbody>\n",
       "</table>\n",
       "</div>"
      ],
      "text/plain": [
       "       llovieron_hamburguesas_al_dia_siguiente\n",
       "id                                            \n",
       "116706                                      no\n",
       "58831                                       no\n",
       "31981                                       si\n",
       "2533                                        no\n",
       "7270                                        si"
      ]
     },
     "execution_count": 36,
     "metadata": {},
     "output_type": "execute_result"
    }
   ],
   "source": [
    "predictions[\"llovieron_hamburguesas_al_dia_siguiente\"] = knn_priv_feat_pred\n",
    "predictions = predictions.set_index('id')\n",
    "predictions[\"llovieron_hamburguesas_al_dia_siguiente\"] = label_encoder.inverse_transform(predictions[\"llovieron_hamburguesas_al_dia_siguiente\"])\n",
    "predictions.head()"
   ]
  },
  {
   "cell_type": "code",
   "execution_count": 37,
   "metadata": {},
   "outputs": [],
   "source": [
    "predictions.to_csv('predicciones/KNN.csv')"
   ]
  }
 ],
 "metadata": {
  "kernelspec": {
   "display_name": "Python 3",
   "language": "python",
   "name": "python3"
  },
  "language_info": {
   "codemirror_mode": {
    "name": "ipython",
    "version": 3
   },
   "file_extension": ".py",
   "mimetype": "text/x-python",
   "name": "python",
   "nbconvert_exporter": "python",
   "pygments_lexer": "ipython3",
   "version": "3.8.5"
  }
 },
 "nbformat": 4,
 "nbformat_minor": 5
}
