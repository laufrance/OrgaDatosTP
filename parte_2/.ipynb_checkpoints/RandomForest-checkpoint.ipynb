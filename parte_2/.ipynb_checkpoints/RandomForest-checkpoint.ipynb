{
 "cells": [
  {
   "cell_type": "markdown",
   "metadata": {},
   "source": [
    "# **RandomForest**"
   ]
  },
  {
   "cell_type": "code",
   "execution_count": 1,
   "metadata": {},
   "outputs": [],
   "source": [
    "import numpy as np\n",
    "import pandas as pd\n",
    "import matplotlib.pyplot as plt\n",
    "import matplotlib.font_manager\n",
    "from matplotlib import style\n",
    "import seaborn as sns\n",
    "import warnings\n",
    "from sklearn.metrics import accuracy_score, confusion_matrix, ConfusionMatrixDisplay, roc_auc_score, f1_score, precision_score, recall_score, roc_curve, auc\n",
    "from sklearn.preprocessing import OneHotEncoder\n",
    "from sklearn.model_selection import cross_val_score, train_test_split, RepeatedKFold, GridSearchCV\n",
    "import multiprocessing\n",
    "import joblib\n",
    "from sklearn.ensemble import RandomForestClassifier\n",
    "import preprocessing as pp\n",
    "import statsmodels.api as sm\n",
    "from sklearn.decomposition import PCA\n",
    "from sklearn.pipeline import make_pipeline\n",
    "from sklearn.preprocessing import StandardScaler\n",
    "from sklearn.preprocessing import scale\n",
    "warnings.filterwarnings('ignore')"
   ]
  },
  {
   "cell_type": "markdown",
   "metadata": {},
   "source": [
    "# Obtenemos los dataframes con los que trabajaremos"
   ]
  },
  {
   "cell_type": "code",
   "execution_count": 2,
   "metadata": {},
   "outputs": [],
   "source": [
    "X, y = pp.get_X_y_from_dataset()"
   ]
  },
  {
   "cell_type": "markdown",
   "metadata": {},
   "source": [
    "Hay un problema... la variable target \"llovieron_hamburguesas_al_dia_siguiente\" contiene NaNs (~2600). Esto es un problema a la hora de separar en train-valdev-holdout usando train_test_split si queremos preservar la proporción entre las clases del target en la partición (es decir, pasandole a esa función stratify=y). Como test-holdout nunca debe ver los datos de train o valdev, no deberíamos rellenar dichos NaNs usando datos de otras instancias (si no habría data leaks). Por ende, decidimos completar estos NaNs con la clase mayoritaria por lejos, el \"no\". "
   ]
  },
  {
   "cell_type": "code",
   "execution_count": 3,
   "metadata": {},
   "outputs": [],
   "source": [
    "y = pp.fill_nan_with_simple_imputer(y, [\"llovieron_hamburguesas_al_dia_siguiente\"], \"most_frequent\")"
   ]
  },
  {
   "cell_type": "markdown",
   "metadata": {},
   "source": [
    "También no necesitamos la columna de id."
   ]
  },
  {
   "cell_type": "code",
   "execution_count": 4,
   "metadata": {},
   "outputs": [],
   "source": [
    "pp.drop_features(y, ['id'])"
   ]
  },
  {
   "cell_type": "markdown",
   "metadata": {},
   "source": [
    "## Separamos en train y test-holdout\n",
    "Test-holdout lo usaremos como métrica del mejor de los 5 modelos, para tener una idea antes que salga a producción. Tomaremos un 10% para el holdout, y hacemos que sea stratificado, de forma que divida el train y holdout teniendo en cuenta la proporción de la variable target. Notar que usamos el mismo RANDOM_STATE para todos los train_test_splits de los modelos para poder reproducir las mismas condiciones, entrenando y evaluando sobre las mismas particiones."
   ]
  },
  {
   "cell_type": "code",
   "execution_count": 5,
   "metadata": {},
   "outputs": [],
   "source": [
    "X_train, X_holdout, y_train, y_holdout = train_test_split(\n",
    "    X, y, random_state=pp.RANDOM_STATE, test_size=0.1, stratify=y\n",
    ")"
   ]
  },
  {
   "cell_type": "markdown",
   "metadata": {},
   "source": [
    "# Preprocesamiento y Feature Engineering"
   ]
  },
  {
   "cell_type": "markdown",
   "metadata": {},
   "source": [
    "A diferencia de las implementaciones de SKLearn, el XGBoost de esta librería no necesita tener una variable target numérica. Por eso no la encodeamos. Tampoco escalaremos/normalizaremos los datos, ya que en los árboles no lo necesitan."
   ]
  },
  {
   "cell_type": "markdown",
   "metadata": {},
   "source": [
    "# Corregimos los valores erráticos del dataset"
   ]
  },
  {
   "cell_type": "markdown",
   "metadata": {},
   "source": [
    "El feature presión_atmosférica_tarde tiene algunos valores erráticos. Los eliminamos y dejamos temporalmente como NaN, de forma de rellenarlos (o no) a posteriori."
   ]
  },
  {
   "cell_type": "code",
   "execution_count": 6,
   "metadata": {},
   "outputs": [],
   "source": [
    "err_values_presion_atm = ['10.167.769.999.999.900', '1.009.555']\n",
    "\n",
    "pp.convert_values_to_nan(X_train, 'presion_atmosferica_tarde', err_values_presion_atm)"
   ]
  },
  {
   "cell_type": "markdown",
   "metadata": {},
   "source": [
    "Ahora sí, podemos convertir este feature de object a float16."
   ]
  },
  {
   "cell_type": "code",
   "execution_count": 7,
   "metadata": {},
   "outputs": [],
   "source": [
    "X_train['presion_atmosferica_tarde'] = X_train['presion_atmosferica_tarde'].astype('float32')"
   ]
  },
  {
   "cell_type": "markdown",
   "metadata": {},
   "source": [
    "Y ahora corregimos los valores erráticos de la nubosidad_tarde y nubosidad_temprano:"
   ]
  },
  {
   "cell_type": "code",
   "execution_count": 8,
   "metadata": {
    "scrolled": true
   },
   "outputs": [],
   "source": [
    "err_values_nubosidad = [9.0]\n",
    "\n",
    "pp.convert_values_to_nan(X_train, 'nubosidad_tarde', err_values_nubosidad)\n",
    "pp.convert_values_to_nan(X_train, 'nubosidad_temprano', err_values_nubosidad)"
   ]
  },
  {
   "cell_type": "markdown",
   "metadata": {},
   "source": [
    "Adicionalmente, convertimos de float a categórica-ordinal a los features de las nubosidades, ya que son valores discretos del 0 al 8."
   ]
  },
  {
   "cell_type": "code",
   "execution_count": 9,
   "metadata": {},
   "outputs": [],
   "source": [
    "X_train = pp.numerical_to_ordinal_categorical(X_train, [\"nubosidad_tarde\", \"nubosidad_temprano\"], [0,1,2,3,4,5,6,7,8])"
   ]
  },
  {
   "cell_type": "markdown",
   "metadata": {},
   "source": [
    "## Descartemos features irrelevantes"
   ]
  },
  {
   "cell_type": "markdown",
   "metadata": {},
   "source": [
    "Descartamos los features que no resultan relevantes para el modelo."
   ]
  },
  {
   "cell_type": "code",
   "execution_count": 10,
   "metadata": {},
   "outputs": [],
   "source": [
    "pp.drop_features(X_train, \n",
    "              ['dia',\n",
    "             'humedad_temprano',\n",
    "             'temp_min',\n",
    "             'rafaga_viento_max_direccion',\n",
    "             'velocidad_viendo_tarde',\n",
    "             'velocidad_viendo_temprano',\n",
    "             'rafaga_viento_max_velocidad'\n",
    "            ])"
   ]
  },
  {
   "cell_type": "markdown",
   "metadata": {},
   "source": [
    "## Aplicamos One Hot encoding a las variables categóricas no ordinales"
   ]
  },
  {
   "cell_type": "code",
   "execution_count": 11,
   "metadata": {
    "scrolled": true
   },
   "outputs": [],
   "source": [
    "X_train = pp.one_hot_encode(X_train, ['direccion_viento_tarde','direccion_viento_temprano', 'llovieron_hamburguesas_hoy'])"
   ]
  },
  {
   "cell_type": "markdown",
   "metadata": {},
   "source": [
    "Adicionalmente, realizamos One Hot a 'Barrio'"
   ]
  },
  {
   "cell_type": "code",
   "execution_count": 12,
   "metadata": {},
   "outputs": [],
   "source": [
    "X_train = pp.one_hot_encode(X_train, ['barrio'])"
   ]
  },
  {
   "cell_type": "markdown",
   "metadata": {},
   "source": [
    "## Eliminemos los valores NaN completando con el mas frequente\n",
    "\n",
    "Realizamos este paso para tener el dataset lo mas completo posible y así poder trabajar con mas datos"
   ]
  },
  {
   "cell_type": "code",
   "execution_count": 13,
   "metadata": {},
   "outputs": [],
   "source": [
    "X_train = pp.fill_nan_with_simple_imputer(X_train, X_train.columns, \"most_frequent\")"
   ]
  },
  {
   "cell_type": "markdown",
   "metadata": {},
   "source": [
    "## Hacemos Reducción Dimensional: PCA\n",
    "La idea es condensar la información de todos los features que generó el one hot encoding de los barrios en unos pocos features que expliquen la mayor parte de la varianza. Por lo que investigamos, es algo común hacer one hot de variables categóricas de media-alta cardinalidad y después aplicar PCA. \n",
    "\n",
    "Primero, obtenemos una lista de los features relacionados a los barrios."
   ]
  },
  {
   "cell_type": "code",
   "execution_count": 14,
   "metadata": {},
   "outputs": [],
   "source": [
    "features_barrios = list(filter(lambda c: \"barrio\" in c, X_train.columns))"
   ]
  },
  {
   "cell_type": "code",
   "execution_count": 15,
   "metadata": {},
   "outputs": [],
   "source": [
    "name_final_features = [\"infobarrio1\",\"infobarrio2\",\"infobarrio3\",\"infobarrio4\",\"infobarrio5\",\n",
    "                      \"infobarrio6\",\"infobarrio7\",\"infobarrio8\",\"infobarrio9\",\"infobarrio10\"]"
   ]
  },
  {
   "cell_type": "code",
   "execution_count": 16,
   "metadata": {},
   "outputs": [
    {
     "name": "stdout",
     "output_type": "stream",
     "text": [
      "<class 'pandas.core.frame.DataFrame'>\n",
      "RangeIndex: 104731 entries, 0 to 104730\n",
      "Data columns (total 54 columns):\n",
      " #   Column                                   Non-Null Count   Dtype  \n",
      "---  ------                                   --------------   -----  \n",
      " 0   horas_de_sol                             104731 non-null  float32\n",
      " 1   humedad_tarde                            104731 non-null  float32\n",
      " 2   id                                       104731 non-null  int32  \n",
      " 3   mm_evaporados_agua                       104731 non-null  float32\n",
      " 4   mm_lluvia_dia                            104731 non-null  float32\n",
      " 5   nubosidad_tarde                          104731 non-null  float64\n",
      " 6   nubosidad_temprano                       104731 non-null  float64\n",
      " 7   presion_atmosferica_tarde                104731 non-null  float32\n",
      " 8   presion_atmosferica_temprano             104731 non-null  float32\n",
      " 9   temp_max                                 104731 non-null  float32\n",
      " 10  temperatura_tarde                        104731 non-null  float32\n",
      " 11  temperatura_temprano                     104731 non-null  float32\n",
      " 12  direccion_viento_tarde_Estenoreste       104731 non-null  uint8  \n",
      " 13  direccion_viento_tarde_Estesureste       104731 non-null  uint8  \n",
      " 14  direccion_viento_tarde_Noreste           104731 non-null  uint8  \n",
      " 15  direccion_viento_tarde_Nornoreste        104731 non-null  uint8  \n",
      " 16  direccion_viento_tarde_Noroeste          104731 non-null  uint8  \n",
      " 17  direccion_viento_tarde_Norte             104731 non-null  uint8  \n",
      " 18  direccion_viento_tarde_Oeste             104731 non-null  uint8  \n",
      " 19  direccion_viento_tarde_Oestenoroeste     104731 non-null  uint8  \n",
      " 20  direccion_viento_tarde_Oestesuroeste     104731 non-null  uint8  \n",
      " 21  direccion_viento_tarde_Sur               104731 non-null  uint8  \n",
      " 22  direccion_viento_tarde_Sureste           104731 non-null  uint8  \n",
      " 23  direccion_viento_tarde_Sursureste        104731 non-null  uint8  \n",
      " 24  direccion_viento_tarde_Sursuroeste       104731 non-null  uint8  \n",
      " 25  direccion_viento_tarde_suroeste          104731 non-null  uint8  \n",
      " 26  direccion_viento_tarde_nan               104731 non-null  uint8  \n",
      " 27  direccion_viento_temprano_Estenoreste    104731 non-null  uint8  \n",
      " 28  direccion_viento_temprano_Estesureste    104731 non-null  uint8  \n",
      " 29  direccion_viento_temprano_Noreste        104731 non-null  uint8  \n",
      " 30  direccion_viento_temprano_Nornoreste     104731 non-null  uint8  \n",
      " 31  direccion_viento_temprano_Noroeste       104731 non-null  uint8  \n",
      " 32  direccion_viento_temprano_Norte          104731 non-null  uint8  \n",
      " 33  direccion_viento_temprano_Oeste          104731 non-null  uint8  \n",
      " 34  direccion_viento_temprano_Oestenoroeste  104731 non-null  uint8  \n",
      " 35  direccion_viento_temprano_Oestesuroeste  104731 non-null  uint8  \n",
      " 36  direccion_viento_temprano_Sur            104731 non-null  uint8  \n",
      " 37  direccion_viento_temprano_Sureste        104731 non-null  uint8  \n",
      " 38  direccion_viento_temprano_Sursureste     104731 non-null  uint8  \n",
      " 39  direccion_viento_temprano_Sursuroeste    104731 non-null  uint8  \n",
      " 40  direccion_viento_temprano_suroeste       104731 non-null  uint8  \n",
      " 41  direccion_viento_temprano_nan            104731 non-null  uint8  \n",
      " 42  llovieron_hamburguesas_hoy_si            104731 non-null  uint8  \n",
      " 43  llovieron_hamburguesas_hoy_nan           104731 non-null  uint8  \n",
      " 44  infobarrio1                              104731 non-null  float32\n",
      " 45  infobarrio2                              104731 non-null  float32\n",
      " 46  infobarrio3                              104731 non-null  float32\n",
      " 47  infobarrio4                              104731 non-null  float32\n",
      " 48  infobarrio5                              104731 non-null  float32\n",
      " 49  infobarrio6                              104731 non-null  float32\n",
      " 50  infobarrio7                              104731 non-null  float32\n",
      " 51  infobarrio8                              104731 non-null  float32\n",
      " 52  infobarrio9                              104731 non-null  float32\n",
      " 53  infobarrio10                             104731 non-null  float32\n",
      "dtypes: float32(19), float64(2), int32(1), uint8(32)\n",
      "memory usage: 12.8 MB\n"
     ]
    }
   ],
   "source": [
    "X_train, var_explained = pp.reduce_dimension_of_features(\n",
    "    X_train,\n",
    "    n_final_features=10,\n",
    "    features_to_reduce=features_barrios,\n",
    "    feature_names=name_final_features\n",
    ")\n",
    "X_train = pp.convert_features(X_train, name_final_features, \"float32\")\n",
    "X_train.info()"
   ]
  },
  {
   "cell_type": "code",
   "execution_count": 17,
   "metadata": {},
   "outputs": [
    {
     "data": {
      "text/plain": [
       "array([0.02339446, 0.04643227, 0.06937441, 0.09182037, 0.11421328,\n",
       "       0.13643545, 0.15852618, 0.18053091, 0.20238697, 0.22418933])"
      ]
     },
     "execution_count": 17,
     "metadata": {},
     "output_type": "execute_result"
    }
   ],
   "source": [
    "var_explained.cumsum()"
   ]
  },
  {
   "cell_type": "markdown",
   "metadata": {
    "tags": []
   },
   "source": [
    "## Separamos en train y val-dev antes de hacer GridSearch"
   ]
  },
  {
   "cell_type": "code",
   "execution_count": 18,
   "metadata": {},
   "outputs": [],
   "source": [
    "X_train, X_test, y_train, y_test = train_test_split(X_train,\n",
    "                                                    y_train, \n",
    "                                                    test_size = 0.3, \n",
    "                                                    random_state = pp.RANDOM_STATE, \n",
    "                                                    stratify=y_train)"
   ]
  },
  {
   "cell_type": "markdown",
   "metadata": {},
   "source": [
    "# Buscamos los mejores hiperparametros\n",
    "\n",
    "Utilizamos GS para iterar entre todos los parametros y CV de 5 folds para obtener el mejor resultado por sobre varios testeos."
   ]
  },
  {
   "cell_type": "markdown",
   "metadata": {},
   "source": [
    "Determinamos \n",
    "#### n_estimators -> [350, 150, 500]\n",
    "#### max_depth -> [None, 10 ,30]\n",
    "#### min_samples_split -> [15, 20, 30, 60]"
   ]
  },
  {
   "cell_type": "code",
   "execution_count": 19,
   "metadata": {},
   "outputs": [],
   "source": [
    "%%script false --no-raise-error # Para no ejecutar este bloque\n",
    "params = {'n_estimators': [350, 150, 500], 'max_depth': [None, 10 ,30], 'min_samples_split': [15, 20, 30, 60]}\n",
    "clf = RandomForestClassifier()\n",
    "\n",
    "gscv = GridSearchCV(\n",
    "    clf, params, scoring='f1_micro', n_jobs=-1, cv=5, return_train_score=True\n",
    ").fit(X_train, y_train)\n",
    "\n",
    "gscv.best_estimator_"
   ]
  },
  {
   "cell_type": "markdown",
   "metadata": {},
   "source": [
    "# Cargamos el modelo ya con los mejores hiperparámetros y lo entrenamos\n",
    "Ya corrimos el GridSearch. Esta vez, al mejor modelo no lo guardamos en un .pickle como a los otros modelos, ya que pesaba mucho (son 500 árboles...). Por eso, decidimos simplemente construirlo a mano. Luego, entrenaremos este modelo pero en el X_train completo, para luego evaluarlo en X_test."
   ]
  },
  {
   "cell_type": "code",
   "execution_count": 20,
   "metadata": {},
   "outputs": [
    {
     "data": {
      "text/plain": [
       "RandomForestClassifier(max_depth=30, min_samples_split=15, n_estimators=500)"
      ]
     },
     "execution_count": 20,
     "metadata": {},
     "output_type": "execute_result"
    }
   ],
   "source": [
    "clf = RandomForestClassifier(max_depth=30, min_samples_split=15, n_estimators=500)\n",
    "clf"
   ]
  },
  {
   "cell_type": "code",
   "execution_count": 21,
   "metadata": {},
   "outputs": [
    {
     "data": {
      "text/plain": [
       "RandomForestClassifier(max_depth=30, min_samples_split=15, n_estimators=500)"
      ]
     },
     "execution_count": 21,
     "metadata": {},
     "output_type": "execute_result"
    }
   ],
   "source": [
    "clf.fit(X_train, y_train)"
   ]
  },
  {
   "cell_type": "markdown",
   "metadata": {},
   "source": [
    "# Evaluamos en val-dev y medimos la performance"
   ]
  },
  {
   "cell_type": "code",
   "execution_count": 22,
   "metadata": {},
   "outputs": [],
   "source": [
    "clf_pred = clf.predict(X_test)"
   ]
  },
  {
   "cell_type": "markdown",
   "metadata": {},
   "source": [
    "### F1, Precision, Recall, Accuracy"
   ]
  },
  {
   "cell_type": "code",
   "execution_count": 23,
   "metadata": {},
   "outputs": [
    {
     "data": {
      "text/plain": [
       "0.8402432346918742"
      ]
     },
     "execution_count": 23,
     "metadata": {},
     "output_type": "execute_result"
    }
   ],
   "source": [
    "f1_score(y_test, clf_pred, average='weighted')"
   ]
  },
  {
   "cell_type": "code",
   "execution_count": 24,
   "metadata": {
    "scrolled": true
   },
   "outputs": [
    {
     "data": {
      "text/plain": [
       "0.8442660855571233"
      ]
     },
     "execution_count": 24,
     "metadata": {},
     "output_type": "execute_result"
    }
   ],
   "source": [
    "precision_score(y_test, clf_pred,average='weighted')"
   ]
  },
  {
   "cell_type": "code",
   "execution_count": 25,
   "metadata": {},
   "outputs": [
    {
     "data": {
      "text/plain": [
       "0.8530553787396563"
      ]
     },
     "execution_count": 25,
     "metadata": {},
     "output_type": "execute_result"
    }
   ],
   "source": [
    "recall_score(y_test, clf_pred, average='weighted')"
   ]
  },
  {
   "cell_type": "code",
   "execution_count": 26,
   "metadata": {},
   "outputs": [
    {
     "data": {
      "text/plain": [
       "0.8530553787396563"
      ]
     },
     "execution_count": 26,
     "metadata": {},
     "output_type": "execute_result"
    }
   ],
   "source": [
    "accuracy_score(y_test, clf_pred)"
   ]
  },
  {
   "cell_type": "markdown",
   "metadata": {},
   "source": [
    "### Confusion Matrix"
   ]
  },
  {
   "cell_type": "code",
   "execution_count": 27,
   "metadata": {},
   "outputs": [],
   "source": [
    "clf_pred_proba = clf.predict_proba(X_test)\n",
    "clf_pred_proba_pos = clf_pred_proba[:,1] "
   ]
  },
  {
   "cell_type": "code",
   "execution_count": 28,
   "metadata": {},
   "outputs": [
    {
     "data": {
      "text/plain": [
       "<sklearn.metrics._plot.confusion_matrix.ConfusionMatrixDisplay at 0x7efc9f5d7f70>"
      ]
     },
     "execution_count": 28,
     "metadata": {},
     "output_type": "execute_result"
    },
    {
     "data": {
      "image/png": "[encoded data removed]",
      "text/plain": [
       "<Figure size 600x400 with 2 Axes>"
      ]
     },
     "metadata": {
      "needs_background": "light"
     },
     "output_type": "display_data"
    }
   ],
   "source": [
    "cm = confusion_matrix(y_test, clf_pred)\n",
    "disp = ConfusionMatrixDisplay(confusion_matrix=cm, display_labels=[0,1])\n",
    "fig, ax = plt.subplots(dpi=100)\n",
    "plt.title(\"Matriz de confusion\")\n",
    "disp.plot(ax=ax)"
   ]
  },
  {
   "cell_type": "markdown",
   "metadata": {},
   "source": [
    "### AUC-ROC"
   ]
  },
  {
   "cell_type": "code",
   "execution_count": 29,
   "metadata": {},
   "outputs": [],
   "source": [
    "def plot_roc(_fpr, _tpr, x):\n",
    "\n",
    "    roc_auc = auc(_fpr, _tpr)\n",
    "\n",
    "    plt.figure(figsize=(12, 8))\n",
    "    plt.plot(\n",
    "        _fpr, _tpr, color='darkorange', lw=2, label=f'ROC curve (area = {roc_auc:.5f})'\n",
    "    )\n",
    "    plt.plot([0, 1], [0, 1], color='navy', lw=2, linestyle='--')\n",
    "    plt.xlim([0.0, 1.0])\n",
    "    plt.ylim([0.0, 1.0])\n",
    "    plt.xlabel('False Positive Rate')\n",
    "    plt.ylabel('True Positive Rate')\n",
    "    plt.title('Receiver operating characteristic')\n",
    "    plt.legend(loc=\"lower right\")\n",
    "    plt.show()"
   ]
  },
  {
   "cell_type": "code",
   "execution_count": 30,
   "metadata": {},
   "outputs": [
    {
     "data": {
      "image/png": "[encoded data removed]",
      "text/plain": [
       "<Figure size 864x576 with 1 Axes>"
      ]
     },
     "metadata": {
      "needs_background": "light"
     },
     "output_type": "display_data"
    },
    {
     "name": "stdout",
     "output_type": "stream",
     "text": [
      "AUC_ROC:  0.8745638203009093\n"
     ]
    }
   ],
   "source": [
    "y_binary = pp.one_hot_encode(y_test, ['llovieron_hamburguesas_al_dia_siguiente'])\n",
    "pp.drop_features(y_binary, ['llovieron_hamburguesas_al_dia_siguiente_nan'])\n",
    "fpr, tpr, thresholds = roc_curve(y_binary, clf_pred_proba_pos)\n",
    "plot_roc(fpr, tpr, thresholds)\n",
    "print(\"AUC_ROC: \", roc_auc_score(y_binary, clf_pred_proba_pos))"
   ]
  },
  {
   "cell_type": "markdown",
   "metadata": {},
   "source": [
    "# Predicción sobre los datos privados de Flint\n",
    "\n",
    "Primero, hacemos el preprocesamiento de los datos, utilizando el mismo feature engineering que realizamos antes, para que el modelo pueda entender los datos que le pasamos. Luego, predecimos usando el modelo ya entrenado y finalmente guardamos los resultados."
   ]
  },
  {
   "cell_type": "code",
   "execution_count": 31,
   "metadata": {
    "scrolled": true
   },
   "outputs": [],
   "source": [
    "X_private = pp.get_X_private_features()"
   ]
  },
  {
   "cell_type": "code",
   "execution_count": 32,
   "metadata": {},
   "outputs": [],
   "source": [
    "def preprocess_X_for_RandomForest(X):\n",
    "    X['presion_atmosferica_tarde'] = X['presion_atmosferica_tarde'].astype('float32')\n",
    "    \n",
    "    X = pp.numerical_to_ordinal_categorical(X, \n",
    "                                            [\"nubosidad_tarde\", \"nubosidad_temprano\"], \n",
    "                                            [0,1,2,3,4,5,6,7,8])\n",
    "    pp.drop_features(X, \n",
    "              ['dia',\n",
    "             'humedad_temprano',\n",
    "             'temp_min',\n",
    "             'rafaga_viento_max_direccion',\n",
    "             'velocidad_viendo_tarde',\n",
    "             'velocidad_viendo_temprano',\n",
    "             'rafaga_viento_max_velocidad'\n",
    "    ])\n",
    "        \n",
    "    X = pp.one_hot_encode(X, ['direccion_viento_tarde','direccion_viento_temprano', 'llovieron_hamburguesas_hoy'])\n",
    "    X = pp.one_hot_encode(X, ['barrio'])\n",
    "    \n",
    "    X = pp.fill_nan_with_simple_imputer(X, X.columns, \"most_frequent\")\n",
    "    \n",
    "    features_barrios = list(filter(lambda c: \"barrio\" in c, X.columns))\n",
    "    name_final_features = [\"infobarrio1\",\"infobarrio2\",\"infobarrio3\",\"infobarrio4\",\"infobarrio5\",\n",
    "                      \"infobarrio6\",\"infobarrio7\",\"infobarrio8\",\"infobarrio9\",\"infobarrio10\"]\n",
    "    X, var_explained = pp.reduce_dimension_of_features(\n",
    "        X,\n",
    "        n_final_features=10,\n",
    "        features_to_reduce=features_barrios,\n",
    "        feature_names=name_final_features\n",
    "    )\n",
    "    X = pp.convert_features(X, name_final_features, \"float32\")\n",
    "    \n",
    "    return X"
   ]
  },
  {
   "cell_type": "code",
   "execution_count": 33,
   "metadata": {},
   "outputs": [],
   "source": [
    "X_private = preprocess_X_for_RandomForest(X_private)"
   ]
  },
  {
   "cell_type": "code",
   "execution_count": 34,
   "metadata": {},
   "outputs": [],
   "source": [
    "rf_priv_feat_pred = clf.predict(X_private)"
   ]
  },
  {
   "cell_type": "code",
   "execution_count": 35,
   "metadata": {},
   "outputs": [
    {
     "data": {
      "text/html": [
       "<div>\n",
       "<style scoped>\n",
       "    .dataframe tbody tr th:only-of-type {\n",
       "        vertical-align: middle;\n",
       "    }\n",
       "\n",
       "    .dataframe tbody tr th {\n",
       "        vertical-align: top;\n",
       "    }\n",
       "\n",
       "    .dataframe thead th {\n",
       "        text-align: right;\n",
       "    }\n",
       "</style>\n",
       "<table border=\"1\" class=\"dataframe\">\n",
       "  <thead>\n",
       "    <tr style=\"text-align: right;\">\n",
       "      <th></th>\n",
       "      <th>llovieron_hamburguesas_al_dia_siguiente</th>\n",
       "    </tr>\n",
       "    <tr>\n",
       "      <th>id</th>\n",
       "      <th></th>\n",
       "    </tr>\n",
       "  </thead>\n",
       "  <tbody>\n",
       "    <tr>\n",
       "      <th>116706</th>\n",
       "      <td>no</td>\n",
       "    </tr>\n",
       "    <tr>\n",
       "      <th>58831</th>\n",
       "      <td>no</td>\n",
       "    </tr>\n",
       "    <tr>\n",
       "      <th>31981</th>\n",
       "      <td>no</td>\n",
       "    </tr>\n",
       "    <tr>\n",
       "      <th>2533</th>\n",
       "      <td>no</td>\n",
       "    </tr>\n",
       "    <tr>\n",
       "      <th>7270</th>\n",
       "      <td>si</td>\n",
       "    </tr>\n",
       "  </tbody>\n",
       "</table>\n",
       "</div>"
      ],
      "text/plain": [
       "       llovieron_hamburguesas_al_dia_siguiente\n",
       "id                                            \n",
       "116706                                      no\n",
       "58831                                       no\n",
       "31981                                       no\n",
       "2533                                        no\n",
       "7270                                        si"
      ]
     },
     "execution_count": 35,
     "metadata": {},
     "output_type": "execute_result"
    }
   ],
   "source": [
    "predictions = X_private.loc[:,['id']]\n",
    "predictions[\"llovieron_hamburguesas_al_dia_siguiente\"] = rf_priv_feat_pred\n",
    "predictions = predictions.set_index('id')\n",
    "predictions.head()"
   ]
  },
  {
   "cell_type": "code",
   "execution_count": 36,
   "metadata": {},
   "outputs": [],
   "source": [
    "predictions.to_csv('predicciones/RandomForest.csv')"
   ]
  }
 ],
 "metadata": {
  "kernelspec": {
   "display_name": "Python 3",
   "language": "python",
   "name": "python3"
  },
  "language_info": {
   "codemirror_mode": {
    "name": "ipython",
    "version": 3
   },
   "file_extension": ".py",
   "mimetype": "text/x-python",
   "name": "python",
   "nbconvert_exporter": "python",
   "pygments_lexer": "ipython3",
   "version": "3.8.5"
  }
 },
 "nbformat": 4,
 "nbformat_minor": 4
}
