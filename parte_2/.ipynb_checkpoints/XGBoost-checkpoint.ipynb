{
 "cells": [
  {
   "cell_type": "markdown",
   "metadata": {},
   "source": [
    "# **XGBoost**"
   ]
  },
  {
   "cell_type": "code",
   "execution_count": 1,
   "metadata": {},
   "outputs": [],
   "source": [
    "import numpy as np\n",
    "import pandas as pd\n",
    "import matplotlib.pyplot as plt\n",
    "import seaborn as sns\n",
    "import warnings\n",
    "from sklearn.metrics import accuracy_score, confusion_matrix, ConfusionMatrixDisplay, roc_auc_score, f1_score, precision_score, recall_score, roc_curve, auc\n",
    "from sklearn.preprocessing import OneHotEncoder\n",
    "from sklearn.model_selection import cross_val_score, train_test_split, RepeatedKFold, GridSearchCV\n",
    "import multiprocessing\n",
    "import joblib\n",
    "from xgboost import XGBClassifier\n",
    "import preprocessing as pp\n",
    "\n",
    "warnings.filterwarnings('ignore')"
   ]
  },
  {
   "cell_type": "markdown",
   "metadata": {},
   "source": [
    "# Obtenemos los dataframes con los que trabajaremos"
   ]
  },
  {
   "cell_type": "code",
   "execution_count": 2,
   "metadata": {},
   "outputs": [],
   "source": [
    "X, y = pp.get_X_y_from_dataset()"
   ]
  },
  {
   "cell_type": "markdown",
   "metadata": {},
   "source": [
    "Hay un problema... la variable target \"llovieron_hamburguesas_al_dia_siguiente\" contiene NaNs (~2600). Esto es un problema a la hora de separar en train-valdev-holdout usando train_test_split si queremos preservar la proporción entre las clases del target en la partición (es decir, pasandole a esa función stratify=y). Como test-holdout nunca debe ver los datos de train o valdev, no deberíamos rellenar dichos NaNs usando datos de otras instancias (si no habría data leaks). Por ende, decidimos completar estos NaNs con la clase mayoritaria por lejos, el \"no\". "
   ]
  },
  {
   "cell_type": "code",
   "execution_count": 3,
   "metadata": {},
   "outputs": [],
   "source": [
    "y = pp.fill_nan_with_simple_imputer(y, [\"llovieron_hamburguesas_al_dia_siguiente\"], \"most_frequent\")"
   ]
  },
  {
   "cell_type": "markdown",
   "metadata": {},
   "source": [
    "También no necesitamos la columna de id."
   ]
  },
  {
   "cell_type": "code",
   "execution_count": 4,
   "metadata": {},
   "outputs": [],
   "source": [
    "pp.drop_features(y, ['id']) "
   ]
  },
  {
   "cell_type": "markdown",
   "metadata": {},
   "source": [
    "## Separamos en train y test-holdout\n",
    "Test-holdout lo usaremos como métrica del mejor de los 5 modelos, para tener una idea antes que salga a producción. Tomaremos un 10% para el holdout, y hacemos que sea stratificado, de forma que divida el train y holdout teniendo en cuenta la proporción de la variable target. Notar que usamos el mismo RANDOM_STATE para todos los train_test_splits de los modelos para poder reproducir las mismas condiciones, entrenando y evaluando sobre las mismas particiones."
   ]
  },
  {
   "cell_type": "code",
   "execution_count": 5,
   "metadata": {},
   "outputs": [],
   "source": [
    "X_train, X_holdout, y_train, y_holdout = train_test_split(\n",
    "    X, y, random_state=pp.RANDOM_STATE, test_size=0.1, stratify=y\n",
    ")"
   ]
  },
  {
   "cell_type": "markdown",
   "metadata": {
    "tags": []
   },
   "source": [
    "# Preprocesamiento y Feature Engineering"
   ]
  },
  {
   "cell_type": "markdown",
   "metadata": {},
   "source": [
    "A diferencia de las implementaciones de SKLearn, el XGBoost de esta librería no necesita tener una variable target numérica. Por eso no la encodeamos. "
   ]
  },
  {
   "cell_type": "markdown",
   "metadata": {},
   "source": [
    "## Corregimos los valores erraticos del dataset"
   ]
  },
  {
   "cell_type": "markdown",
   "metadata": {},
   "source": [
    "El feature presión_atmosférica_tarde tiene algunos valores erráticos. Los eliminamos y dejamos temporalmente como NaN, de forma de rellenarlos (o no) a posteriori."
   ]
  },
  {
   "cell_type": "code",
   "execution_count": 6,
   "metadata": {},
   "outputs": [],
   "source": [
    "err_values_presion_atm = ['10.167.769.999.999.900', '1.009.555']\n",
    "\n",
    "pp.convert_values_to_nan(X_train, 'presion_atmosferica_tarde', err_values_presion_atm)"
   ]
  },
  {
   "cell_type": "markdown",
   "metadata": {},
   "source": [
    "Ahora sí, podemos convertir este feature de object a float16."
   ]
  },
  {
   "cell_type": "code",
   "execution_count": 7,
   "metadata": {},
   "outputs": [],
   "source": [
    "X_train['presion_atmosferica_tarde'] = X_train['presion_atmosferica_tarde'].astype('float32')"
   ]
  },
  {
   "cell_type": "markdown",
   "metadata": {},
   "source": [
    "Y ahora corregimos los valores erráticos de la nubosidad_tarde y nubosidad_temprano:"
   ]
  },
  {
   "cell_type": "code",
   "execution_count": 8,
   "metadata": {
    "scrolled": true
   },
   "outputs": [],
   "source": [
    "err_values_nubosidad = [9.0]\n",
    "\n",
    "pp.convert_values_to_nan(X_train, 'nubosidad_tarde', err_values_nubosidad)\n",
    "pp.convert_values_to_nan(X_train, 'nubosidad_temprano', err_values_nubosidad)"
   ]
  },
  {
   "cell_type": "markdown",
   "metadata": {},
   "source": [
    "## Descartamos features irrelevantes"
   ]
  },
  {
   "cell_type": "markdown",
   "metadata": {},
   "source": [
    "Descartamos los features que no resultan relevantes para el modelo."
   ]
  },
  {
   "cell_type": "code",
   "execution_count": 9,
   "metadata": {},
   "outputs": [],
   "source": [
    "pp.drop_features(X_train, [\n",
    "    'dia',\n",
    "    'barrio',\n",
    "    'humedad_temprano',\n",
    "    'temp_min',\n",
    "    'rafaga_viento_max_direccion',\n",
    "    'velocidad_viendo_tarde',\n",
    "    'velocidad_viendo_temprano',\n",
    "    'rafaga_viento_max_velocidad'\n",
    "])"
   ]
  },
  {
   "cell_type": "markdown",
   "metadata": {},
   "source": [
    "## Escalar las variables numericas"
   ]
  },
  {
   "cell_type": "markdown",
   "metadata": {},
   "source": [
    "Escalamos las variables numericas para que esten todas dentro de un mismo parametro."
   ]
  },
  {
   "cell_type": "code",
   "execution_count": 10,
   "metadata": {},
   "outputs": [
    {
     "data": {
      "text/html": [
       "<div>\n",
       "<style scoped>\n",
       "    .dataframe tbody tr th:only-of-type {\n",
       "        vertical-align: middle;\n",
       "    }\n",
       "\n",
       "    .dataframe tbody tr th {\n",
       "        vertical-align: top;\n",
       "    }\n",
       "\n",
       "    .dataframe thead th {\n",
       "        text-align: right;\n",
       "    }\n",
       "</style>\n",
       "<table border=\"1\" class=\"dataframe\">\n",
       "  <thead>\n",
       "    <tr style=\"text-align: right;\">\n",
       "      <th></th>\n",
       "      <th>direccion_viento_tarde</th>\n",
       "      <th>direccion_viento_temprano</th>\n",
       "      <th>horas_de_sol</th>\n",
       "      <th>humedad_tarde</th>\n",
       "      <th>id</th>\n",
       "      <th>llovieron_hamburguesas_hoy</th>\n",
       "      <th>mm_evaporados_agua</th>\n",
       "      <th>mm_lluvia_dia</th>\n",
       "      <th>nubosidad_tarde</th>\n",
       "      <th>nubosidad_temprano</th>\n",
       "      <th>presion_atmosferica_tarde</th>\n",
       "      <th>presion_atmosferica_temprano</th>\n",
       "      <th>temp_max</th>\n",
       "      <th>temperatura_tarde</th>\n",
       "      <th>temperatura_temprano</th>\n",
       "    </tr>\n",
       "  </thead>\n",
       "  <tbody>\n",
       "    <tr>\n",
       "      <th>32489</th>\n",
       "      <td>Norte</td>\n",
       "      <td>Nornoreste</td>\n",
       "      <td>NaN</td>\n",
       "      <td>-2.192918</td>\n",
       "      <td>144830</td>\n",
       "      <td>no</td>\n",
       "      <td>NaN</td>\n",
       "      <td>-0.280907</td>\n",
       "      <td>NaN</td>\n",
       "      <td>NaN</td>\n",
       "      <td>-0.221242</td>\n",
       "      <td>0.372084</td>\n",
       "      <td>1.541459</td>\n",
       "      <td>1.631562</td>\n",
       "      <td>1.385308</td>\n",
       "    </tr>\n",
       "    <tr>\n",
       "      <th>83946</th>\n",
       "      <td>Sureste</td>\n",
       "      <td>Sursureste</td>\n",
       "      <td>-0.904636</td>\n",
       "      <td>1.228314</td>\n",
       "      <td>87711</td>\n",
       "      <td>no</td>\n",
       "      <td>-0.690600</td>\n",
       "      <td>-0.280907</td>\n",
       "      <td>7.0</td>\n",
       "      <td>5.0</td>\n",
       "      <td>-0.235449</td>\n",
       "      <td>-0.260813</td>\n",
       "      <td>1.035333</td>\n",
       "      <td>0.895409</td>\n",
       "      <td>1.708862</td>\n",
       "    </tr>\n",
       "    <tr>\n",
       "      <th>21588</th>\n",
       "      <td>Sur</td>\n",
       "      <td>Estesureste</td>\n",
       "      <td>0.099665</td>\n",
       "      <td>-1.229190</td>\n",
       "      <td>136988</td>\n",
       "      <td>no</td>\n",
       "      <td>-0.353998</td>\n",
       "      <td>-0.280907</td>\n",
       "      <td>5.0</td>\n",
       "      <td>2.0</td>\n",
       "      <td>0.503062</td>\n",
       "      <td>0.498666</td>\n",
       "      <td>-0.131569</td>\n",
       "      <td>-0.172735</td>\n",
       "      <td>-1.110675</td>\n",
       "    </tr>\n",
       "    <tr>\n",
       "      <th>20436</th>\n",
       "      <td>Oestesuroeste</td>\n",
       "      <td>Oeste</td>\n",
       "      <td>-0.772491</td>\n",
       "      <td>0.794636</td>\n",
       "      <td>99850</td>\n",
       "      <td>si</td>\n",
       "      <td>0.126863</td>\n",
       "      <td>-0.042663</td>\n",
       "      <td>7.0</td>\n",
       "      <td>7.0</td>\n",
       "      <td>0.219020</td>\n",
       "      <td>-0.724935</td>\n",
       "      <td>-0.961053</td>\n",
       "      <td>-1.038798</td>\n",
       "      <td>-0.586826</td>\n",
       "    </tr>\n",
       "    <tr>\n",
       "      <th>105562</th>\n",
       "      <td>Oeste</td>\n",
       "      <td>Estesureste</td>\n",
       "      <td>0.707531</td>\n",
       "      <td>-1.132818</td>\n",
       "      <td>80032</td>\n",
       "      <td>no</td>\n",
       "      <td>-0.353998</td>\n",
       "      <td>-0.280907</td>\n",
       "      <td>7.0</td>\n",
       "      <td>4.0</td>\n",
       "      <td>0.829709</td>\n",
       "      <td>1.159694</td>\n",
       "      <td>0.219907</td>\n",
       "      <td>0.072650</td>\n",
       "      <td>-0.633048</td>\n",
       "    </tr>\n",
       "  </tbody>\n",
       "</table>\n",
       "</div>"
      ],
      "text/plain": [
       "       direccion_viento_tarde direccion_viento_temprano  horas_de_sol  \\\n",
       "32489                   Norte                Nornoreste           NaN   \n",
       "83946                 Sureste                Sursureste     -0.904636   \n",
       "21588                     Sur               Estesureste      0.099665   \n",
       "20436           Oestesuroeste                     Oeste     -0.772491   \n",
       "105562                  Oeste               Estesureste      0.707531   \n",
       "\n",
       "        humedad_tarde      id llovieron_hamburguesas_hoy  mm_evaporados_agua  \\\n",
       "32489       -2.192918  144830                         no                 NaN   \n",
       "83946        1.228314   87711                         no           -0.690600   \n",
       "21588       -1.229190  136988                         no           -0.353998   \n",
       "20436        0.794636   99850                         si            0.126863   \n",
       "105562      -1.132818   80032                         no           -0.353998   \n",
       "\n",
       "        mm_lluvia_dia  nubosidad_tarde  nubosidad_temprano  \\\n",
       "32489       -0.280907              NaN                 NaN   \n",
       "83946       -0.280907              7.0                 5.0   \n",
       "21588       -0.280907              5.0                 2.0   \n",
       "20436       -0.042663              7.0                 7.0   \n",
       "105562      -0.280907              7.0                 4.0   \n",
       "\n",
       "        presion_atmosferica_tarde  presion_atmosferica_temprano  temp_max  \\\n",
       "32489                   -0.221242                      0.372084  1.541459   \n",
       "83946                   -0.235449                     -0.260813  1.035333   \n",
       "21588                    0.503062                      0.498666 -0.131569   \n",
       "20436                    0.219020                     -0.724935 -0.961053   \n",
       "105562                   0.829709                      1.159694  0.219907   \n",
       "\n",
       "        temperatura_tarde  temperatura_temprano  \n",
       "32489            1.631562              1.385308  \n",
       "83946            0.895409              1.708862  \n",
       "21588           -0.172735             -1.110675  \n",
       "20436           -1.038798             -0.586826  \n",
       "105562           0.072650             -0.633048  "
      ]
     },
     "execution_count": 10,
     "metadata": {},
     "output_type": "execute_result"
    }
   ],
   "source": [
    "features_to_scale = ['horas_de_sol','humedad_tarde', 'mm_evaporados_agua', \n",
    "                     'mm_lluvia_dia', 'presion_atmosferica_temprano', 'presion_atmosferica_tarde', \n",
    "                     'temp_max', 'temperatura_tarde', \n",
    "                     'temperatura_temprano']\n",
    "\n",
    "X_train = pp.standard_scale(X_train, features_to_scale)\n",
    "X_train.head()"
   ]
  },
  {
   "cell_type": "markdown",
   "metadata": {},
   "source": [
    "## Aplicamos One Hot encoding a las variables categóricas no ordinales"
   ]
  },
  {
   "cell_type": "code",
   "execution_count": 11,
   "metadata": {},
   "outputs": [
    {
     "data": {
      "text/html": [
       "<div>\n",
       "<style scoped>\n",
       "    .dataframe tbody tr th:only-of-type {\n",
       "        vertical-align: middle;\n",
       "    }\n",
       "\n",
       "    .dataframe tbody tr th {\n",
       "        vertical-align: top;\n",
       "    }\n",
       "\n",
       "    .dataframe thead th {\n",
       "        text-align: right;\n",
       "    }\n",
       "</style>\n",
       "<table border=\"1\" class=\"dataframe\">\n",
       "  <thead>\n",
       "    <tr style=\"text-align: right;\">\n",
       "      <th></th>\n",
       "      <th>horas_de_sol</th>\n",
       "      <th>humedad_tarde</th>\n",
       "      <th>id</th>\n",
       "      <th>mm_evaporados_agua</th>\n",
       "      <th>mm_lluvia_dia</th>\n",
       "      <th>nubosidad_tarde</th>\n",
       "      <th>nubosidad_temprano</th>\n",
       "      <th>presion_atmosferica_tarde</th>\n",
       "      <th>presion_atmosferica_temprano</th>\n",
       "      <th>temp_max</th>\n",
       "      <th>...</th>\n",
       "      <th>direccion_viento_temprano_Oestenoroeste</th>\n",
       "      <th>direccion_viento_temprano_Oestesuroeste</th>\n",
       "      <th>direccion_viento_temprano_Sur</th>\n",
       "      <th>direccion_viento_temprano_Sureste</th>\n",
       "      <th>direccion_viento_temprano_Sursureste</th>\n",
       "      <th>direccion_viento_temprano_Sursuroeste</th>\n",
       "      <th>direccion_viento_temprano_suroeste</th>\n",
       "      <th>direccion_viento_temprano_nan</th>\n",
       "      <th>llovieron_hamburguesas_hoy_si</th>\n",
       "      <th>llovieron_hamburguesas_hoy_nan</th>\n",
       "    </tr>\n",
       "  </thead>\n",
       "  <tbody>\n",
       "    <tr>\n",
       "      <th>32489</th>\n",
       "      <td>NaN</td>\n",
       "      <td>-2.192918</td>\n",
       "      <td>144830</td>\n",
       "      <td>NaN</td>\n",
       "      <td>-0.280907</td>\n",
       "      <td>NaN</td>\n",
       "      <td>NaN</td>\n",
       "      <td>-0.221242</td>\n",
       "      <td>0.372084</td>\n",
       "      <td>1.541459</td>\n",
       "      <td>...</td>\n",
       "      <td>0</td>\n",
       "      <td>0</td>\n",
       "      <td>0</td>\n",
       "      <td>0</td>\n",
       "      <td>0</td>\n",
       "      <td>0</td>\n",
       "      <td>0</td>\n",
       "      <td>0</td>\n",
       "      <td>0</td>\n",
       "      <td>0</td>\n",
       "    </tr>\n",
       "    <tr>\n",
       "      <th>83946</th>\n",
       "      <td>-0.904636</td>\n",
       "      <td>1.228314</td>\n",
       "      <td>87711</td>\n",
       "      <td>-0.690600</td>\n",
       "      <td>-0.280907</td>\n",
       "      <td>7.0</td>\n",
       "      <td>5.0</td>\n",
       "      <td>-0.235449</td>\n",
       "      <td>-0.260813</td>\n",
       "      <td>1.035333</td>\n",
       "      <td>...</td>\n",
       "      <td>0</td>\n",
       "      <td>0</td>\n",
       "      <td>0</td>\n",
       "      <td>0</td>\n",
       "      <td>1</td>\n",
       "      <td>0</td>\n",
       "      <td>0</td>\n",
       "      <td>0</td>\n",
       "      <td>0</td>\n",
       "      <td>0</td>\n",
       "    </tr>\n",
       "    <tr>\n",
       "      <th>21588</th>\n",
       "      <td>0.099665</td>\n",
       "      <td>-1.229190</td>\n",
       "      <td>136988</td>\n",
       "      <td>-0.353998</td>\n",
       "      <td>-0.280907</td>\n",
       "      <td>5.0</td>\n",
       "      <td>2.0</td>\n",
       "      <td>0.503062</td>\n",
       "      <td>0.498666</td>\n",
       "      <td>-0.131569</td>\n",
       "      <td>...</td>\n",
       "      <td>0</td>\n",
       "      <td>0</td>\n",
       "      <td>0</td>\n",
       "      <td>0</td>\n",
       "      <td>0</td>\n",
       "      <td>0</td>\n",
       "      <td>0</td>\n",
       "      <td>0</td>\n",
       "      <td>0</td>\n",
       "      <td>0</td>\n",
       "    </tr>\n",
       "    <tr>\n",
       "      <th>20436</th>\n",
       "      <td>-0.772491</td>\n",
       "      <td>0.794636</td>\n",
       "      <td>99850</td>\n",
       "      <td>0.126863</td>\n",
       "      <td>-0.042663</td>\n",
       "      <td>7.0</td>\n",
       "      <td>7.0</td>\n",
       "      <td>0.219020</td>\n",
       "      <td>-0.724935</td>\n",
       "      <td>-0.961053</td>\n",
       "      <td>...</td>\n",
       "      <td>0</td>\n",
       "      <td>0</td>\n",
       "      <td>0</td>\n",
       "      <td>0</td>\n",
       "      <td>0</td>\n",
       "      <td>0</td>\n",
       "      <td>0</td>\n",
       "      <td>0</td>\n",
       "      <td>1</td>\n",
       "      <td>0</td>\n",
       "    </tr>\n",
       "    <tr>\n",
       "      <th>105562</th>\n",
       "      <td>0.707531</td>\n",
       "      <td>-1.132818</td>\n",
       "      <td>80032</td>\n",
       "      <td>-0.353998</td>\n",
       "      <td>-0.280907</td>\n",
       "      <td>7.0</td>\n",
       "      <td>4.0</td>\n",
       "      <td>0.829709</td>\n",
       "      <td>1.159694</td>\n",
       "      <td>0.219907</td>\n",
       "      <td>...</td>\n",
       "      <td>0</td>\n",
       "      <td>0</td>\n",
       "      <td>0</td>\n",
       "      <td>0</td>\n",
       "      <td>0</td>\n",
       "      <td>0</td>\n",
       "      <td>0</td>\n",
       "      <td>0</td>\n",
       "      <td>0</td>\n",
       "      <td>0</td>\n",
       "    </tr>\n",
       "  </tbody>\n",
       "</table>\n",
       "<p>5 rows × 44 columns</p>\n",
       "</div>"
      ],
      "text/plain": [
       "        horas_de_sol  humedad_tarde      id  mm_evaporados_agua  \\\n",
       "32489            NaN      -2.192918  144830                 NaN   \n",
       "83946      -0.904636       1.228314   87711           -0.690600   \n",
       "21588       0.099665      -1.229190  136988           -0.353998   \n",
       "20436      -0.772491       0.794636   99850            0.126863   \n",
       "105562      0.707531      -1.132818   80032           -0.353998   \n",
       "\n",
       "        mm_lluvia_dia  nubosidad_tarde  nubosidad_temprano  \\\n",
       "32489       -0.280907              NaN                 NaN   \n",
       "83946       -0.280907              7.0                 5.0   \n",
       "21588       -0.280907              5.0                 2.0   \n",
       "20436       -0.042663              7.0                 7.0   \n",
       "105562      -0.280907              7.0                 4.0   \n",
       "\n",
       "        presion_atmosferica_tarde  presion_atmosferica_temprano  temp_max  \\\n",
       "32489                   -0.221242                      0.372084  1.541459   \n",
       "83946                   -0.235449                     -0.260813  1.035333   \n",
       "21588                    0.503062                      0.498666 -0.131569   \n",
       "20436                    0.219020                     -0.724935 -0.961053   \n",
       "105562                   0.829709                      1.159694  0.219907   \n",
       "\n",
       "        ...  direccion_viento_temprano_Oestenoroeste  \\\n",
       "32489   ...                                        0   \n",
       "83946   ...                                        0   \n",
       "21588   ...                                        0   \n",
       "20436   ...                                        0   \n",
       "105562  ...                                        0   \n",
       "\n",
       "        direccion_viento_temprano_Oestesuroeste  \\\n",
       "32489                                         0   \n",
       "83946                                         0   \n",
       "21588                                         0   \n",
       "20436                                         0   \n",
       "105562                                        0   \n",
       "\n",
       "        direccion_viento_temprano_Sur  direccion_viento_temprano_Sureste  \\\n",
       "32489                               0                                  0   \n",
       "83946                               0                                  0   \n",
       "21588                               0                                  0   \n",
       "20436                               0                                  0   \n",
       "105562                              0                                  0   \n",
       "\n",
       "        direccion_viento_temprano_Sursureste  \\\n",
       "32489                                      0   \n",
       "83946                                      1   \n",
       "21588                                      0   \n",
       "20436                                      0   \n",
       "105562                                     0   \n",
       "\n",
       "        direccion_viento_temprano_Sursuroeste  \\\n",
       "32489                                       0   \n",
       "83946                                       0   \n",
       "21588                                       0   \n",
       "20436                                       0   \n",
       "105562                                      0   \n",
       "\n",
       "        direccion_viento_temprano_suroeste  direccion_viento_temprano_nan  \\\n",
       "32489                                    0                              0   \n",
       "83946                                    0                              0   \n",
       "21588                                    0                              0   \n",
       "20436                                    0                              0   \n",
       "105562                                   0                              0   \n",
       "\n",
       "        llovieron_hamburguesas_hoy_si  llovieron_hamburguesas_hoy_nan  \n",
       "32489                               0                               0  \n",
       "83946                               0                               0  \n",
       "21588                               0                               0  \n",
       "20436                               1                               0  \n",
       "105562                              0                               0  \n",
       "\n",
       "[5 rows x 44 columns]"
      ]
     },
     "execution_count": 11,
     "metadata": {},
     "output_type": "execute_result"
    }
   ],
   "source": [
    "X_train = pp.one_hot_encode(X_train, ['direccion_viento_tarde','direccion_viento_temprano', 'llovieron_hamburguesas_hoy'])\n",
    "X_train.head()"
   ]
  },
  {
   "cell_type": "markdown",
   "metadata": {},
   "source": [
    "## Completamos NaNs con la clase más frecuente\n",
    "\n",
    "Realizamos este paso para tener el dataset lo mas completo posible y así poder trabajar con mas datos. "
   ]
  },
  {
   "cell_type": "code",
   "execution_count": 12,
   "metadata": {},
   "outputs": [],
   "source": [
    "X_train = pp.fill_nan_with_simple_imputer(X_train, X_train.columns, \"most_frequent\")"
   ]
  },
  {
   "cell_type": "markdown",
   "metadata": {
    "tags": []
   },
   "source": [
    "## Separamos en train y val-dev antes de hacer GridSearch"
   ]
  },
  {
   "cell_type": "code",
   "execution_count": 13,
   "metadata": {},
   "outputs": [],
   "source": [
    "X_train, X_test, y_train, y_test = train_test_split(X_train,\n",
    "                                                    y_train, \n",
    "                                                    test_size = 0.3, \n",
    "                                                    random_state = pp.RANDOM_STATE, \n",
    "                                                    stratify=y_train)"
   ]
  },
  {
   "cell_type": "markdown",
   "metadata": {},
   "source": [
    "# Buscamos los mejores hiperparámetros\n",
    "Utilizamos GS para iterar entre todos los parametros y CV de 5 folds para obtener el mejor resultado por sobre varios testeos."
   ]
  },
  {
   "cell_type": "markdown",
   "metadata": {},
   "source": [
    "Determinamos \n",
    "#### subsample -> [0.8, 0.4, 0.1]\n",
    "#### learning_rate -> [0.001, 0.01, 0.04, 0.1, 0.15]\n",
    "#### gamma -> [0,1,2]"
   ]
  },
  {
   "cell_type": "code",
   "execution_count": 14,
   "metadata": {},
   "outputs": [],
   "source": [
    "%%script false --no-raise-error # Para no ejecutar este bloque\n",
    "params = {'subsample': [0.8, 0.4, 0.1], 'learning_rate': [0.001, 0.01, 0.04, 0.1, 0.15], 'gamma': [0,1,2]}\n",
    "\n",
    "clf = XGBClassifier()\n",
    "\n",
    "gscv = GridSearchCV(\n",
    "    clf, params, scoring='f1_micro', n_jobs=-1, cv=5, return_train_score=True\n",
    ").fit(X_train, y_train)\n",
    "\n",
    "joblib.dump(gscv.best_estimator_, open(\"gridsearch_results/best_models/best_model_XGBoost.pickle\", \"wb\"))"
   ]
  },
  {
   "cell_type": "markdown",
   "metadata": {},
   "source": [
    "# Cargamos el modelo ya con los mejores hiperparámetros y lo entrenamos\n",
    "Ya corrimos el GridSearch y nos guardamos el mejor clasificador que encontró. Carguémoslo y usemos ese. Entrenaremos este modelo pero en el X_train completo, para luego evaluarlo en X_test."
   ]
  },
  {
   "cell_type": "code",
   "execution_count": 15,
   "metadata": {},
   "outputs": [
    {
     "data": {
      "text/plain": [
       "XGBClassifier(base_score=0.5, booster='gbtree', colsample_bylevel=1,\n",
       "              colsample_bynode=1, colsample_bytree=1, gamma=1, gpu_id=-1,\n",
       "              importance_type='gain', interaction_constraints='',\n",
       "              learning_rate=0.15, max_delta_step=0, max_depth=6,\n",
       "              min_child_weight=1, missing=nan, monotone_constraints='()',\n",
       "              n_estimators=100, n_jobs=4, num_parallel_tree=1, random_state=0,\n",
       "              reg_alpha=0, reg_lambda=1, scale_pos_weight=1, subsample=0.8,\n",
       "              tree_method='exact', validate_parameters=1, verbosity=None)"
      ]
     },
     "execution_count": 15,
     "metadata": {},
     "output_type": "execute_result"
    }
   ],
   "source": [
    "clf = joblib.load(\"gridsearch_results/best_models/best_model_XGBoost.pickle\")\n",
    "clf"
   ]
  },
  {
   "cell_type": "code",
   "execution_count": 16,
   "metadata": {},
   "outputs": [
    {
     "name": "stdout",
     "output_type": "stream",
     "text": [
      "[22:03:07] WARNING: ../src/learner.cc:1095: Starting in XGBoost 1.3.0, the default evaluation metric used with the objective 'binary:logistic' was changed from 'error' to 'logloss'. Explicitly set eval_metric if you'd like to restore the old behavior.\n"
     ]
    },
    {
     "data": {
      "text/plain": [
       "XGBClassifier(base_score=0.5, booster='gbtree', colsample_bylevel=1,\n",
       "              colsample_bynode=1, colsample_bytree=1, gamma=1, gpu_id=-1,\n",
       "              importance_type='gain', interaction_constraints='',\n",
       "              learning_rate=0.15, max_delta_step=0, max_depth=6,\n",
       "              min_child_weight=1, missing=nan, monotone_constraints='()',\n",
       "              n_estimators=100, n_jobs=4, num_parallel_tree=1, random_state=0,\n",
       "              reg_alpha=0, reg_lambda=1, scale_pos_weight=1, subsample=0.8,\n",
       "              tree_method='exact', validate_parameters=1, verbosity=None)"
      ]
     },
     "execution_count": 16,
     "metadata": {},
     "output_type": "execute_result"
    }
   ],
   "source": [
    "clf.fit(X_train, y_train)"
   ]
  },
  {
   "cell_type": "markdown",
   "metadata": {},
   "source": [
    "# Evaluamos en val-dev y medimos la performance"
   ]
  },
  {
   "cell_type": "code",
   "execution_count": 17,
   "metadata": {},
   "outputs": [],
   "source": [
    "clf_pred = clf.predict(X_test)"
   ]
  },
  {
   "cell_type": "markdown",
   "metadata": {},
   "source": [
    "### F1, Precision, Recall, Accuracy"
   ]
  },
  {
   "cell_type": "code",
   "execution_count": 18,
   "metadata": {},
   "outputs": [
    {
     "data": {
      "text/plain": [
       "0.8405340978533018"
      ]
     },
     "execution_count": 18,
     "metadata": {},
     "output_type": "execute_result"
    }
   ],
   "source": [
    "f1_score(y_test, clf_pred, average='weighted')"
   ]
  },
  {
   "cell_type": "code",
   "execution_count": 19,
   "metadata": {
    "scrolled": true
   },
   "outputs": [
    {
     "data": {
      "text/plain": [
       "0.8419214638590963"
      ]
     },
     "execution_count": 19,
     "metadata": {},
     "output_type": "execute_result"
    }
   ],
   "source": [
    "precision_score(y_test, clf_pred, average='weighted')"
   ]
  },
  {
   "cell_type": "code",
   "execution_count": 20,
   "metadata": {},
   "outputs": [
    {
     "data": {
      "text/plain": [
       "0.8514322087842139"
      ]
     },
     "execution_count": 20,
     "metadata": {},
     "output_type": "execute_result"
    }
   ],
   "source": [
    "recall_score(y_test, clf_pred, average='weighted')"
   ]
  },
  {
   "cell_type": "code",
   "execution_count": 21,
   "metadata": {},
   "outputs": [
    {
     "data": {
      "text/plain": [
       "0.8514322087842139"
      ]
     },
     "execution_count": 21,
     "metadata": {},
     "output_type": "execute_result"
    }
   ],
   "source": [
    "accuracy_score(y_test, clf_pred)"
   ]
  },
  {
   "cell_type": "markdown",
   "metadata": {},
   "source": [
    "### Confusion Matrix"
   ]
  },
  {
   "cell_type": "code",
   "execution_count": 22,
   "metadata": {},
   "outputs": [],
   "source": [
    "clf_pred_proba = clf.predict_proba(X_test)\n",
    "clf_pred_proba_pos = clf_pred_proba[:,1] "
   ]
  },
  {
   "cell_type": "code",
   "execution_count": 23,
   "metadata": {},
   "outputs": [
    {
     "data": {
      "text/plain": [
       "<sklearn.metrics._plot.confusion_matrix.ConfusionMatrixDisplay at 0x7f6e5ef3e430>"
      ]
     },
     "execution_count": 23,
     "metadata": {},
     "output_type": "execute_result"
    },
    {
     "data": {
      "image/png": "[encoded data removed]",
      "text/plain": [
       "<Figure size 600x400 with 2 Axes>"
      ]
     },
     "metadata": {
      "needs_background": "light"
     },
     "output_type": "display_data"
    }
   ],
   "source": [
    "cm = confusion_matrix(y_test, clf_pred)\n",
    "disp = ConfusionMatrixDisplay(confusion_matrix=cm, display_labels=[0,1])\n",
    "fig, ax = plt.subplots(dpi=100)\n",
    "plt.title(\"Matriz de confusion\")\n",
    "disp.plot(ax=ax)"
   ]
  },
  {
   "cell_type": "markdown",
   "metadata": {},
   "source": [
    "### AUC-ROC"
   ]
  },
  {
   "cell_type": "code",
   "execution_count": 24,
   "metadata": {},
   "outputs": [],
   "source": [
    "def plot_roc(_fpr, _tpr, x):\n",
    "\n",
    "    roc_auc = auc(_fpr, _tpr)\n",
    "\n",
    "    plt.figure(figsize=(12, 8))\n",
    "    plt.plot(\n",
    "        _fpr, _tpr, color='darkorange', lw=2, label=f'ROC curve (area = {roc_auc:.5f})'\n",
    "    )\n",
    "    plt.plot([0, 1], [0, 1], color='navy', lw=2, linestyle='--')\n",
    "    plt.xlim([0.0, 1.0])\n",
    "    plt.ylim([0.0, 1.0])\n",
    "    plt.xlabel('False Positive Rate')\n",
    "    plt.ylabel('True Positive Rate')\n",
    "    plt.title('Receiver operating characteristic')\n",
    "    plt.legend(loc=\"lower right\")\n",
    "    plt.show()"
   ]
  },
  {
   "cell_type": "code",
   "execution_count": 25,
   "metadata": {},
   "outputs": [
    {
     "data": {
      "image/png": "[encoded data removed]",
      "text/plain": [
       "<Figure size 864x576 with 1 Axes>"
      ]
     },
     "metadata": {
      "needs_background": "light"
     },
     "output_type": "display_data"
    },
    {
     "name": "stdout",
     "output_type": "stream",
     "text": [
      "AUC_ROC:  0.8763011195552397\n"
     ]
    }
   ],
   "source": [
    "y_binary = pp.one_hot_encode(y_test, ['llovieron_hamburguesas_al_dia_siguiente'])\n",
    "pp.drop_features(y_binary, ['llovieron_hamburguesas_al_dia_siguiente_nan'])\n",
    "fpr, tpr, thresholds = roc_curve(y_binary, clf_pred_proba_pos)\n",
    "plot_roc(fpr, tpr, thresholds)\n",
    "print(\"AUC_ROC: \", roc_auc_score(y_binary, clf_pred_proba_pos))"
   ]
  },
  {
   "cell_type": "markdown",
   "metadata": {},
   "source": [
    "# Predicción sobre los datos privados de Flint\n",
    "\n",
    "Primero, hacemos el preprocesamiento de los datos, utilizando el mismo feature engineering que realizamos antes, para que el modelo pueda entender los datos que le pasamos. Luego, predecimos usando el modelo ya entrenado y finalmente guardamos los resultados."
   ]
  },
  {
   "cell_type": "code",
   "execution_count": 26,
   "metadata": {},
   "outputs": [],
   "source": [
    "X_private = pp.get_X_private_features()"
   ]
  },
  {
   "cell_type": "code",
   "execution_count": 27,
   "metadata": {},
   "outputs": [],
   "source": [
    "def preprocess_X_for_XGBoost(X):\n",
    "    X['presion_atmosferica_tarde'] = X['presion_atmosferica_tarde'].astype('float32')\n",
    "    \n",
    "    pp.drop_features(X, [\n",
    "        'dia',\n",
    "        'barrio',\n",
    "        'humedad_temprano',\n",
    "        'temp_min',\n",
    "        'rafaga_viento_max_direccion',\n",
    "        'velocidad_viendo_tarde',\n",
    "        'velocidad_viendo_temprano',\n",
    "        'rafaga_viento_max_velocidad'\n",
    "    ])\n",
    "\n",
    "    features_to_scale = ['horas_de_sol','humedad_tarde', 'mm_evaporados_agua', \n",
    "                     'mm_lluvia_dia', 'presion_atmosferica_temprano', 'presion_atmosferica_tarde', \n",
    "                     'temp_max', 'temperatura_tarde', \n",
    "                     'temperatura_temprano']\n",
    "\n",
    "    X = pp.standard_scale(X, features_to_scale)\n",
    "\n",
    "    X = pp.one_hot_encode(X, ['direccion_viento_tarde','direccion_viento_temprano', 'llovieron_hamburguesas_hoy'])\n",
    "\n",
    "    X = pp.fill_nan_with_simple_imputer(X, X.columns, \"most_frequent\")\n",
    "    \n",
    "    return X"
   ]
  },
  {
   "cell_type": "code",
   "execution_count": 28,
   "metadata": {},
   "outputs": [],
   "source": [
    "X_private = preprocess_X_for_XGBoost(X_private)"
   ]
  },
  {
   "cell_type": "code",
   "execution_count": 29,
   "metadata": {
    "scrolled": true
   },
   "outputs": [],
   "source": [
    "xg_priv_feat_pred = clf.predict(X_private)"
   ]
  },
  {
   "cell_type": "code",
   "execution_count": 30,
   "metadata": {},
   "outputs": [
    {
     "data": {
      "text/html": [
       "<div>\n",
       "<style scoped>\n",
       "    .dataframe tbody tr th:only-of-type {\n",
       "        vertical-align: middle;\n",
       "    }\n",
       "\n",
       "    .dataframe tbody tr th {\n",
       "        vertical-align: top;\n",
       "    }\n",
       "\n",
       "    .dataframe thead th {\n",
       "        text-align: right;\n",
       "    }\n",
       "</style>\n",
       "<table border=\"1\" class=\"dataframe\">\n",
       "  <thead>\n",
       "    <tr style=\"text-align: right;\">\n",
       "      <th></th>\n",
       "      <th>llovieron_hamburguesas_al_dia_siguiente</th>\n",
       "    </tr>\n",
       "    <tr>\n",
       "      <th>id</th>\n",
       "      <th></th>\n",
       "    </tr>\n",
       "  </thead>\n",
       "  <tbody>\n",
       "    <tr>\n",
       "      <th>116706</th>\n",
       "      <td>no</td>\n",
       "    </tr>\n",
       "    <tr>\n",
       "      <th>58831</th>\n",
       "      <td>no</td>\n",
       "    </tr>\n",
       "    <tr>\n",
       "      <th>31981</th>\n",
       "      <td>si</td>\n",
       "    </tr>\n",
       "    <tr>\n",
       "      <th>2533</th>\n",
       "      <td>no</td>\n",
       "    </tr>\n",
       "    <tr>\n",
       "      <th>7270</th>\n",
       "      <td>si</td>\n",
       "    </tr>\n",
       "  </tbody>\n",
       "</table>\n",
       "</div>"
      ],
      "text/plain": [
       "       llovieron_hamburguesas_al_dia_siguiente\n",
       "id                                            \n",
       "116706                                      no\n",
       "58831                                       no\n",
       "31981                                       si\n",
       "2533                                        no\n",
       "7270                                        si"
      ]
     },
     "execution_count": 30,
     "metadata": {},
     "output_type": "execute_result"
    }
   ],
   "source": [
    "predictions = X_private.loc[:,['id']]\n",
    "predictions[\"llovieron_hamburguesas_al_dia_siguiente\"] = xg_priv_feat_pred\n",
    "predictions = predictions.set_index('id')\n",
    "predictions.head()"
   ]
  },
  {
   "cell_type": "code",
   "execution_count": 31,
   "metadata": {},
   "outputs": [],
   "source": [
    "predictions.to_csv('predicciones/XGBoost.csv')"
   ]
  }
 ],
 "metadata": {
  "kernelspec": {
   "display_name": "Python 3",
   "language": "python",
   "name": "python3"
  },
  "language_info": {
   "codemirror_mode": {
    "name": "ipython",
    "version": 3
   },
   "file_extension": ".py",
   "mimetype": "text/x-python",
   "name": "python",
   "nbconvert_exporter": "python",
   "pygments_lexer": "ipython3",
   "version": "3.8.5"
  }
 },
 "nbformat": 4,
 "nbformat_minor": 4
}
