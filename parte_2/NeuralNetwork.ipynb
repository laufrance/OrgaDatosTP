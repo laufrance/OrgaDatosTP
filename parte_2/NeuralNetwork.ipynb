{
 "cells": [
  {
   "cell_type": "markdown",
   "metadata": {},
   "source": [
    "# **NeuralNetwork**"
   ]
  },
  {
   "cell_type": "code",
   "execution_count": 1,
   "metadata": {},
   "outputs": [],
   "source": [
    "%load_ext autoreload\n",
    "%autoreload 2"
   ]
  },
  {
   "cell_type": "code",
   "execution_count": 2,
   "metadata": {},
   "outputs": [],
   "source": [
    "import pandas as pd\n",
    "import numpy as np\n",
    "import preprocessing as pp\n",
    "from sklearn.preprocessing import LabelEncoder\n",
    "from sklearn.metrics import accuracy_score\n",
    "from sklearn.metrics import confusion_matrix\n",
    "from sklearn.metrics import plot_confusion_matrix\n",
    "from sklearn.metrics import classification_report\n",
    "from sklearn.metrics import f1_score\n",
    "from sklearn.metrics import precision_score\n",
    "from sklearn.metrics import recall_score\n",
    "from sklearn.model_selection import train_test_split\n",
    "import seaborn as sns\n",
    "import matplotlib.pyplot as plt\n",
    "import joblib\n",
    "import warnings\n",
    "\n",
    "warnings.filterwarnings('ignore')"
   ]
  },
  {
   "cell_type": "markdown",
   "metadata": {},
   "source": [
    "# Obtenemos los dataframes con los que trabajaremos"
   ]
  },
  {
   "cell_type": "code",
   "execution_count": 3,
   "metadata": {},
   "outputs": [],
   "source": [
    "X, y = pp.get_X_y_from_dataset()"
   ]
  },
  {
   "cell_type": "markdown",
   "metadata": {},
   "source": [
    "Hay un problema... la variable target \"llovieron_hamburguesas_al_dia_siguiente\" contiene NaNs (~2600). Esto es un problema a la hora de separar en train-valdev-holdout usando train_test_split si queremos preservar la proporción entre las clases del target en la partición (es decir, pasandole a esa función stratify=y). Como test-holdout nunca debe ver los datos de train o valdev, no deberíamos rellenar dichos NaNs usando datos de otras instancias (si no habría data leaks). Por ende, decidimos completar estos NaNs con la clase mayoritaria por lejos, el \"no\". "
   ]
  },
  {
   "cell_type": "code",
   "execution_count": 4,
   "metadata": {},
   "outputs": [],
   "source": [
    "y = pp.fill_nan_with_simple_imputer(y, [\"llovieron_hamburguesas_al_dia_siguiente\"], \"most_frequent\")"
   ]
  },
  {
   "cell_type": "markdown",
   "metadata": {},
   "source": [
    "También no necesitamos la columna de id."
   ]
  },
  {
   "cell_type": "code",
   "execution_count": 5,
   "metadata": {},
   "outputs": [],
   "source": [
    "pp.drop_features(y, ['id']) "
   ]
  },
  {
   "cell_type": "markdown",
   "metadata": {
    "tags": []
   },
   "source": [
    "## Separamos en train y test-holdout\n",
    "Test-holdout lo usaremos como métrica del mejor de los 5 modelos, para tener una idea antes que salga a producción. Tomaremos un 10% para el holdout, y hacemos que sea stratificado, de forma que divida el train y holdout teniendo en cuenta la proporción de la variable target. Notar que usamos el mismo RANDOM_STATE para todos los train_test_splits de los modelos para poder reproducir las mismas condiciones, entrenando y evaluando sobre las mismas particiones."
   ]
  },
  {
   "cell_type": "code",
   "execution_count": 6,
   "metadata": {},
   "outputs": [],
   "source": [
    "X_train, X_holdout, y_train, y_holdout = train_test_split(\n",
    "    X, y, random_state=pp.RANDOM_STATE, test_size=0.1, stratify=y\n",
    ")"
   ]
  },
  {
   "cell_type": "markdown",
   "metadata": {},
   "source": [
    "# Preprocesamiento y Feature Engineering"
   ]
  },
  {
   "cell_type": "markdown",
   "metadata": {},
   "source": [
    "## Label-encodeamos la variable target\n",
    "Usaremos LabelEncoder para crear un mapping de los valores yes/no de la variable target a valores numericos. Va a asignarle al \"no\" un 0, y al \"si\" un 1, debido al orden alfabético. "
   ]
  },
  {
   "cell_type": "code",
   "execution_count": 7,
   "metadata": {},
   "outputs": [],
   "source": [
    "label_encoder = LabelEncoder()\n",
    "y_train = label_encoder.fit_transform(y_train.values.ravel())\n",
    "y_train = pd.DataFrame(y_train, columns = ['llovieron_hamburguesas_al_dia_siguiente'])"
   ]
  },
  {
   "cell_type": "markdown",
   "metadata": {
    "tags": []
   },
   "source": [
    "## Eliminamos valores erráticos\n",
    "El feature presión_atmosférica_tarde tiene algunos valores erráticos. Los eliminamos y dejamos temporalmente como NaN, de forma de rellenarlos (o no) a posteriori."
   ]
  },
  {
   "cell_type": "code",
   "execution_count": 8,
   "metadata": {},
   "outputs": [],
   "source": [
    "err_values_presion_atm = ['10.167.769.999.999.900', '1.009.555']\n",
    "\n",
    "pp.convert_values_to_nan(X_train, 'presion_atmosferica_tarde', err_values_presion_atm)"
   ]
  },
  {
   "cell_type": "markdown",
   "metadata": {},
   "source": [
    "Lo mismo con la nubosidad_tarde y nubosidad_temprano:"
   ]
  },
  {
   "cell_type": "code",
   "execution_count": 9,
   "metadata": {},
   "outputs": [],
   "source": [
    "err_values_nubosidad = [9.0]\n",
    "\n",
    "pp.convert_values_to_nan(X_train, 'nubosidad_tarde', err_values_nubosidad)\n",
    "pp.convert_values_to_nan(X_train, 'nubosidad_temprano', err_values_nubosidad)"
   ]
  },
  {
   "cell_type": "markdown",
   "metadata": {},
   "source": [
    "Y aprovechamos a convertir a float la presion_atmosferica_tarde que era un object y no un float por esos valores erráticos."
   ]
  },
  {
   "cell_type": "code",
   "execution_count": 10,
   "metadata": {},
   "outputs": [],
   "source": [
    "X_train['presion_atmosferica_tarde'] = X_train['presion_atmosferica_tarde'].astype('float32')"
   ]
  },
  {
   "cell_type": "markdown",
   "metadata": {},
   "source": [
    "## Dropeamos features que no nos interesan"
   ]
  },
  {
   "cell_type": "code",
   "execution_count": 11,
   "metadata": {},
   "outputs": [],
   "source": [
    "pd.set_option(\"display.max_columns\", None) # Esto es para mostrar todos los features al imprimir"
   ]
  },
  {
   "cell_type": "code",
   "execution_count": 12,
   "metadata": {},
   "outputs": [],
   "source": [
    "pp.drop_features(X_train, [\n",
    "    'id',\n",
    "    'humedad_temprano',\n",
    "    'temp_min',\n",
    "    'rafaga_viento_max_direccion',\n",
    "    'velocidad_viendo_tarde',\n",
    "    'velocidad_viendo_temprano',\n",
    "    'direccion_viento_temprano',\n",
    "    'direccion_viento_tarde',\n",
    "    'rafaga_viento_max_velocidad'\n",
    "])"
   ]
  },
  {
   "cell_type": "markdown",
   "metadata": {},
   "source": [
    "## Convertimos variables para que el modelo pueda usarlas\n",
    "Comenzamos haciendo dummy encoding de las variables que sean categóricas, no ordinales y de baja cardinalidad. Pero antes, vamos a crear un feature a partir del dia: el mes. El año no porque con este modelo vamos a querer predecir por mucho tiempo en el futuro, y esos años futuros obviamente no aparecen en el dataset. Además año a año no cambia mucho la lluvia, pero sí hay meses que llueve más o menos. El día del mes tampoco importa mucho porque no hay una correlación del mismo con la lluvia de hamburguesas."
   ]
  },
  {
   "cell_type": "code",
   "execution_count": 13,
   "metadata": {},
   "outputs": [],
   "source": [
    "X_train[\"dia\"] = pd.to_datetime(X_train[\"dia\"], format = \"%Y-%m-%d\", errors = \"coerce\")\n",
    "\n",
    "X_train[\"mes\"] = X_train[\"dia\"].dt.month\n",
    "pp.drop_features(X_train, [\"dia\"])"
   ]
  },
  {
   "cell_type": "markdown",
   "metadata": {},
   "source": [
    "Y ahora que tenemos todas las variables categóricas no ordinales listas, las one-hot-encodeamos."
   ]
  },
  {
   "cell_type": "code",
   "execution_count": 14,
   "metadata": {},
   "outputs": [],
   "source": [
    "X_train = pp.one_hot_encode(X_train, [\"barrio\"])\n",
    "pp.drop_features(X_train, [\"barrio_nan\"])"
   ]
  },
  {
   "cell_type": "markdown",
   "metadata": {},
   "source": [
    "Y encodeamos la variable binaria \"llovieron_hamburguesas_hoy\"."
   ]
  },
  {
   "cell_type": "code",
   "execution_count": 15,
   "metadata": {},
   "outputs": [],
   "source": [
    "X_train = pp.one_hot_encode(X_train, [\"llovieron_hamburguesas_hoy\"])"
   ]
  },
  {
   "cell_type": "markdown",
   "metadata": {},
   "source": [
    "## Estimamos missings con IterativeImputer\n",
    "Dado que el dataset contiene muchos missings en variables relevantes para el target, como las horas de sol, decidimos llevar a cabo un método potente para completar missings. Usamos IterativeImputer de Sklearn, que es una implementación del algoritmo MICE."
   ]
  },
  {
   "cell_type": "code",
   "execution_count": 16,
   "metadata": {},
   "outputs": [
    {
     "name": "stdout",
     "output_type": "stream",
     "text": [
      "[IterativeImputer] Completing matrix with shape (104731, 62)\n",
      "[IterativeImputer] Ending imputation round 1/4, elapsed time 28.26\n",
      "[IterativeImputer] Change: 105.45835142899656, scaled tolerance: 1.041 \n",
      "[IterativeImputer] Ending imputation round 2/4, elapsed time 56.12\n",
      "[IterativeImputer] Change: 48.774271249362585, scaled tolerance: 1.041 \n",
      "[IterativeImputer] Ending imputation round 3/4, elapsed time 84.22\n",
      "[IterativeImputer] Change: 13.737585348409233, scaled tolerance: 1.041 \n",
      "[IterativeImputer] Ending imputation round 4/4, elapsed time 108.68\n",
      "[IterativeImputer] Change: 9.274483162322763, scaled tolerance: 1.041 \n",
      "[IterativeImputer] Completing matrix with shape (104731, 62)\n",
      "[IterativeImputer] Ending imputation round 1/4, elapsed time 0.25\n",
      "[IterativeImputer] Ending imputation round 2/4, elapsed time 0.50\n",
      "[IterativeImputer] Ending imputation round 3/4, elapsed time 0.75\n",
      "[IterativeImputer] Ending imputation round 4/4, elapsed time 1.01\n"
     ]
    }
   ],
   "source": [
    "X_train = pp.fill_with_iterative_imputer(X_train)"
   ]
  },
  {
   "cell_type": "markdown",
   "metadata": {},
   "source": [
    "## Escalamos las variables numéricas"
   ]
  },
  {
   "cell_type": "code",
   "execution_count": 17,
   "metadata": {},
   "outputs": [],
   "source": [
    "X_train = pp.standard_scale(X_train, X_train.columns)"
   ]
  },
  {
   "cell_type": "markdown",
   "metadata": {},
   "source": [
    "## Selección #2: utilizamos ML para filtrar\n",
    "De los features que tenemos, seleccionaremos como mínimo los 20 más importantes según Recursive Feature Eliminator con Cross Validation de 3 folds, usando un árbol de decisión como estimador."
   ]
  },
  {
   "cell_type": "code",
   "execution_count": 18,
   "metadata": {
    "scrolled": true,
    "tags": []
   },
   "outputs": [
    {
     "name": "stdout",
     "output_type": "stream",
     "text": [
      "Fitting estimator with 62 features.\n",
      "Fitting estimator with 61 features.\n",
      "Fitting estimator with 60 features.\n",
      "Fitting estimator with 59 features.\n",
      "Fitting estimator with 58 features.\n",
      "Fitting estimator with 57 features.\n",
      "Fitting estimator with 56 features.\n",
      "Fitting estimator with 55 features.\n",
      "Fitting estimator with 54 features.\n",
      "Fitting estimator with 53 features.\n",
      "Fitting estimator with 52 features.\n",
      "Fitting estimator with 51 features.\n",
      "Fitting estimator with 50 features.\n",
      "Fitting estimator with 49 features.\n",
      "Fitting estimator with 48 features.\n",
      "Fitting estimator with 47 features.\n",
      "Fitting estimator with 46 features.\n",
      "Fitting estimator with 45 features.\n",
      "Fitting estimator with 44 features.\n",
      "Fitting estimator with 43 features.\n",
      "Fitting estimator with 42 features.\n",
      "Fitting estimator with 41 features.\n",
      "Fitting estimator with 40 features.\n",
      "Fitting estimator with 39 features.\n",
      "Fitting estimator with 38 features.\n",
      "Fitting estimator with 37 features.\n",
      "Fitting estimator with 36 features.\n",
      "Fitting estimator with 35 features.\n",
      "Fitting estimator with 34 features.\n",
      "Fitting estimator with 33 features.\n",
      "Fitting estimator with 32 features.\n",
      "Fitting estimator with 31 features.\n",
      "Fitting estimator with 30 features.\n",
      "Fitting estimator with 29 features.\n",
      "Fitting estimator with 28 features.\n",
      "Fitting estimator with 27 features.\n",
      "Fitting estimator with 26 features.\n",
      "Fitting estimator with 62 features.\n",
      "Fitting estimator with 61 features.\n",
      "Fitting estimator with 60 features.\n",
      "Fitting estimator with 59 features.\n",
      "Fitting estimator with 58 features.\n",
      "Fitting estimator with 57 features.\n",
      "Fitting estimator with 56 features.\n",
      "Fitting estimator with 55 features.\n",
      "Fitting estimator with 54 features.\n",
      "Fitting estimator with 53 features.\n",
      "Fitting estimator with 52 features.\n",
      "Fitting estimator with 51 features.\n",
      "Fitting estimator with 50 features.\n",
      "Fitting estimator with 49 features.\n",
      "Fitting estimator with 48 features.\n",
      "Fitting estimator with 47 features.\n",
      "Fitting estimator with 46 features.\n",
      "Fitting estimator with 45 features.\n",
      "Fitting estimator with 44 features.\n",
      "Fitting estimator with 43 features.\n",
      "Fitting estimator with 42 features.\n",
      "Fitting estimator with 41 features.\n",
      "Fitting estimator with 40 features.\n",
      "Fitting estimator with 39 features.\n",
      "Fitting estimator with 38 features.\n",
      "Fitting estimator with 37 features.\n",
      "Fitting estimator with 36 features.\n",
      "Fitting estimator with 35 features.\n",
      "Fitting estimator with 34 features.\n",
      "Fitting estimator with 33 features.\n",
      "Fitting estimator with 32 features.\n",
      "Fitting estimator with 31 features.\n",
      "Fitting estimator with 30 features.\n",
      "Fitting estimator with 29 features.\n",
      "Fitting estimator with 28 features.\n",
      "Fitting estimator with 27 features.\n",
      "Fitting estimator with 26 features.\n",
      "Fitting estimator with 62 features.\n",
      "Fitting estimator with 61 features.\n",
      "Fitting estimator with 60 features.\n",
      "Fitting estimator with 59 features.\n",
      "Fitting estimator with 58 features.\n",
      "Fitting estimator with 57 features.\n",
      "Fitting estimator with 56 features.\n",
      "Fitting estimator with 55 features.\n",
      "Fitting estimator with 54 features.\n",
      "Fitting estimator with 53 features.\n",
      "Fitting estimator with 52 features.\n",
      "Fitting estimator with 51 features.\n",
      "Fitting estimator with 50 features.\n",
      "Fitting estimator with 49 features.\n",
      "Fitting estimator with 48 features.\n",
      "Fitting estimator with 47 features.\n",
      "Fitting estimator with 46 features.\n",
      "Fitting estimator with 45 features.\n",
      "Fitting estimator with 44 features.\n",
      "Fitting estimator with 43 features.\n",
      "Fitting estimator with 42 features.\n",
      "Fitting estimator with 41 features.\n",
      "Fitting estimator with 40 features.\n",
      "Fitting estimator with 39 features.\n",
      "Fitting estimator with 38 features.\n",
      "Fitting estimator with 37 features.\n",
      "Fitting estimator with 36 features.\n",
      "Fitting estimator with 35 features.\n",
      "Fitting estimator with 34 features.\n",
      "Fitting estimator with 33 features.\n",
      "Fitting estimator with 32 features.\n",
      "Fitting estimator with 31 features.\n",
      "Fitting estimator with 30 features.\n",
      "Fitting estimator with 29 features.\n",
      "Fitting estimator with 28 features.\n",
      "Fitting estimator with 27 features.\n",
      "Fitting estimator with 26 features.\n"
     ]
    }
   ],
   "source": [
    "X_train, eliminated_features = pp.select_features_RFECV(X_train, y_train, 25)"
   ]
  },
  {
   "cell_type": "markdown",
   "metadata": {},
   "source": [
    "## Separamos en train y val-dev antes de hacer GridSearch"
   ]
  },
  {
   "cell_type": "markdown",
   "metadata": {},
   "source": [
    "Nos guardamos a parte los DataFrames con los ids para luego poder hacer el archivo de predicciones de los datos privados de Flint que nos piden al final. Pero el feature \"id\" en sí no lo usaremos, porque es único por cada instancia, con lo cual puede perjudicar al modelo enseñándole a memorizarse las instancias."
   ]
  },
  {
   "cell_type": "code",
   "execution_count": 19,
   "metadata": {},
   "outputs": [],
   "source": [
    "X_train, X_test, y_train, y_test = train_test_split(X_train,\n",
    "                                                    y_train, \n",
    "                                                    test_size = 0.3, \n",
    "                                                    random_state = pp.RANDOM_STATE, \n",
    "                                                    stratify=y_train)"
   ]
  },
  {
   "cell_type": "markdown",
   "metadata": {},
   "source": [
    "# Buscamos los mejores hiperparámetros"
   ]
  },
  {
   "cell_type": "markdown",
   "metadata": {},
   "source": [
    "En este modelo usaremos GridSearch con Cross Validation de 3 folds, para buscar estos mejores hiperparámetros: la cantidad de neuronas en las dos capas (fijamos dos capas hidden), el learning rate del regularizador L2 que usamos en dichas capas, el optimizador (si es SGD o Adam)."
   ]
  },
  {
   "cell_type": "code",
   "execution_count": 20,
   "metadata": {},
   "outputs": [],
   "source": [
    "from keras.models import Sequential\n",
    "from keras.layers import Dense, Dropout, Input\n",
    "from tensorflow.keras import optimizers\n",
    "from keras.regularizers import l2\n",
    "from keras.callbacks import EarlyStopping, ModelCheckpoint\n",
    "from sklearn.model_selection import GridSearchCV\n",
    "import tensorflow as tf\n",
    "\n",
    "from scikeras.wrappers import KerasClassifier"
   ]
  },
  {
   "cell_type": "markdown",
   "metadata": {},
   "source": [
    "Para usar el GridSearch de SKLearn, usamos KerasClassifier, que es un wrapper alrededor de Keras que nos permite usar la misma interfaz que los modelos de SKLearn. La función de abajo create_model la requiere KerasClassifier."
   ]
  },
  {
   "cell_type": "code",
   "execution_count": 21,
   "metadata": {},
   "outputs": [],
   "source": [
    "def create_model(activation='relu', \n",
    "                 optimizer=\"SGD\", \n",
    "                 dropout_rate=0.25,\n",
    "                 neurons=64,\n",
    "                 regularizer_lr=0.0001):\n",
    "    \n",
    "    model = Sequential()\n",
    "    model.add(Dense(neurons, input_shape=(len(X_train.columns),), activation=activation, kernel_regularizer=l2(regularizer_lr)))\n",
    "    model.add(Dropout(dropout_rate))\n",
    "    \n",
    "    model.add(Dense(neurons, activation=activation, kernel_regularizer=l2(regularizer_lr)))\n",
    "    model.add(Dropout(dropout_rate))\n",
    "    \n",
    "    model.add(Dense(1, activation=\"sigmoid\"))\n",
    "    \n",
    "    if optimizer == \"Adam\":\n",
    "        optimizer = optimizers.Adam()     \n",
    "    else:\n",
    "        optimizer = optimizers.SGD(learning_rate=0.005)\n",
    "            \n",
    "    model.compile(loss='binary_crossentropy', optimizer=optimizer, metrics=['accuracy'])\n",
    "    return model"
   ]
  },
  {
   "cell_type": "markdown",
   "metadata": {},
   "source": [
    "Obviamente no lo vamos a correr de vuelta porque va a tardar mucho tiempo... Por eso la primera línea, para no correr ese bloque de código. Cuando lo corrimos, nos guardamos el mejor modelo en un .pickle, que cargamos luego."
   ]
  },
  {
   "cell_type": "code",
   "execution_count": 22,
   "metadata": {
    "scrolled": true,
    "tags": []
   },
   "outputs": [],
   "source": [
    "%%script false --no-raise-error # Para no ejecutar este bloque\n",
    "\n",
    "model = KerasClassifier(model=create_model, \n",
    "                        epochs=1,\n",
    "                        batch_size=16, \n",
    "                        activation=\"relu\", \n",
    "                        dropout_rate=0.25,\n",
    "                        neurons=64,\n",
    "                        regularizer_lr=0.0001)\n",
    "\n",
    "optimizer = [\"Adam\"]\n",
    "#optimizer = [\"SGD\", \"Adam\"]\n",
    "activation = [\"relu\"]\n",
    "dropout_rate = [0.25]\n",
    "neurons = [128]\n",
    "regularizer_lr = [0.001]\n",
    "#regularizer_lr = [0.0001, 0.001]\n",
    "param_grid = dict(optimizer=optimizer, \n",
    "                  activation=activation, \n",
    "                  dropout_rate=dropout_rate,\n",
    "                  neurons=neurons,\n",
    "                  regularizer_lr=regularizer_lr)\n",
    "\n",
    "grid = GridSearchCV(estimator=model, param_grid=param_grid, n_jobs=-1, cv=3, verbose=10)\n",
    "gs_result = grid.fit(X_train, y_train)\n",
    "\n",
    "print(\"El mejor modelo obtuvo %f usando %s\" % (gs_result.best_score_, gs_result.best_params_))\n",
    "    \n",
    "# Guardamos todos los resultados del gridsearch en un csv:\n",
    "pd.DataFrame(gs_result.cv_results_).to_csv(\"gridsearch_results/grid_search_NeuralNetwork.csv\", index=False)\n",
    "\n",
    "# También nos guardamos el mejor predictor (el NeuralNetwork construido con los mejores parámetros)\n",
    "joblib.dump(gs_result.best_estimator_, open(\"gridsearch_results/best_models/best_model_NeuralNetwork.pickle\", \"wb\"))"
   ]
  },
  {
   "cell_type": "markdown",
   "metadata": {},
   "source": [
    "# Cargamos el modelo ya con los mejores hiperparámetros y lo entrenamos\n",
    "Ya corrimos el RandomSearch y nos guardamos el mejor clasificador que encontró. Carguémoslo y usemos ese."
   ]
  },
  {
   "cell_type": "code",
   "execution_count": 23,
   "metadata": {},
   "outputs": [
    {
     "data": {
      "text/plain": [
       "KerasClassifier(\n",
       "\tmodel=<function create_model at 0x7fc2455ddca0>\n",
       "\tbuild_fn=None\n",
       "\twarm_start=False\n",
       "\trandom_state=None\n",
       "\toptimizer=Adam\n",
       "\tloss=None\n",
       "\tmetrics=None\n",
       "\tbatch_size=16\n",
       "\tvalidation_batch_size=None\n",
       "\tverbose=1\n",
       "\tcallbacks=None\n",
       "\tvalidation_split=0.0\n",
       "\tshuffle=True\n",
       "\trun_eagerly=False\n",
       "\tepochs=1\n",
       "\tactivation=relu\n",
       "\tdropout_rate=0.25\n",
       "\tneurons=128\n",
       "\tregularizer_lr=0.001\n",
       "\tclass_weight=None\n",
       ")"
      ]
     },
     "metadata": {},
     "output_type": "display_data"
    },
    {
     "name": "stdout",
     "output_type": "stream",
     "text": [
      "Model: \"sequential\"\n",
      "_________________________________________________________________\n",
      " Layer (type)                Output Shape              Param #   \n",
      "=================================================================\n",
      " dense (Dense)               (None, 128)               8064      \n",
      "                                                                 \n",
      " dropout (Dropout)           (None, 128)               0         \n",
      "                                                                 \n",
      " dense_1 (Dense)             (None, 128)               16512     \n",
      "                                                                 \n",
      " dropout_1 (Dropout)         (None, 128)               0         \n",
      "                                                                 \n",
      " dense_2 (Dense)             (None, 1)                 129       \n",
      "                                                                 \n",
      "=================================================================\n",
      "Total params: 24,705\n",
      "Trainable params: 24,705\n",
      "Non-trainable params: 0\n",
      "_________________________________________________________________\n"
     ]
    }
   ],
   "source": [
    "keras_clf = joblib.load(\"gridsearch_results/best_models/best_model_NeuralNetwork.pickle\")\n",
    "display(keras_clf)\n",
    "model = keras_clf.model_ # Agarramos el modelo de Keras, no nos interesa más el wrapper.\n",
    "model.summary()"
   ]
  },
  {
   "cell_type": "markdown",
   "metadata": {},
   "source": [
    "Ahora entrenaremos este modelo pero en el X_train completo, para luego evaluarlo en X_test. Usaremos early stopping para no overfittear."
   ]
  },
  {
   "cell_type": "code",
   "execution_count": 24,
   "metadata": {},
   "outputs": [],
   "source": [
    "early_stopping = EarlyStopping(monitor='val_accuracy', mode='max', patience=100)"
   ]
  },
  {
   "cell_type": "code",
   "execution_count": 25,
   "metadata": {
    "scrolled": true
   },
   "outputs": [
    {
     "name": "stdout",
     "output_type": "stream",
     "text": [
      "Epoch 1/250\n",
      "4582/4582 - 13s - loss: 0.5728 - accuracy: 0.8286 - val_loss: 0.5422 - val_accuracy: 0.8417 - 13s/epoch - 3ms/step\n",
      "Epoch 2/250\n",
      "4582/4582 - 13s - loss: 0.5486 - accuracy: 0.8352 - val_loss: 0.5229 - val_accuracy: 0.8430 - 13s/epoch - 3ms/step\n",
      "Epoch 3/250\n",
      "4582/4582 - 12s - loss: 0.5286 - accuracy: 0.8382 - val_loss: 0.5066 - val_accuracy: 0.8437 - 12s/epoch - 3ms/step\n",
      "Epoch 4/250\n",
      "4582/4582 - 10s - loss: 0.5115 - accuracy: 0.8393 - val_loss: 0.4913 - val_accuracy: 0.8461 - 10s/epoch - 2ms/step\n",
      "Epoch 5/250\n",
      "4582/4582 - 10s - loss: 0.4963 - accuracy: 0.8405 - val_loss: 0.4790 - val_accuracy: 0.8453 - 10s/epoch - 2ms/step\n",
      "Epoch 6/250\n",
      "4582/4582 - 10s - loss: 0.4828 - accuracy: 0.8417 - val_loss: 0.4667 - val_accuracy: 0.8475 - 10s/epoch - 2ms/step\n",
      "Epoch 7/250\n",
      "4582/4582 - 10s - loss: 0.4706 - accuracy: 0.8422 - val_loss: 0.4563 - val_accuracy: 0.8466 - 10s/epoch - 2ms/step\n",
      "Epoch 8/250\n",
      "4582/4582 - 10s - loss: 0.4601 - accuracy: 0.8442 - val_loss: 0.4463 - val_accuracy: 0.8477 - 10s/epoch - 2ms/step\n",
      "Epoch 9/250\n",
      "4582/4582 - 10s - loss: 0.4500 - accuracy: 0.8437 - val_loss: 0.4376 - val_accuracy: 0.8480 - 10s/epoch - 2ms/step\n",
      "Epoch 10/250\n",
      "4582/4582 - 10s - loss: 0.4417 - accuracy: 0.8454 - val_loss: 0.4297 - val_accuracy: 0.8493 - 10s/epoch - 2ms/step\n",
      "Epoch 11/250\n",
      "4582/4582 - 10s - loss: 0.4331 - accuracy: 0.8462 - val_loss: 0.4223 - val_accuracy: 0.8486 - 10s/epoch - 2ms/step\n",
      "Epoch 12/250\n",
      "4582/4582 - 10s - loss: 0.4267 - accuracy: 0.8465 - val_loss: 0.4156 - val_accuracy: 0.8489 - 10s/epoch - 2ms/step\n",
      "Epoch 13/250\n",
      "4582/4582 - 10s - loss: 0.4195 - accuracy: 0.8460 - val_loss: 0.4096 - val_accuracy: 0.8492 - 10s/epoch - 2ms/step\n",
      "Epoch 14/250\n",
      "4582/4582 - 9s - loss: 0.4122 - accuracy: 0.8478 - val_loss: 0.4042 - val_accuracy: 0.8503 - 9s/epoch - 2ms/step\n",
      "Epoch 15/250\n",
      "4582/4582 - 10s - loss: 0.4069 - accuracy: 0.8481 - val_loss: 0.3991 - val_accuracy: 0.8507 - 10s/epoch - 2ms/step\n",
      "Epoch 16/250\n",
      "4582/4582 - 9s - loss: 0.4023 - accuracy: 0.8486 - val_loss: 0.3945 - val_accuracy: 0.8507 - 9s/epoch - 2ms/step\n",
      "Epoch 17/250\n",
      "4582/4582 - 9s - loss: 0.3973 - accuracy: 0.8489 - val_loss: 0.3905 - val_accuracy: 0.8514 - 9s/epoch - 2ms/step\n",
      "Epoch 18/250\n",
      "4582/4582 - 10s - loss: 0.3928 - accuracy: 0.8495 - val_loss: 0.3868 - val_accuracy: 0.8508 - 10s/epoch - 2ms/step\n",
      "Epoch 19/250\n",
      "4582/4582 - 10s - loss: 0.3884 - accuracy: 0.8500 - val_loss: 0.3829 - val_accuracy: 0.8515 - 10s/epoch - 2ms/step\n",
      "Epoch 20/250\n",
      "4582/4582 - 9s - loss: 0.3847 - accuracy: 0.8512 - val_loss: 0.3804 - val_accuracy: 0.8522 - 9s/epoch - 2ms/step\n",
      "Epoch 21/250\n",
      "4582/4582 - 9s - loss: 0.3818 - accuracy: 0.8495 - val_loss: 0.3767 - val_accuracy: 0.8519 - 9s/epoch - 2ms/step\n",
      "Epoch 22/250\n",
      "4582/4582 - 9s - loss: 0.3788 - accuracy: 0.8507 - val_loss: 0.3739 - val_accuracy: 0.8517 - 9s/epoch - 2ms/step\n",
      "Epoch 23/250\n",
      "4582/4582 - 10s - loss: 0.3766 - accuracy: 0.8500 - val_loss: 0.3719 - val_accuracy: 0.8519 - 10s/epoch - 2ms/step\n",
      "Epoch 24/250\n",
      "4582/4582 - 10s - loss: 0.3729 - accuracy: 0.8516 - val_loss: 0.3691 - val_accuracy: 0.8531 - 10s/epoch - 2ms/step\n",
      "Epoch 25/250\n",
      "4582/4582 - 10s - loss: 0.3712 - accuracy: 0.8501 - val_loss: 0.3671 - val_accuracy: 0.8525 - 10s/epoch - 2ms/step\n",
      "Epoch 26/250\n",
      "4582/4582 - 10s - loss: 0.3686 - accuracy: 0.8521 - val_loss: 0.3659 - val_accuracy: 0.8521 - 10s/epoch - 2ms/step\n",
      "Epoch 27/250\n",
      "4582/4582 - 10s - loss: 0.3676 - accuracy: 0.8513 - val_loss: 0.3648 - val_accuracy: 0.8534 - 10s/epoch - 2ms/step\n",
      "Epoch 28/250\n",
      "4582/4582 - 10s - loss: 0.3650 - accuracy: 0.8524 - val_loss: 0.3622 - val_accuracy: 0.8520 - 10s/epoch - 2ms/step\n",
      "Epoch 29/250\n",
      "4582/4582 - 10s - loss: 0.3629 - accuracy: 0.8529 - val_loss: 0.3612 - val_accuracy: 0.8519 - 10s/epoch - 2ms/step\n",
      "Epoch 30/250\n",
      "4582/4582 - 10s - loss: 0.3620 - accuracy: 0.8526 - val_loss: 0.3600 - val_accuracy: 0.8532 - 10s/epoch - 2ms/step\n",
      "Epoch 31/250\n",
      "4582/4582 - 10s - loss: 0.3603 - accuracy: 0.8528 - val_loss: 0.3587 - val_accuracy: 0.8528 - 10s/epoch - 2ms/step\n",
      "Epoch 32/250\n",
      "4582/4582 - 10s - loss: 0.3587 - accuracy: 0.8527 - val_loss: 0.3576 - val_accuracy: 0.8521 - 10s/epoch - 2ms/step\n",
      "Epoch 33/250\n",
      "4582/4582 - 10s - loss: 0.3584 - accuracy: 0.8539 - val_loss: 0.3565 - val_accuracy: 0.8533 - 10s/epoch - 2ms/step\n",
      "Epoch 34/250\n",
      "4582/4582 - 10s - loss: 0.3574 - accuracy: 0.8533 - val_loss: 0.3567 - val_accuracy: 0.8524 - 10s/epoch - 2ms/step\n",
      "Epoch 35/250\n",
      "4582/4582 - 10s - loss: 0.3566 - accuracy: 0.8522 - val_loss: 0.3546 - val_accuracy: 0.8531 - 10s/epoch - 2ms/step\n",
      "Epoch 36/250\n",
      "4582/4582 - 10s - loss: 0.3553 - accuracy: 0.8540 - val_loss: 0.3532 - val_accuracy: 0.8535 - 10s/epoch - 2ms/step\n",
      "Epoch 37/250\n",
      "4582/4582 - 10s - loss: 0.3538 - accuracy: 0.8533 - val_loss: 0.3542 - val_accuracy: 0.8525 - 10s/epoch - 2ms/step\n",
      "Epoch 38/250\n",
      "4582/4582 - 10s - loss: 0.3547 - accuracy: 0.8527 - val_loss: 0.3528 - val_accuracy: 0.8539 - 10s/epoch - 2ms/step\n",
      "Epoch 39/250\n",
      "4582/4582 - 10s - loss: 0.3530 - accuracy: 0.8528 - val_loss: 0.3515 - val_accuracy: 0.8533 - 10s/epoch - 2ms/step\n",
      "Epoch 40/250\n",
      "4582/4582 - 10s - loss: 0.3523 - accuracy: 0.8548 - val_loss: 0.3514 - val_accuracy: 0.8544 - 10s/epoch - 2ms/step\n",
      "Epoch 41/250\n",
      "4582/4582 - 10s - loss: 0.3514 - accuracy: 0.8540 - val_loss: 0.3516 - val_accuracy: 0.8538 - 10s/epoch - 2ms/step\n",
      "Epoch 42/250\n",
      "4582/4582 - 10s - loss: 0.3508 - accuracy: 0.8544 - val_loss: 0.3505 - val_accuracy: 0.8537 - 10s/epoch - 2ms/step\n",
      "Epoch 43/250\n",
      "4582/4582 - 10s - loss: 0.3504 - accuracy: 0.8544 - val_loss: 0.3519 - val_accuracy: 0.8539 - 10s/epoch - 2ms/step\n",
      "Epoch 44/250\n",
      "4582/4582 - 10s - loss: 0.3496 - accuracy: 0.8552 - val_loss: 0.3501 - val_accuracy: 0.8531 - 10s/epoch - 2ms/step\n",
      "Epoch 45/250\n",
      "4582/4582 - 10s - loss: 0.3507 - accuracy: 0.8533 - val_loss: 0.3503 - val_accuracy: 0.8543 - 10s/epoch - 2ms/step\n",
      "Epoch 46/250\n",
      "4582/4582 - 10s - loss: 0.3493 - accuracy: 0.8543 - val_loss: 0.3489 - val_accuracy: 0.8539 - 10s/epoch - 2ms/step\n",
      "Epoch 47/250\n",
      "4582/4582 - 10s - loss: 0.3498 - accuracy: 0.8543 - val_loss: 0.3486 - val_accuracy: 0.8540 - 10s/epoch - 2ms/step\n",
      "Epoch 48/250\n",
      "4582/4582 - 10s - loss: 0.3479 - accuracy: 0.8538 - val_loss: 0.3494 - val_accuracy: 0.8544 - 10s/epoch - 2ms/step\n",
      "Epoch 49/250\n",
      "4582/4582 - 10s - loss: 0.3489 - accuracy: 0.8542 - val_loss: 0.3483 - val_accuracy: 0.8543 - 10s/epoch - 2ms/step\n",
      "Epoch 50/250\n",
      "4582/4582 - 10s - loss: 0.3482 - accuracy: 0.8543 - val_loss: 0.3474 - val_accuracy: 0.8548 - 10s/epoch - 2ms/step\n",
      "Epoch 51/250\n",
      "4582/4582 - 10s - loss: 0.3484 - accuracy: 0.8541 - val_loss: 0.3477 - val_accuracy: 0.8547 - 10s/epoch - 2ms/step\n",
      "Epoch 52/250\n",
      "4582/4582 - 10s - loss: 0.3470 - accuracy: 0.8556 - val_loss: 0.3484 - val_accuracy: 0.8545 - 10s/epoch - 2ms/step\n",
      "Epoch 53/250\n",
      "4582/4582 - 10s - loss: 0.3473 - accuracy: 0.8553 - val_loss: 0.3485 - val_accuracy: 0.8539 - 10s/epoch - 2ms/step\n",
      "Epoch 54/250\n",
      "4582/4582 - 10s - loss: 0.3468 - accuracy: 0.8554 - val_loss: 0.3482 - val_accuracy: 0.8538 - 10s/epoch - 2ms/step\n",
      "Epoch 55/250\n",
      "4582/4582 - 10s - loss: 0.3471 - accuracy: 0.8549 - val_loss: 0.3480 - val_accuracy: 0.8536 - 10s/epoch - 2ms/step\n",
      "Epoch 56/250\n",
      "4582/4582 - 10s - loss: 0.3471 - accuracy: 0.8550 - val_loss: 0.3478 - val_accuracy: 0.8535 - 10s/epoch - 2ms/step\n",
      "Epoch 57/250\n",
      "4582/4582 - 10s - loss: 0.3464 - accuracy: 0.8554 - val_loss: 0.3473 - val_accuracy: 0.8534 - 10s/epoch - 2ms/step\n",
      "Epoch 58/250\n",
      "4582/4582 - 10s - loss: 0.3465 - accuracy: 0.8545 - val_loss: 0.3476 - val_accuracy: 0.8545 - 10s/epoch - 2ms/step\n",
      "Epoch 59/250\n",
      "4582/4582 - 10s - loss: 0.3464 - accuracy: 0.8549 - val_loss: 0.3477 - val_accuracy: 0.8550 - 10s/epoch - 2ms/step\n",
      "Epoch 60/250\n",
      "4582/4582 - 10s - loss: 0.3460 - accuracy: 0.8550 - val_loss: 0.3487 - val_accuracy: 0.8541 - 10s/epoch - 2ms/step\n",
      "Epoch 61/250\n",
      "4582/4582 - 10s - loss: 0.3456 - accuracy: 0.8553 - val_loss: 0.3475 - val_accuracy: 0.8532 - 10s/epoch - 2ms/step\n",
      "Epoch 62/250\n",
      "4582/4582 - 10s - loss: 0.3453 - accuracy: 0.8547 - val_loss: 0.3484 - val_accuracy: 0.8540 - 10s/epoch - 2ms/step\n",
      "Epoch 63/250\n",
      "4582/4582 - 10s - loss: 0.3454 - accuracy: 0.8560 - val_loss: 0.3466 - val_accuracy: 0.8548 - 10s/epoch - 2ms/step\n",
      "Epoch 64/250\n",
      "4582/4582 - 10s - loss: 0.3452 - accuracy: 0.8556 - val_loss: 0.3472 - val_accuracy: 0.8543 - 10s/epoch - 2ms/step\n",
      "Epoch 65/250\n",
      "4582/4582 - 10s - loss: 0.3460 - accuracy: 0.8555 - val_loss: 0.3484 - val_accuracy: 0.8536 - 10s/epoch - 2ms/step\n"
     ]
    },
    {
     "name": "stdout",
     "output_type": "stream",
     "text": [
      "Epoch 66/250\n",
      "4582/4582 - 10s - loss: 0.3449 - accuracy: 0.8544 - val_loss: 0.3471 - val_accuracy: 0.8550 - 10s/epoch - 2ms/step\n",
      "Epoch 67/250\n",
      "4582/4582 - 10s - loss: 0.3452 - accuracy: 0.8546 - val_loss: 0.3463 - val_accuracy: 0.8549 - 10s/epoch - 2ms/step\n",
      "Epoch 68/250\n",
      "4582/4582 - 10s - loss: 0.3453 - accuracy: 0.8557 - val_loss: 0.3460 - val_accuracy: 0.8543 - 10s/epoch - 2ms/step\n",
      "Epoch 69/250\n",
      "4582/4582 - 10s - loss: 0.3448 - accuracy: 0.8562 - val_loss: 0.3474 - val_accuracy: 0.8538 - 10s/epoch - 2ms/step\n",
      "Epoch 70/250\n",
      "4582/4582 - 10s - loss: 0.3449 - accuracy: 0.8553 - val_loss: 0.3466 - val_accuracy: 0.8549 - 10s/epoch - 2ms/step\n",
      "Epoch 71/250\n",
      "4582/4582 - 10s - loss: 0.3446 - accuracy: 0.8557 - val_loss: 0.3468 - val_accuracy: 0.8539 - 10s/epoch - 2ms/step\n",
      "Epoch 72/250\n",
      "4582/4582 - 10s - loss: 0.3450 - accuracy: 0.8555 - val_loss: 0.3464 - val_accuracy: 0.8551 - 10s/epoch - 2ms/step\n",
      "Epoch 73/250\n",
      "4582/4582 - 10s - loss: 0.3439 - accuracy: 0.8555 - val_loss: 0.3471 - val_accuracy: 0.8545 - 10s/epoch - 2ms/step\n",
      "Epoch 74/250\n",
      "4582/4582 - 10s - loss: 0.3445 - accuracy: 0.8559 - val_loss: 0.3478 - val_accuracy: 0.8550 - 10s/epoch - 2ms/step\n",
      "Epoch 75/250\n",
      "4582/4582 - 10s - loss: 0.3443 - accuracy: 0.8559 - val_loss: 0.3469 - val_accuracy: 0.8552 - 10s/epoch - 2ms/step\n",
      "Epoch 76/250\n",
      "4582/4582 - 10s - loss: 0.3443 - accuracy: 0.8556 - val_loss: 0.3460 - val_accuracy: 0.8552 - 10s/epoch - 2ms/step\n",
      "Epoch 77/250\n",
      "4582/4582 - 10s - loss: 0.3445 - accuracy: 0.8560 - val_loss: 0.3468 - val_accuracy: 0.8550 - 10s/epoch - 2ms/step\n",
      "Epoch 78/250\n",
      "4582/4582 - 10s - loss: 0.3432 - accuracy: 0.8555 - val_loss: 0.3479 - val_accuracy: 0.8542 - 10s/epoch - 2ms/step\n",
      "Epoch 79/250\n",
      "4582/4582 - 11s - loss: 0.3445 - accuracy: 0.8552 - val_loss: 0.3453 - val_accuracy: 0.8560 - 11s/epoch - 2ms/step\n",
      "Epoch 80/250\n",
      "4582/4582 - 10s - loss: 0.3443 - accuracy: 0.8553 - val_loss: 0.3469 - val_accuracy: 0.8557 - 10s/epoch - 2ms/step\n",
      "Epoch 81/250\n",
      "4582/4582 - 10s - loss: 0.3440 - accuracy: 0.8549 - val_loss: 0.3461 - val_accuracy: 0.8539 - 10s/epoch - 2ms/step\n",
      "Epoch 82/250\n",
      "4582/4582 - 10s - loss: 0.3442 - accuracy: 0.8558 - val_loss: 0.3463 - val_accuracy: 0.8545 - 10s/epoch - 2ms/step\n",
      "Epoch 83/250\n",
      "4582/4582 - 10s - loss: 0.3441 - accuracy: 0.8557 - val_loss: 0.3464 - val_accuracy: 0.8550 - 10s/epoch - 2ms/step\n",
      "Epoch 84/250\n",
      "4582/4582 - 10s - loss: 0.3440 - accuracy: 0.8554 - val_loss: 0.3459 - val_accuracy: 0.8550 - 10s/epoch - 2ms/step\n",
      "Epoch 85/250\n",
      "4582/4582 - 10s - loss: 0.3437 - accuracy: 0.8562 - val_loss: 0.3471 - val_accuracy: 0.8541 - 10s/epoch - 2ms/step\n",
      "Epoch 86/250\n",
      "4582/4582 - 10s - loss: 0.3429 - accuracy: 0.8558 - val_loss: 0.3466 - val_accuracy: 0.8554 - 10s/epoch - 2ms/step\n",
      "Epoch 87/250\n",
      "4582/4582 - 10s - loss: 0.3432 - accuracy: 0.8560 - val_loss: 0.3467 - val_accuracy: 0.8550 - 10s/epoch - 2ms/step\n",
      "Epoch 88/250\n",
      "4582/4582 - 10s - loss: 0.3436 - accuracy: 0.8562 - val_loss: 0.3466 - val_accuracy: 0.8548 - 10s/epoch - 2ms/step\n",
      "Epoch 89/250\n",
      "4582/4582 - 10s - loss: 0.3438 - accuracy: 0.8571 - val_loss: 0.3477 - val_accuracy: 0.8537 - 10s/epoch - 2ms/step\n",
      "Epoch 90/250\n",
      "4582/4582 - 10s - loss: 0.3428 - accuracy: 0.8561 - val_loss: 0.3467 - val_accuracy: 0.8545 - 10s/epoch - 2ms/step\n",
      "Epoch 91/250\n",
      "4582/4582 - 10s - loss: 0.3438 - accuracy: 0.8549 - val_loss: 0.3461 - val_accuracy: 0.8549 - 10s/epoch - 2ms/step\n",
      "Epoch 92/250\n",
      "4582/4582 - 11s - loss: 0.3429 - accuracy: 0.8562 - val_loss: 0.3460 - val_accuracy: 0.8550 - 11s/epoch - 2ms/step\n",
      "Epoch 93/250\n",
      "4582/4582 - 11s - loss: 0.3434 - accuracy: 0.8558 - val_loss: 0.3481 - val_accuracy: 0.8539 - 11s/epoch - 2ms/step\n",
      "Epoch 94/250\n",
      "4582/4582 - 10s - loss: 0.3432 - accuracy: 0.8557 - val_loss: 0.3469 - val_accuracy: 0.8553 - 10s/epoch - 2ms/step\n",
      "Epoch 95/250\n",
      "4582/4582 - 12s - loss: 0.3439 - accuracy: 0.8560 - val_loss: 0.3460 - val_accuracy: 0.8552 - 12s/epoch - 3ms/step\n",
      "Epoch 96/250\n",
      "4582/4582 - 20s - loss: 0.3432 - accuracy: 0.8572 - val_loss: 0.3469 - val_accuracy: 0.8541 - 20s/epoch - 4ms/step\n",
      "Epoch 97/250\n",
      "4582/4582 - 17s - loss: 0.3426 - accuracy: 0.8564 - val_loss: 0.3463 - val_accuracy: 0.8539 - 17s/epoch - 4ms/step\n",
      "Epoch 98/250\n",
      "4582/4582 - 11s - loss: 0.3433 - accuracy: 0.8553 - val_loss: 0.3461 - val_accuracy: 0.8555 - 11s/epoch - 2ms/step\n",
      "Epoch 99/250\n",
      "4582/4582 - 12s - loss: 0.3426 - accuracy: 0.8555 - val_loss: 0.3462 - val_accuracy: 0.8545 - 12s/epoch - 3ms/step\n",
      "Epoch 100/250\n",
      "4582/4582 - 12s - loss: 0.3437 - accuracy: 0.8566 - val_loss: 0.3467 - val_accuracy: 0.8545 - 12s/epoch - 3ms/step\n",
      "Epoch 101/250\n",
      "4582/4582 - 11s - loss: 0.3423 - accuracy: 0.8560 - val_loss: 0.3468 - val_accuracy: 0.8535 - 11s/epoch - 2ms/step\n",
      "Epoch 102/250\n",
      "4582/4582 - 10s - loss: 0.3431 - accuracy: 0.8559 - val_loss: 0.3469 - val_accuracy: 0.8550 - 10s/epoch - 2ms/step\n",
      "Epoch 103/250\n",
      "4582/4582 - 10s - loss: 0.3424 - accuracy: 0.8565 - val_loss: 0.3465 - val_accuracy: 0.8538 - 10s/epoch - 2ms/step\n",
      "Epoch 104/250\n",
      "4582/4582 - 10s - loss: 0.3432 - accuracy: 0.8574 - val_loss: 0.3462 - val_accuracy: 0.8540 - 10s/epoch - 2ms/step\n",
      "Epoch 105/250\n",
      "4582/4582 - 10s - loss: 0.3423 - accuracy: 0.8565 - val_loss: 0.3473 - val_accuracy: 0.8546 - 10s/epoch - 2ms/step\n",
      "Epoch 106/250\n",
      "4582/4582 - 10s - loss: 0.3440 - accuracy: 0.8556 - val_loss: 0.3469 - val_accuracy: 0.8553 - 10s/epoch - 2ms/step\n",
      "Epoch 107/250\n",
      "4582/4582 - 11s - loss: 0.3420 - accuracy: 0.8558 - val_loss: 0.3459 - val_accuracy: 0.8547 - 11s/epoch - 2ms/step\n",
      "Epoch 108/250\n",
      "4582/4582 - 10s - loss: 0.3426 - accuracy: 0.8564 - val_loss: 0.3472 - val_accuracy: 0.8550 - 10s/epoch - 2ms/step\n",
      "Epoch 109/250\n",
      "4582/4582 - 10s - loss: 0.3430 - accuracy: 0.8567 - val_loss: 0.3463 - val_accuracy: 0.8547 - 10s/epoch - 2ms/step\n",
      "Epoch 110/250\n",
      "4582/4582 - 10s - loss: 0.3430 - accuracy: 0.8560 - val_loss: 0.3468 - val_accuracy: 0.8552 - 10s/epoch - 2ms/step\n",
      "Epoch 111/250\n",
      "4582/4582 - 10s - loss: 0.3425 - accuracy: 0.8564 - val_loss: 0.3481 - val_accuracy: 0.8527 - 10s/epoch - 2ms/step\n",
      "Epoch 112/250\n",
      "4582/4582 - 10s - loss: 0.3425 - accuracy: 0.8560 - val_loss: 0.3465 - val_accuracy: 0.8541 - 10s/epoch - 2ms/step\n",
      "Epoch 113/250\n",
      "4582/4582 - 10s - loss: 0.3420 - accuracy: 0.8558 - val_loss: 0.3477 - val_accuracy: 0.8545 - 10s/epoch - 2ms/step\n",
      "Epoch 114/250\n",
      "4582/4582 - 10s - loss: 0.3435 - accuracy: 0.8558 - val_loss: 0.3481 - val_accuracy: 0.8545 - 10s/epoch - 2ms/step\n",
      "Epoch 115/250\n",
      "4582/4582 - 10s - loss: 0.3426 - accuracy: 0.8558 - val_loss: 0.3471 - val_accuracy: 0.8532 - 10s/epoch - 2ms/step\n",
      "Epoch 116/250\n",
      "4582/4582 - 10s - loss: 0.3423 - accuracy: 0.8566 - val_loss: 0.3463 - val_accuracy: 0.8541 - 10s/epoch - 2ms/step\n",
      "Epoch 117/250\n",
      "4582/4582 - 10s - loss: 0.3426 - accuracy: 0.8567 - val_loss: 0.3463 - val_accuracy: 0.8533 - 10s/epoch - 2ms/step\n",
      "Epoch 118/250\n",
      "4582/4582 - 10s - loss: 0.3417 - accuracy: 0.8570 - val_loss: 0.3469 - val_accuracy: 0.8536 - 10s/epoch - 2ms/step\n",
      "Epoch 119/250\n",
      "4582/4582 - 10s - loss: 0.3415 - accuracy: 0.8567 - val_loss: 0.3475 - val_accuracy: 0.8549 - 10s/epoch - 2ms/step\n",
      "Epoch 120/250\n",
      "4582/4582 - 10s - loss: 0.3425 - accuracy: 0.8564 - val_loss: 0.3466 - val_accuracy: 0.8548 - 10s/epoch - 2ms/step\n",
      "Epoch 121/250\n",
      "4582/4582 - 11s - loss: 0.3423 - accuracy: 0.8580 - val_loss: 0.3475 - val_accuracy: 0.8545 - 11s/epoch - 2ms/step\n",
      "Epoch 122/250\n",
      "4582/4582 - 10s - loss: 0.3425 - accuracy: 0.8570 - val_loss: 0.3467 - val_accuracy: 0.8547 - 10s/epoch - 2ms/step\n",
      "Epoch 123/250\n",
      "4582/4582 - 8s - loss: 0.3417 - accuracy: 0.8571 - val_loss: 0.3466 - val_accuracy: 0.8545 - 8s/epoch - 2ms/step\n",
      "Epoch 124/250\n",
      "4582/4582 - 8s - loss: 0.3424 - accuracy: 0.8561 - val_loss: 0.3466 - val_accuracy: 0.8540 - 8s/epoch - 2ms/step\n",
      "Epoch 125/250\n",
      "4582/4582 - 8s - loss: 0.3414 - accuracy: 0.8573 - val_loss: 0.3478 - val_accuracy: 0.8544 - 8s/epoch - 2ms/step\n",
      "Epoch 126/250\n",
      "4582/4582 - 8s - loss: 0.3420 - accuracy: 0.8568 - val_loss: 0.3468 - val_accuracy: 0.8543 - 8s/epoch - 2ms/step\n",
      "Epoch 127/250\n",
      "4582/4582 - 8s - loss: 0.3416 - accuracy: 0.8576 - val_loss: 0.3498 - val_accuracy: 0.8534 - 8s/epoch - 2ms/step\n",
      "Epoch 128/250\n",
      "4582/4582 - 8s - loss: 0.3422 - accuracy: 0.8569 - val_loss: 0.3462 - val_accuracy: 0.8551 - 8s/epoch - 2ms/step\n",
      "Epoch 129/250\n",
      "4582/4582 - 8s - loss: 0.3425 - accuracy: 0.8574 - val_loss: 0.3463 - val_accuracy: 0.8538 - 8s/epoch - 2ms/step\n"
     ]
    },
    {
     "name": "stdout",
     "output_type": "stream",
     "text": [
      "Epoch 130/250\n",
      "4582/4582 - 8s - loss: 0.3421 - accuracy: 0.8571 - val_loss: 0.3479 - val_accuracy: 0.8540 - 8s/epoch - 2ms/step\n",
      "Epoch 131/250\n",
      "4582/4582 - 8s - loss: 0.3417 - accuracy: 0.8580 - val_loss: 0.3464 - val_accuracy: 0.8532 - 8s/epoch - 2ms/step\n",
      "Epoch 132/250\n",
      "4582/4582 - 8s - loss: 0.3426 - accuracy: 0.8566 - val_loss: 0.3476 - val_accuracy: 0.8547 - 8s/epoch - 2ms/step\n",
      "Epoch 133/250\n",
      "4582/4582 - 8s - loss: 0.3420 - accuracy: 0.8563 - val_loss: 0.3470 - val_accuracy: 0.8540 - 8s/epoch - 2ms/step\n",
      "Epoch 134/250\n",
      "4582/4582 - 8s - loss: 0.3426 - accuracy: 0.8566 - val_loss: 0.3453 - val_accuracy: 0.8552 - 8s/epoch - 2ms/step\n",
      "Epoch 135/250\n",
      "4582/4582 - 8s - loss: 0.3423 - accuracy: 0.8573 - val_loss: 0.3480 - val_accuracy: 0.8539 - 8s/epoch - 2ms/step\n",
      "Epoch 136/250\n",
      "4582/4582 - 8s - loss: 0.3424 - accuracy: 0.8563 - val_loss: 0.3463 - val_accuracy: 0.8553 - 8s/epoch - 2ms/step\n",
      "Epoch 137/250\n",
      "4582/4582 - 8s - loss: 0.3416 - accuracy: 0.8561 - val_loss: 0.3475 - val_accuracy: 0.8546 - 8s/epoch - 2ms/step\n",
      "Epoch 138/250\n",
      "4582/4582 - 8s - loss: 0.3417 - accuracy: 0.8567 - val_loss: 0.3469 - val_accuracy: 0.8547 - 8s/epoch - 2ms/step\n",
      "Epoch 139/250\n",
      "4582/4582 - 8s - loss: 0.3421 - accuracy: 0.8568 - val_loss: 0.3460 - val_accuracy: 0.8549 - 8s/epoch - 2ms/step\n",
      "Epoch 140/250\n",
      "4582/4582 - 8s - loss: 0.3419 - accuracy: 0.8572 - val_loss: 0.3467 - val_accuracy: 0.8556 - 8s/epoch - 2ms/step\n",
      "Epoch 141/250\n",
      "4582/4582 - 8s - loss: 0.3422 - accuracy: 0.8573 - val_loss: 0.3465 - val_accuracy: 0.8558 - 8s/epoch - 2ms/step\n",
      "Epoch 142/250\n",
      "4582/4582 - 8s - loss: 0.3414 - accuracy: 0.8574 - val_loss: 0.3463 - val_accuracy: 0.8550 - 8s/epoch - 2ms/step\n",
      "Epoch 143/250\n",
      "4582/4582 - 8s - loss: 0.3418 - accuracy: 0.8570 - val_loss: 0.3466 - val_accuracy: 0.8547 - 8s/epoch - 2ms/step\n",
      "Epoch 144/250\n",
      "4582/4582 - 8s - loss: 0.3422 - accuracy: 0.8571 - val_loss: 0.3471 - val_accuracy: 0.8545 - 8s/epoch - 2ms/step\n",
      "Epoch 145/250\n",
      "4582/4582 - 8s - loss: 0.3413 - accuracy: 0.8563 - val_loss: 0.3471 - val_accuracy: 0.8556 - 8s/epoch - 2ms/step\n",
      "Epoch 146/250\n",
      "4582/4582 - 8s - loss: 0.3420 - accuracy: 0.8571 - val_loss: 0.3464 - val_accuracy: 0.8549 - 8s/epoch - 2ms/step\n",
      "Epoch 147/250\n",
      "4582/4582 - 8s - loss: 0.3415 - accuracy: 0.8572 - val_loss: 0.3469 - val_accuracy: 0.8552 - 8s/epoch - 2ms/step\n",
      "Epoch 148/250\n",
      "4582/4582 - 8s - loss: 0.3415 - accuracy: 0.8569 - val_loss: 0.3486 - val_accuracy: 0.8530 - 8s/epoch - 2ms/step\n",
      "Epoch 149/250\n",
      "4582/4582 - 8s - loss: 0.3419 - accuracy: 0.8571 - val_loss: 0.3464 - val_accuracy: 0.8552 - 8s/epoch - 2ms/step\n",
      "Epoch 150/250\n",
      "4582/4582 - 8s - loss: 0.3410 - accuracy: 0.8575 - val_loss: 0.3466 - val_accuracy: 0.8550 - 8s/epoch - 2ms/step\n",
      "Epoch 151/250\n",
      "4582/4582 - 8s - loss: 0.3414 - accuracy: 0.8575 - val_loss: 0.3495 - val_accuracy: 0.8529 - 8s/epoch - 2ms/step\n",
      "Epoch 152/250\n",
      "4582/4582 - 8s - loss: 0.3412 - accuracy: 0.8573 - val_loss: 0.3462 - val_accuracy: 0.8552 - 8s/epoch - 2ms/step\n",
      "Epoch 153/250\n",
      "4582/4582 - 8s - loss: 0.3418 - accuracy: 0.8575 - val_loss: 0.3469 - val_accuracy: 0.8551 - 8s/epoch - 2ms/step\n",
      "Epoch 154/250\n",
      "4582/4582 - 8s - loss: 0.3413 - accuracy: 0.8564 - val_loss: 0.3475 - val_accuracy: 0.8546 - 8s/epoch - 2ms/step\n",
      "Epoch 155/250\n",
      "4582/4582 - 8s - loss: 0.3415 - accuracy: 0.8563 - val_loss: 0.3480 - val_accuracy: 0.8552 - 8s/epoch - 2ms/step\n",
      "Epoch 156/250\n",
      "4582/4582 - 8s - loss: 0.3414 - accuracy: 0.8576 - val_loss: 0.3465 - val_accuracy: 0.8550 - 8s/epoch - 2ms/step\n",
      "Epoch 157/250\n",
      "4582/4582 - 8s - loss: 0.3416 - accuracy: 0.8573 - val_loss: 0.3477 - val_accuracy: 0.8536 - 8s/epoch - 2ms/step\n",
      "Epoch 158/250\n",
      "4582/4582 - 8s - loss: 0.3416 - accuracy: 0.8575 - val_loss: 0.3478 - val_accuracy: 0.8545 - 8s/epoch - 2ms/step\n",
      "Epoch 159/250\n",
      "4582/4582 - 8s - loss: 0.3420 - accuracy: 0.8564 - val_loss: 0.3475 - val_accuracy: 0.8528 - 8s/epoch - 2ms/step\n",
      "Epoch 160/250\n",
      "4582/4582 - 8s - loss: 0.3416 - accuracy: 0.8571 - val_loss: 0.3478 - val_accuracy: 0.8549 - 8s/epoch - 2ms/step\n",
      "Epoch 161/250\n",
      "4582/4582 - 8s - loss: 0.3419 - accuracy: 0.8571 - val_loss: 0.3490 - val_accuracy: 0.8539 - 8s/epoch - 2ms/step\n",
      "Epoch 162/250\n",
      "4582/4582 - 8s - loss: 0.3413 - accuracy: 0.8575 - val_loss: 0.3471 - val_accuracy: 0.8534 - 8s/epoch - 2ms/step\n",
      "Epoch 163/250\n",
      "4582/4582 - 8s - loss: 0.3414 - accuracy: 0.8566 - val_loss: 0.3461 - val_accuracy: 0.8561 - 8s/epoch - 2ms/step\n",
      "Epoch 164/250\n",
      "4582/4582 - 8s - loss: 0.3414 - accuracy: 0.8581 - val_loss: 0.3472 - val_accuracy: 0.8546 - 8s/epoch - 2ms/step\n",
      "Epoch 165/250\n",
      "4582/4582 - 9s - loss: 0.3417 - accuracy: 0.8561 - val_loss: 0.3479 - val_accuracy: 0.8548 - 9s/epoch - 2ms/step\n",
      "Epoch 166/250\n",
      "4582/4582 - 9s - loss: 0.3421 - accuracy: 0.8564 - val_loss: 0.3474 - val_accuracy: 0.8539 - 9s/epoch - 2ms/step\n",
      "Epoch 167/250\n",
      "4582/4582 - 8s - loss: 0.3420 - accuracy: 0.8572 - val_loss: 0.3463 - val_accuracy: 0.8554 - 8s/epoch - 2ms/step\n",
      "Epoch 168/250\n",
      "4582/4582 - 8s - loss: 0.3416 - accuracy: 0.8572 - val_loss: 0.3494 - val_accuracy: 0.8522 - 8s/epoch - 2ms/step\n",
      "Epoch 169/250\n",
      "4582/4582 - 8s - loss: 0.3414 - accuracy: 0.8573 - val_loss: 0.3476 - val_accuracy: 0.8539 - 8s/epoch - 2ms/step\n",
      "Epoch 170/250\n",
      "4582/4582 - 8s - loss: 0.3408 - accuracy: 0.8568 - val_loss: 0.3476 - val_accuracy: 0.8542 - 8s/epoch - 2ms/step\n",
      "Epoch 171/250\n",
      "4582/4582 - 8s - loss: 0.3404 - accuracy: 0.8573 - val_loss: 0.3462 - val_accuracy: 0.8541 - 8s/epoch - 2ms/step\n",
      "Epoch 172/250\n",
      "4582/4582 - 8s - loss: 0.3412 - accuracy: 0.8573 - val_loss: 0.3466 - val_accuracy: 0.8549 - 8s/epoch - 2ms/step\n",
      "Epoch 173/250\n",
      "4582/4582 - 8s - loss: 0.3410 - accuracy: 0.8570 - val_loss: 0.3486 - val_accuracy: 0.8537 - 8s/epoch - 2ms/step\n",
      "Epoch 174/250\n",
      "4582/4582 - 8s - loss: 0.3414 - accuracy: 0.8576 - val_loss: 0.3466 - val_accuracy: 0.8541 - 8s/epoch - 2ms/step\n",
      "Epoch 175/250\n",
      "4582/4582 - 8s - loss: 0.3416 - accuracy: 0.8572 - val_loss: 0.3472 - val_accuracy: 0.8542 - 8s/epoch - 2ms/step\n",
      "Epoch 176/250\n",
      "4582/4582 - 8s - loss: 0.3413 - accuracy: 0.8568 - val_loss: 0.3477 - val_accuracy: 0.8557 - 8s/epoch - 2ms/step\n",
      "Epoch 177/250\n",
      "4582/4582 - 9s - loss: 0.3411 - accuracy: 0.8572 - val_loss: 0.3479 - val_accuracy: 0.8535 - 9s/epoch - 2ms/step\n",
      "Epoch 178/250\n",
      "4582/4582 - 8s - loss: 0.3413 - accuracy: 0.8567 - val_loss: 0.3484 - val_accuracy: 0.8542 - 8s/epoch - 2ms/step\n",
      "Epoch 179/250\n",
      "4582/4582 - 8s - loss: 0.3413 - accuracy: 0.8570 - val_loss: 0.3468 - val_accuracy: 0.8551 - 8s/epoch - 2ms/step\n",
      "Epoch 180/250\n",
      "4582/4582 - 8s - loss: 0.3414 - accuracy: 0.8563 - val_loss: 0.3477 - val_accuracy: 0.8540 - 8s/epoch - 2ms/step\n",
      "Epoch 181/250\n",
      "4582/4582 - 8s - loss: 0.3403 - accuracy: 0.8578 - val_loss: 0.3477 - val_accuracy: 0.8532 - 8s/epoch - 2ms/step\n",
      "Epoch 182/250\n",
      "4582/4582 - 8s - loss: 0.3408 - accuracy: 0.8580 - val_loss: 0.3471 - val_accuracy: 0.8544 - 8s/epoch - 2ms/step\n",
      "Epoch 183/250\n",
      "4582/4582 - 8s - loss: 0.3410 - accuracy: 0.8571 - val_loss: 0.3481 - val_accuracy: 0.8544 - 8s/epoch - 2ms/step\n",
      "Epoch 184/250\n",
      "4582/4582 - 8s - loss: 0.3411 - accuracy: 0.8571 - val_loss: 0.3476 - val_accuracy: 0.8539 - 8s/epoch - 2ms/step\n",
      "Epoch 185/250\n",
      "4582/4582 - 8s - loss: 0.3405 - accuracy: 0.8577 - val_loss: 0.3472 - val_accuracy: 0.8560 - 8s/epoch - 2ms/step\n",
      "Epoch 186/250\n",
      "4582/4582 - 8s - loss: 0.3405 - accuracy: 0.8577 - val_loss: 0.3468 - val_accuracy: 0.8552 - 8s/epoch - 2ms/step\n",
      "Epoch 187/250\n",
      "4582/4582 - 8s - loss: 0.3410 - accuracy: 0.8577 - val_loss: 0.3466 - val_accuracy: 0.8553 - 8s/epoch - 2ms/step\n",
      "Epoch 188/250\n",
      "4582/4582 - 8s - loss: 0.3416 - accuracy: 0.8572 - val_loss: 0.3461 - val_accuracy: 0.8560 - 8s/epoch - 2ms/step\n",
      "Epoch 189/250\n",
      "4582/4582 - 8s - loss: 0.3416 - accuracy: 0.8570 - val_loss: 0.3480 - val_accuracy: 0.8538 - 8s/epoch - 2ms/step\n",
      "Epoch 190/250\n",
      "4582/4582 - 8s - loss: 0.3414 - accuracy: 0.8573 - val_loss: 0.3471 - val_accuracy: 0.8550 - 8s/epoch - 2ms/step\n",
      "Epoch 191/250\n",
      "4582/4582 - 8s - loss: 0.3408 - accuracy: 0.8573 - val_loss: 0.3483 - val_accuracy: 0.8547 - 8s/epoch - 2ms/step\n",
      "Epoch 192/250\n",
      "4582/4582 - 8s - loss: 0.3421 - accuracy: 0.8568 - val_loss: 0.3471 - val_accuracy: 0.8537 - 8s/epoch - 2ms/step\n",
      "Epoch 193/250\n",
      "4582/4582 - 8s - loss: 0.3414 - accuracy: 0.8565 - val_loss: 0.3478 - val_accuracy: 0.8555 - 8s/epoch - 2ms/step\n",
      "Epoch 194/250\n",
      "4582/4582 - 8s - loss: 0.3411 - accuracy: 0.8576 - val_loss: 0.3484 - val_accuracy: 0.8549 - 8s/epoch - 2ms/step\n"
     ]
    },
    {
     "name": "stdout",
     "output_type": "stream",
     "text": [
      "Epoch 195/250\n",
      "4582/4582 - 8s - loss: 0.3413 - accuracy: 0.8572 - val_loss: 0.3471 - val_accuracy: 0.8543 - 8s/epoch - 2ms/step\n",
      "Epoch 196/250\n",
      "4582/4582 - 8s - loss: 0.3419 - accuracy: 0.8571 - val_loss: 0.3469 - val_accuracy: 0.8549 - 8s/epoch - 2ms/step\n",
      "Epoch 197/250\n",
      "4582/4582 - 8s - loss: 0.3401 - accuracy: 0.8575 - val_loss: 0.3482 - val_accuracy: 0.8548 - 8s/epoch - 2ms/step\n",
      "Epoch 198/250\n",
      "4582/4582 - 8s - loss: 0.3413 - accuracy: 0.8579 - val_loss: 0.3473 - val_accuracy: 0.8549 - 8s/epoch - 2ms/step\n",
      "Epoch 199/250\n",
      "4582/4582 - 8s - loss: 0.3406 - accuracy: 0.8575 - val_loss: 0.3479 - val_accuracy: 0.8550 - 8s/epoch - 2ms/step\n",
      "Epoch 200/250\n",
      "4582/4582 - 8s - loss: 0.3413 - accuracy: 0.8578 - val_loss: 0.3458 - val_accuracy: 0.8551 - 8s/epoch - 2ms/step\n",
      "Epoch 201/250\n",
      "4582/4582 - 8s - loss: 0.3408 - accuracy: 0.8577 - val_loss: 0.3465 - val_accuracy: 0.8552 - 8s/epoch - 2ms/step\n",
      "Epoch 202/250\n",
      "4582/4582 - 8s - loss: 0.3415 - accuracy: 0.8568 - val_loss: 0.3477 - val_accuracy: 0.8547 - 8s/epoch - 2ms/step\n",
      "Epoch 203/250\n",
      "4582/4582 - 8s - loss: 0.3412 - accuracy: 0.8574 - val_loss: 0.3474 - val_accuracy: 0.8532 - 8s/epoch - 2ms/step\n",
      "Epoch 204/250\n",
      "4582/4582 - 8s - loss: 0.3411 - accuracy: 0.8567 - val_loss: 0.3478 - val_accuracy: 0.8546 - 8s/epoch - 2ms/step\n",
      "Epoch 205/250\n",
      "4582/4582 - 8s - loss: 0.3411 - accuracy: 0.8579 - val_loss: 0.3486 - val_accuracy: 0.8538 - 8s/epoch - 2ms/step\n",
      "Epoch 206/250\n",
      "4582/4582 - 8s - loss: 0.3413 - accuracy: 0.8576 - val_loss: 0.3487 - val_accuracy: 0.8534 - 8s/epoch - 2ms/step\n",
      "Epoch 207/250\n",
      "4582/4582 - 8s - loss: 0.3411 - accuracy: 0.8579 - val_loss: 0.3490 - val_accuracy: 0.8545 - 8s/epoch - 2ms/step\n",
      "Epoch 208/250\n",
      "4582/4582 - 8s - loss: 0.3417 - accuracy: 0.8568 - val_loss: 0.3465 - val_accuracy: 0.8553 - 8s/epoch - 2ms/step\n",
      "Epoch 209/250\n",
      "4582/4582 - 8s - loss: 0.3401 - accuracy: 0.8580 - val_loss: 0.3487 - val_accuracy: 0.8548 - 8s/epoch - 2ms/step\n",
      "Epoch 210/250\n",
      "4582/4582 - 8s - loss: 0.3405 - accuracy: 0.8583 - val_loss: 0.3473 - val_accuracy: 0.8552 - 8s/epoch - 2ms/step\n",
      "Epoch 211/250\n",
      "4582/4582 - 8s - loss: 0.3417 - accuracy: 0.8574 - val_loss: 0.3483 - val_accuracy: 0.8545 - 8s/epoch - 2ms/step\n",
      "Epoch 212/250\n",
      "4582/4582 - 8s - loss: 0.3411 - accuracy: 0.8573 - val_loss: 0.3480 - val_accuracy: 0.8560 - 8s/epoch - 2ms/step\n",
      "Epoch 213/250\n",
      "4582/4582 - 8s - loss: 0.3408 - accuracy: 0.8584 - val_loss: 0.3473 - val_accuracy: 0.8551 - 8s/epoch - 2ms/step\n",
      "Epoch 214/250\n",
      "4582/4582 - 8s - loss: 0.3407 - accuracy: 0.8582 - val_loss: 0.3482 - val_accuracy: 0.8552 - 8s/epoch - 2ms/step\n",
      "Epoch 215/250\n",
      "4582/4582 - 8s - loss: 0.3401 - accuracy: 0.8576 - val_loss: 0.3481 - val_accuracy: 0.8534 - 8s/epoch - 2ms/step\n",
      "Epoch 216/250\n",
      "4582/4582 - 8s - loss: 0.3409 - accuracy: 0.8576 - val_loss: 0.3475 - val_accuracy: 0.8557 - 8s/epoch - 2ms/step\n",
      "Epoch 217/250\n",
      "4582/4582 - 8s - loss: 0.3408 - accuracy: 0.8570 - val_loss: 0.3478 - val_accuracy: 0.8537 - 8s/epoch - 2ms/step\n",
      "Epoch 218/250\n",
      "4582/4582 - 8s - loss: 0.3407 - accuracy: 0.8570 - val_loss: 0.3490 - val_accuracy: 0.8542 - 8s/epoch - 2ms/step\n",
      "Epoch 219/250\n",
      "4582/4582 - 8s - loss: 0.3412 - accuracy: 0.8576 - val_loss: 0.3476 - val_accuracy: 0.8543 - 8s/epoch - 2ms/step\n",
      "Epoch 220/250\n",
      "4582/4582 - 8s - loss: 0.3405 - accuracy: 0.8579 - val_loss: 0.3462 - val_accuracy: 0.8558 - 8s/epoch - 2ms/step\n",
      "Epoch 221/250\n",
      "4582/4582 - 8s - loss: 0.3399 - accuracy: 0.8573 - val_loss: 0.3490 - val_accuracy: 0.8546 - 8s/epoch - 2ms/step\n",
      "Epoch 222/250\n",
      "4582/4582 - 8s - loss: 0.3402 - accuracy: 0.8575 - val_loss: 0.3487 - val_accuracy: 0.8543 - 8s/epoch - 2ms/step\n",
      "Epoch 223/250\n",
      "4582/4582 - 8s - loss: 0.3413 - accuracy: 0.8581 - val_loss: 0.3485 - val_accuracy: 0.8540 - 8s/epoch - 2ms/step\n",
      "Epoch 224/250\n",
      "4582/4582 - 8s - loss: 0.3403 - accuracy: 0.8584 - val_loss: 0.3482 - val_accuracy: 0.8543 - 8s/epoch - 2ms/step\n",
      "Epoch 225/250\n",
      "4582/4582 - 8s - loss: 0.3409 - accuracy: 0.8563 - val_loss: 0.3469 - val_accuracy: 0.8547 - 8s/epoch - 2ms/step\n",
      "Epoch 226/250\n",
      "4582/4582 - 9s - loss: 0.3402 - accuracy: 0.8584 - val_loss: 0.3482 - val_accuracy: 0.8544 - 9s/epoch - 2ms/step\n",
      "Epoch 227/250\n",
      "4582/4582 - 8s - loss: 0.3400 - accuracy: 0.8585 - val_loss: 0.3480 - val_accuracy: 0.8544 - 8s/epoch - 2ms/step\n",
      "Epoch 228/250\n",
      "4582/4582 - 8s - loss: 0.3400 - accuracy: 0.8585 - val_loss: 0.3493 - val_accuracy: 0.8543 - 8s/epoch - 2ms/step\n",
      "Epoch 229/250\n",
      "4582/4582 - 8s - loss: 0.3406 - accuracy: 0.8580 - val_loss: 0.3482 - val_accuracy: 0.8544 - 8s/epoch - 2ms/step\n",
      "Epoch 230/250\n",
      "4582/4582 - 8s - loss: 0.3400 - accuracy: 0.8583 - val_loss: 0.3489 - val_accuracy: 0.8542 - 8s/epoch - 2ms/step\n",
      "Epoch 231/250\n",
      "4582/4582 - 8s - loss: 0.3415 - accuracy: 0.8573 - val_loss: 0.3476 - val_accuracy: 0.8551 - 8s/epoch - 2ms/step\n",
      "Epoch 232/250\n",
      "4582/4582 - 8s - loss: 0.3408 - accuracy: 0.8573 - val_loss: 0.3487 - val_accuracy: 0.8542 - 8s/epoch - 2ms/step\n",
      "Epoch 233/250\n",
      "4582/4582 - 8s - loss: 0.3403 - accuracy: 0.8580 - val_loss: 0.3472 - val_accuracy: 0.8551 - 8s/epoch - 2ms/step\n",
      "Epoch 234/250\n",
      "4582/4582 - 8s - loss: 0.3403 - accuracy: 0.8582 - val_loss: 0.3483 - val_accuracy: 0.8547 - 8s/epoch - 2ms/step\n",
      "Epoch 235/250\n",
      "4582/4582 - 8s - loss: 0.3406 - accuracy: 0.8590 - val_loss: 0.3474 - val_accuracy: 0.8549 - 8s/epoch - 2ms/step\n",
      "Epoch 236/250\n",
      "4582/4582 - 8s - loss: 0.3403 - accuracy: 0.8574 - val_loss: 0.3482 - val_accuracy: 0.8531 - 8s/epoch - 2ms/step\n",
      "Epoch 237/250\n",
      "4582/4582 - 8s - loss: 0.3400 - accuracy: 0.8583 - val_loss: 0.3481 - val_accuracy: 0.8541 - 8s/epoch - 2ms/step\n",
      "Epoch 238/250\n",
      "4582/4582 - 8s - loss: 0.3405 - accuracy: 0.8576 - val_loss: 0.3485 - val_accuracy: 0.8547 - 8s/epoch - 2ms/step\n",
      "Epoch 239/250\n",
      "4582/4582 - 8s - loss: 0.3413 - accuracy: 0.8572 - val_loss: 0.3486 - val_accuracy: 0.8545 - 8s/epoch - 2ms/step\n",
      "Epoch 240/250\n",
      "4582/4582 - 8s - loss: 0.3402 - accuracy: 0.8570 - val_loss: 0.3475 - val_accuracy: 0.8551 - 8s/epoch - 2ms/step\n",
      "Epoch 241/250\n",
      "4582/4582 - 8s - loss: 0.3396 - accuracy: 0.8590 - val_loss: 0.3478 - val_accuracy: 0.8529 - 8s/epoch - 2ms/step\n",
      "Epoch 242/250\n",
      "4582/4582 - 8s - loss: 0.3410 - accuracy: 0.8579 - val_loss: 0.3486 - val_accuracy: 0.8542 - 8s/epoch - 2ms/step\n",
      "Epoch 243/250\n",
      "4582/4582 - 8s - loss: 0.3405 - accuracy: 0.8580 - val_loss: 0.3472 - val_accuracy: 0.8552 - 8s/epoch - 2ms/step\n",
      "Epoch 244/250\n",
      "4582/4582 - 9s - loss: 0.3407 - accuracy: 0.8578 - val_loss: 0.3474 - val_accuracy: 0.8552 - 9s/epoch - 2ms/step\n",
      "Epoch 245/250\n",
      "4582/4582 - 8s - loss: 0.3412 - accuracy: 0.8572 - val_loss: 0.3479 - val_accuracy: 0.8536 - 8s/epoch - 2ms/step\n",
      "Epoch 246/250\n",
      "4582/4582 - 8s - loss: 0.3400 - accuracy: 0.8586 - val_loss: 0.3487 - val_accuracy: 0.8543 - 8s/epoch - 2ms/step\n",
      "Epoch 247/250\n",
      "4582/4582 - 8s - loss: 0.3406 - accuracy: 0.8577 - val_loss: 0.3477 - val_accuracy: 0.8543 - 8s/epoch - 2ms/step\n",
      "Epoch 248/250\n",
      "4582/4582 - 8s - loss: 0.3409 - accuracy: 0.8584 - val_loss: 0.3475 - val_accuracy: 0.8556 - 8s/epoch - 2ms/step\n",
      "Epoch 249/250\n",
      "4582/4582 - 8s - loss: 0.3401 - accuracy: 0.8577 - val_loss: 0.3484 - val_accuracy: 0.8527 - 8s/epoch - 2ms/step\n",
      "Epoch 250/250\n",
      "4582/4582 - 9s - loss: 0.3410 - accuracy: 0.8571 - val_loss: 0.3490 - val_accuracy: 0.8539 - 9s/epoch - 2ms/step\n"
     ]
    }
   ],
   "source": [
    "history = model.fit(\n",
    "    np.array(X_train),\n",
    "    np.array(y_train),\n",
    "    epochs=250,\n",
    "    batch_size=16,\n",
    "    validation_data=(X_test, np.array(y_test)),\n",
    "    callbacks=[early_stopping],\n",
    "    verbose = 2\n",
    ")"
   ]
  },
  {
   "cell_type": "markdown",
   "metadata": {},
   "source": [
    "# Evaluamos en val-dev y medimos la performance"
   ]
  },
  {
   "cell_type": "code",
   "execution_count": 26,
   "metadata": {},
   "outputs": [],
   "source": [
    "y_pred_proba = model.predict(X_test)\n",
    "y_pred_classes = np.where(y_pred_proba > 0.5, 1, 0)"
   ]
  },
  {
   "cell_type": "markdown",
   "metadata": {},
   "source": [
    "Como métrica para el f1, recall, etc. usaremos el average \"weighted\", que pondera los dos f1_score (uno con el \"no\" como clase positiva, el otro con el \"si\" como clase positiva) según el soporte de cada clase.  "
   ]
  },
  {
   "cell_type": "markdown",
   "metadata": {},
   "source": [
    "### F1, Precision, Recall, Accuracy"
   ]
  },
  {
   "cell_type": "code",
   "execution_count": 27,
   "metadata": {},
   "outputs": [
    {
     "data": {
      "text/plain": [
       "0.8465820188974937"
      ]
     },
     "execution_count": 27,
     "metadata": {},
     "output_type": "execute_result"
    }
   ],
   "source": [
    "f1_score(y_test, y_pred_classes, average='weighted')"
   ]
  },
  {
   "cell_type": "code",
   "execution_count": 28,
   "metadata": {},
   "outputs": [
    {
     "data": {
      "text/plain": [
       "0.8454519814296638"
      ]
     },
     "execution_count": 28,
     "metadata": {},
     "output_type": "execute_result"
    }
   ],
   "source": [
    "precision_score(y_test, y_pred_classes, average='weighted')"
   ]
  },
  {
   "cell_type": "code",
   "execution_count": 29,
   "metadata": {},
   "outputs": [
    {
     "data": {
      "text/plain": [
       "0.8538510502864417"
      ]
     },
     "execution_count": 29,
     "metadata": {},
     "output_type": "execute_result"
    }
   ],
   "source": [
    "recall_score(y_test, y_pred_classes, average='weighted')"
   ]
  },
  {
   "cell_type": "code",
   "execution_count": 30,
   "metadata": {},
   "outputs": [
    {
     "data": {
      "text/plain": [
       "0.8538510502864417"
      ]
     },
     "execution_count": 30,
     "metadata": {},
     "output_type": "execute_result"
    }
   ],
   "source": [
    "accuracy_score(y_test, y_pred_classes)"
   ]
  },
  {
   "cell_type": "markdown",
   "metadata": {},
   "source": [
    "### Matriz de confusión"
   ]
  },
  {
   "cell_type": "code",
   "execution_count": 31,
   "metadata": {},
   "outputs": [
    {
     "data": {
      "text/plain": [
       "<sklearn.metrics._plot.confusion_matrix.ConfusionMatrixDisplay at 0x7fc2082802b0>"
      ]
     },
     "execution_count": 31,
     "metadata": {},
     "output_type": "execute_result"
    },
    {
     "data": {
      "image/png": "[encoded data removed]",
      "text/plain": [
       "<Figure size 600x400 with 2 Axes>"
      ]
     },
     "metadata": {
      "needs_background": "light"
     },
     "output_type": "display_data"
    }
   ],
   "source": [
    "from sklearn.metrics import confusion_matrix, ConfusionMatrixDisplay\n",
    "\n",
    "cm = confusion_matrix(y_test, y_pred_classes, labels=[0,1])\n",
    "disp = ConfusionMatrixDisplay(confusion_matrix=cm, display_labels=[0,1])\n",
    "fig, ax = plt.subplots(dpi=100)\n",
    "plt.title(\"Matriz de confusion\")\n",
    "disp.plot(ax=ax)"
   ]
  },
  {
   "cell_type": "markdown",
   "metadata": {},
   "source": [
    "### AUC-ROC"
   ]
  },
  {
   "cell_type": "code",
   "execution_count": 32,
   "metadata": {},
   "outputs": [
    {
     "data": {
      "image/png": "[encoded data removed]",
      "text/plain": [
       "<Figure size 864x576 with 1 Axes>"
      ]
     },
     "metadata": {
      "needs_background": "light"
     },
     "output_type": "display_data"
    },
    {
     "name": "stdout",
     "output_type": "stream",
     "text": [
      "AUC_ROC:  0.8813451572198586\n"
     ]
    }
   ],
   "source": [
    "import matplotlib.pyplot as plt\n",
    "from sklearn.metrics import roc_curve, auc\n",
    "from sklearn.metrics import roc_auc_score\n",
    "\n",
    "\n",
    "def plot_roc(_fpr, _tpr, x):\n",
    "\n",
    "    roc_auc = auc(_fpr, _tpr)\n",
    "\n",
    "    plt.figure(figsize=(12, 8))\n",
    "    plt.plot(\n",
    "        _fpr, _tpr, color='darkorange', lw=2, label=f'ROC curve (area = {roc_auc:.5f})'\n",
    "    )\n",
    "    #plt.scatter(_fpr, x)\n",
    "    plt.plot([0, 1], [0, 1], color='navy', lw=2, linestyle='--')\n",
    "    plt.xlim([0.0, 1.0])\n",
    "    plt.ylim([0.0, 1.0])\n",
    "    plt.xlabel('False Positive Rate')\n",
    "    plt.ylabel('True Positive Rate')\n",
    "    plt.title('Receiver operating characteristic')\n",
    "    plt.legend(loc=\"lower right\")\n",
    "    plt.show()\n",
    "    \n",
    "fpr, tpr, thresholds = roc_curve(y_test, y_pred_proba)\n",
    "plot_roc(fpr, tpr, thresholds)\n",
    "print(\"AUC_ROC: \", roc_auc_score(y_test, y_pred_proba))"
   ]
  },
  {
   "cell_type": "markdown",
   "metadata": {},
   "source": [
    "Y como algo adicional y de curiosidad de ver qué tan bien le fue a la red, graficamos el RMSE y el Accuracy a lo largo de las epochs."
   ]
  },
  {
   "cell_type": "code",
   "execution_count": 33,
   "metadata": {},
   "outputs": [
    {
     "data": {
      "image/png": "[encoded data removed]",
      "text/plain": [
       "<Figure size 1200x600 with 1 Axes>"
      ]
     },
     "metadata": {
      "needs_background": "light"
     },
     "output_type": "display_data"
    }
   ],
   "source": [
    "loss = np.sqrt(history.history[\"loss\"])\n",
    "val_loss = np.sqrt(history.history[\"val_loss\"])\n",
    "\n",
    "fig = plt.figure(figsize=(12, 6), dpi=100)\n",
    "plt.plot(loss, label=\"training\")\n",
    "plt.plot(val_loss, label=\"validation\")\n",
    "plt.legend()\n",
    "plt.ylabel(\"RMSE\")\n",
    "plt.xlabel(\"Época\")\n",
    "plt.show()"
   ]
  },
  {
   "cell_type": "code",
   "execution_count": 34,
   "metadata": {},
   "outputs": [
    {
     "data": {
      "image/png": "[encoded data removed]",
      "text/plain": [
       "<Figure size 1200x600 with 1 Axes>"
      ]
     },
     "metadata": {
      "needs_background": "light"
     },
     "output_type": "display_data"
    }
   ],
   "source": [
    "fig = plt.figure(figsize=(12, 6), dpi=100)\n",
    "plt.ylabel(\"Accuracy\")\n",
    "plt.xlabel(\"epoc\")\n",
    "plt.plot(history.history[\"accuracy\"], label=\"training\")\n",
    "plt.plot(history.history[\"val_accuracy\"], label=\"validation\")\n",
    "plt.legend()\n",
    "plt.show()"
   ]
  },
  {
   "cell_type": "markdown",
   "metadata": {},
   "source": [
    "# Predicción sobre los datos privados de Flint\n",
    "\n",
    "Primero, hacemos el preprocesamiento de los datos, utilizando el mismo feature engineering que realizamos antes, para que el modelo pueda entender los datos que le pasamos. Luego, predecimos usando el modelo ya entrenado y finalmente guardamos los resultados."
   ]
  },
  {
   "cell_type": "code",
   "execution_count": 35,
   "metadata": {},
   "outputs": [],
   "source": [
    "X_private = pp.get_X_private_features()"
   ]
  },
  {
   "cell_type": "code",
   "execution_count": 36,
   "metadata": {},
   "outputs": [],
   "source": [
    "def preprocces_X_for_NeuralNetwork(X):\n",
    "    X['presion_atmosferica_tarde'] = X['presion_atmosferica_tarde'].astype('float32')\n",
    "    \n",
    "    pp.drop_features(X, [\n",
    "        'id',\n",
    "        'humedad_temprano',\n",
    "        'temp_min',\n",
    "        'rafaga_viento_max_direccion',\n",
    "        'velocidad_viendo_tarde',\n",
    "        'velocidad_viendo_temprano',\n",
    "        'direccion_viento_temprano',\n",
    "        'direccion_viento_tarde',\n",
    "        'rafaga_viento_max_velocidad'\n",
    "    ])\n",
    "\n",
    "    X[\"dia\"] = pd.to_datetime(X[\"dia\"], format = \"%Y-%m-%d\", errors = \"coerce\")\n",
    "    X[\"mes\"] = X[\"dia\"].dt.month\n",
    "    pp.drop_features(X, [\"dia\"])\n",
    "\n",
    "    X = pp.one_hot_encode(X, [\"barrio\"])\n",
    "    pp.drop_features(X, [\"barrio_nan\"])\n",
    "    X = pp.one_hot_encode(X, [\"llovieron_hamburguesas_hoy\"])\n",
    "    \n",
    "    X = pp.fill_with_iterative_imputer(X)\n",
    "    \n",
    "    X = pp.standard_scale(X, X.columns)\n",
    "    \n",
    "    pp.drop_features(X, eliminated_features)\n",
    "    \n",
    "    return X"
   ]
  },
  {
   "cell_type": "code",
   "execution_count": 37,
   "metadata": {},
   "outputs": [
    {
     "name": "stdout",
     "output_type": "stream",
     "text": [
      "[IterativeImputer] Completing matrix with shape (29092, 62)\n",
      "[IterativeImputer] Ending imputation round 1/4, elapsed time 5.54\n",
      "[IterativeImputer] Change: 92.65311281557038, scaled tolerance: 1.0405999755859374 \n",
      "[IterativeImputer] Ending imputation round 2/4, elapsed time 10.87\n",
      "[IterativeImputer] Change: 18.863696910654742, scaled tolerance: 1.0405999755859374 \n",
      "[IterativeImputer] Ending imputation round 3/4, elapsed time 15.42\n",
      "[IterativeImputer] Change: 7.251224172730616, scaled tolerance: 1.0405999755859374 \n",
      "[IterativeImputer] Ending imputation round 4/4, elapsed time 20.03\n",
      "[IterativeImputer] Change: 5.79022088266942, scaled tolerance: 1.0405999755859374 \n",
      "[IterativeImputer] Completing matrix with shape (29092, 62)\n",
      "[IterativeImputer] Ending imputation round 1/4, elapsed time 0.05\n",
      "[IterativeImputer] Ending imputation round 2/4, elapsed time 0.10\n",
      "[IterativeImputer] Ending imputation round 3/4, elapsed time 0.15\n",
      "[IterativeImputer] Ending imputation round 4/4, elapsed time 0.20\n"
     ]
    }
   ],
   "source": [
    "predictions = X_private.loc[:,['id']]\n",
    "\n",
    "X_private = preprocces_X_for_NeuralNetwork(X_private)"
   ]
  },
  {
   "cell_type": "code",
   "execution_count": 38,
   "metadata": {},
   "outputs": [],
   "source": [
    "y_priv_feat_pred_probas = model.predict(X_private)\n",
    "y_priv_feat_pred_classes = np.where(y_priv_feat_pred_probas > 0.5, 1, 0)"
   ]
  },
  {
   "cell_type": "code",
   "execution_count": 39,
   "metadata": {},
   "outputs": [
    {
     "data": {
      "text/html": [
       "<div>\n",
       "<style scoped>\n",
       "    .dataframe tbody tr th:only-of-type {\n",
       "        vertical-align: middle;\n",
       "    }\n",
       "\n",
       "    .dataframe tbody tr th {\n",
       "        vertical-align: top;\n",
       "    }\n",
       "\n",
       "    .dataframe thead th {\n",
       "        text-align: right;\n",
       "    }\n",
       "</style>\n",
       "<table border=\"1\" class=\"dataframe\">\n",
       "  <thead>\n",
       "    <tr style=\"text-align: right;\">\n",
       "      <th></th>\n",
       "      <th>llovieron_hamburguesas_al_dia_siguiente</th>\n",
       "    </tr>\n",
       "    <tr>\n",
       "      <th>id</th>\n",
       "      <th></th>\n",
       "    </tr>\n",
       "  </thead>\n",
       "  <tbody>\n",
       "    <tr>\n",
       "      <th>116706</th>\n",
       "      <td>no</td>\n",
       "    </tr>\n",
       "    <tr>\n",
       "      <th>58831</th>\n",
       "      <td>no</td>\n",
       "    </tr>\n",
       "    <tr>\n",
       "      <th>31981</th>\n",
       "      <td>si</td>\n",
       "    </tr>\n",
       "    <tr>\n",
       "      <th>2533</th>\n",
       "      <td>no</td>\n",
       "    </tr>\n",
       "    <tr>\n",
       "      <th>7270</th>\n",
       "      <td>si</td>\n",
       "    </tr>\n",
       "  </tbody>\n",
       "</table>\n",
       "</div>"
      ],
      "text/plain": [
       "       llovieron_hamburguesas_al_dia_siguiente\n",
       "id                                            \n",
       "116706                                      no\n",
       "58831                                       no\n",
       "31981                                       si\n",
       "2533                                        no\n",
       "7270                                        si"
      ]
     },
     "execution_count": 39,
     "metadata": {},
     "output_type": "execute_result"
    }
   ],
   "source": [
    "predictions[\"llovieron_hamburguesas_al_dia_siguiente\"] = y_priv_feat_pred_classes\n",
    "predictions = predictions.set_index('id')\n",
    "predictions[\"llovieron_hamburguesas_al_dia_siguiente\"] = label_encoder.inverse_transform(predictions[\"llovieron_hamburguesas_al_dia_siguiente\"])\n",
    "predictions.head()"
   ]
  },
  {
   "cell_type": "code",
   "execution_count": 40,
   "metadata": {},
   "outputs": [],
   "source": [
    "predictions.to_csv('predicciones/NeuralNetwork.csv')"
   ]
  },
  {
   "cell_type": "markdown",
   "metadata": {},
   "source": [
    "# Medimos la performance del mejor modelo sobre Test-Holdout"
   ]
  },
  {
   "cell_type": "code",
   "execution_count": 41,
   "metadata": {},
   "outputs": [
    {
     "name": "stdout",
     "output_type": "stream",
     "text": [
      "[IterativeImputer] Completing matrix with shape (11637, 62)\n",
      "[IterativeImputer] Ending imputation round 1/4, elapsed time 1.76\n",
      "[IterativeImputer] Change: 89.5925150524911, scaled tolerance: 1.0404000244140625 \n",
      "[IterativeImputer] Ending imputation round 2/4, elapsed time 3.62\n",
      "[IterativeImputer] Change: 21.23665417109282, scaled tolerance: 1.0404000244140625 \n",
      "[IterativeImputer] Ending imputation round 3/4, elapsed time 5.79\n",
      "[IterativeImputer] Change: 8.120149735392676, scaled tolerance: 1.0404000244140625 \n",
      "[IterativeImputer] Ending imputation round 4/4, elapsed time 7.80\n",
      "[IterativeImputer] Change: 7.5553024646543125, scaled tolerance: 1.0404000244140625 \n",
      "[IterativeImputer] Completing matrix with shape (11637, 62)\n",
      "[IterativeImputer] Ending imputation round 1/4, elapsed time 0.02\n",
      "[IterativeImputer] Ending imputation round 2/4, elapsed time 0.05\n",
      "[IterativeImputer] Ending imputation round 3/4, elapsed time 0.07\n",
      "[IterativeImputer] Ending imputation round 4/4, elapsed time 0.09\n"
     ]
    }
   ],
   "source": [
    "X_holdout_proc = preprocces_X_for_NeuralNetwork(X_holdout)\n",
    "y_holdout_pred_probas = model.predict(X_holdout_proc)\n",
    "y_holdout_pred_classes = np.where(y_holdout_pred_probas > 0.5, 1, 0)"
   ]
  },
  {
   "cell_type": "markdown",
   "metadata": {},
   "source": [
    "# Métricas:"
   ]
  },
  {
   "cell_type": "code",
   "execution_count": 43,
   "metadata": {},
   "outputs": [],
   "source": [
    "y_holdout = label_encoder.fit_transform(y_holdout.values.ravel())\n",
    "y_holdout = pd.DataFrame(y_holdout, columns = ['llovieron_hamburguesas_al_dia_siguiente'])"
   ]
  },
  {
   "cell_type": "code",
   "execution_count": 44,
   "metadata": {},
   "outputs": [
    {
     "data": {
      "text/plain": [
       "0.8433802737951229"
      ]
     },
     "execution_count": 44,
     "metadata": {},
     "output_type": "execute_result"
    }
   ],
   "source": [
    "f1_score(y_holdout, y_holdout_pred_classes, average='weighted')"
   ]
  },
  {
   "cell_type": "code",
   "execution_count": 45,
   "metadata": {},
   "outputs": [
    {
     "data": {
      "text/plain": [
       "0.8504769270430523"
      ]
     },
     "execution_count": 45,
     "metadata": {},
     "output_type": "execute_result"
    }
   ],
   "source": [
    "accuracy_score(y_holdout, y_holdout_pred_classes)"
   ]
  },
  {
   "cell_type": "code",
   "execution_count": 46,
   "metadata": {},
   "outputs": [
    {
     "data": {
      "image/png": "[encoded data removed]",
      "text/plain": [
       "<Figure size 864x576 with 1 Axes>"
      ]
     },
     "metadata": {
      "needs_background": "light"
     },
     "output_type": "display_data"
    },
    {
     "name": "stdout",
     "output_type": "stream",
     "text": [
      "AUC_ROC:  0.8825486167593093\n"
     ]
    }
   ],
   "source": [
    "fpr, tpr, thresholds = roc_curve(y_holdout, y_holdout_pred_probas)\n",
    "plot_roc(fpr, tpr, thresholds)\n",
    "print(\"AUC_ROC: \", roc_auc_score(y_holdout, y_holdout_pred_probas))"
   ]
  },
  {
   "cell_type": "code",
   "execution_count": null,
   "metadata": {},
   "outputs": [],
   "source": []
  }
 ],
 "metadata": {
  "kernelspec": {
   "display_name": "Python 3",
   "language": "python",
   "name": "python3"
  },
  "language_info": {
   "codemirror_mode": {
    "name": "ipython",
    "version": 3
   },
   "file_extension": ".py",
   "mimetype": "text/x-python",
   "name": "python",
   "nbconvert_exporter": "python",
   "pygments_lexer": "ipython3",
   "version": "3.8.5"
  }
 },
 "nbformat": 4,
 "nbformat_minor": 5
}
